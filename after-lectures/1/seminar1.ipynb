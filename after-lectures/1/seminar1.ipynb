{
  "nbformat": 4,
  "nbformat_minor": 0,
  "metadata": {
    "colab": {
      "name": "seminar1.ipynb",
      "provenance": [],
      "collapsed_sections": []
    },
    "kernelspec": {
      "name": "python3",
      "display_name": "Python 3"
    },
    "language_info": {
      "name": "python"
    }
  },
  "cells": [
    {
      "cell_type": "code",
      "metadata": {
        "id": "xcdD8G0UvDDV"
      },
      "source": [
        "import numpy as np"
      ],
      "execution_count": 2,
      "outputs": []
    },
    {
      "cell_type": "markdown",
      "metadata": {
        "id": "9iHAxrEfviia"
      },
      "source": [
        "$ax^2 + bx + c = 0$\n",
        "\n",
        "$x_{1,2} = \\frac{-b \\pm \\sqrt{b^2 - 4ac}}{2a}$"
      ]
    },
    {
      "cell_type": "code",
      "metadata": {
        "colab": {
          "base_uri": "https://localhost:8080/"
        },
        "id": "mcFEkgqVviM6",
        "outputId": "a777c06e-32a0-4e6a-f594-62849a0a3ec2"
      },
      "source": [
        "a = np.float32(1.)\n",
        "b = np.float32(-1000.001)\n",
        "c = np.float32(1.)\n",
        "x1 = (-b + np.sqrt(b * b - 4 * a * c, dtype=np.float32)) / (2 * a)\n",
        "x2 = (-b - np.sqrt(b * b - 4 * a * c, dtype=np.float32)) / (2 * a)\n",
        "print(x1, x2)"
      ],
      "execution_count": 70,
      "outputs": [
        {
          "output_type": "stream",
          "name": "stdout",
          "text": [
            "1000.0 0.001007080078125\n"
          ]
        }
      ]
    },
    {
      "cell_type": "code",
      "metadata": {
        "colab": {
          "base_uri": "https://localhost:8080/"
        },
        "id": "WLAzlMVNveLS",
        "outputId": "8a5c6a79-1bbf-4536-a557-732cb2a7a2a5"
      },
      "source": [
        "print(a * x1 * x1 + b * x1 + c)\n",
        "print(a * x2 * x2 + b * x2 + c)"
      ],
      "execution_count": 71,
      "outputs": [
        {
          "output_type": "stream",
          "name": "stdout",
          "text": [
            "0.0234375\n",
            "-0.007080047391355038\n"
          ]
        }
      ]
    },
    {
      "cell_type": "markdown",
      "metadata": {
        "id": "orHpi3q4yfdG"
      },
      "source": [
        "$x_1 + x_2 = - \\frac{b}{a}$\n",
        "\n",
        "$x_1x_2 = \\frac{c}{a}$"
      ]
    },
    {
      "cell_type": "code",
      "metadata": {
        "colab": {
          "base_uri": "https://localhost:8080/"
        },
        "id": "TnZ-KozqwikZ",
        "outputId": "94a47d0e-cba2-456d-e417-93fc6c6ee547"
      },
      "source": [
        "x1 = (-b + np.sqrt(b * b - 4 * a * c, dtype=np.float32)) / (2 * a)\n",
        "print(x1)\n",
        "x2 = c / x1 / a\n",
        "x1 = -b/a - x2\n",
        "print(x1, x2)\n",
        "print(a * x1 * x1 + b * x1 + c)\n",
        "print(a * x2 * x2 + b * x2 + c)"
      ],
      "execution_count": 72,
      "outputs": [
        {
          "output_type": "stream",
          "name": "stdout",
          "text": [
            "1000.0\n",
            "999.9999765625 0.001\n",
            "2.3399479687213898e-08\n",
            "2.3437500051848303e-08\n"
          ]
        }
      ]
    },
    {
      "cell_type": "markdown",
      "metadata": {
        "id": "q7nPmCDcBJYC"
      },
      "source": [
        "Let us write a little expressions for our roots\n",
        "\n",
        "$$ \\frac{1000.001 \\pm \\sqrt{1000.001^2 - 4}}{2} = \\frac{1000.001 \\pm 999.999}{2} = 1000 \\text{ and } 0.00099999999$$\n",
        "\n",
        "But if we have only **5** significant digits we have to truncate out exact answer to the form\n",
        "\n",
        "$$ \\frac{1000.001 \\pm 999.999}{2} \\approx \\frac{1000.00 \\pm 999.99}{2} =  999.95 \\text{ and } 0.005$$\n",
        "\n",
        "BUT!\n",
        "\n",
        "$$ \\frac{1}{999.95} = 0.00100005 $$\n",
        "\n",
        "is much more accurate root!"
      ]
    },
    {
      "cell_type": "markdown",
      "metadata": {
        "id": "aoRs4r1WaGyY"
      },
      "source": [
        "$$ \\sum_{n=1}^{\\infty} \\frac{1}{n^2} = \\frac{\\pi^2}{6}$$"
      ]
    },
    {
      "cell_type": "code",
      "metadata": {
        "id": "J3ktsI0Dp96J",
        "colab": {
          "base_uri": "https://localhost:8080/"
        },
        "outputId": "dadffe20-bcdd-4911-aaf8-e80c61cca66d"
      },
      "source": [
        "N = 1000000\n",
        "items = np.array([1. / n**2 for n in range(1, N+1)], dtype=np.float32)\n",
        "print(items.sum(), np.pi**2 / 6.)\n",
        "print(np.abs(items.sum() - np.pi**2 / 6.))"
      ],
      "execution_count": 56,
      "outputs": [
        {
          "output_type": "stream",
          "name": "stdout",
          "text": [
            "1.6449317 1.6449340668482264\n",
            "2.392844625331847e-06\n"
          ]
        }
      ]
    },
    {
      "cell_type": "code",
      "metadata": {
        "colab": {
          "base_uri": "https://localhost:8080/"
        },
        "id": "8ki4c38RakYR",
        "outputId": "f7634ce3-2fa7-442d-bc29-d35dda7bb5b5"
      },
      "source": [
        "val1 = np.float32(0.0)\n",
        "for i in range(items.shape[0]):\n",
        "    val1 += items[i]\n",
        "\n",
        "print(val1, np.abs(val1 - np.pi**2 / 6.))\n",
        "\n",
        "val2 = np.float32(0.0)\n",
        "for i in range(items.shape[0]-1, -1, -1):\n",
        "    val2 += items[i]\n",
        "\n",
        "print(val2, np.abs(val2 - np.pi**2 / 6.))"
      ],
      "execution_count": 57,
      "outputs": [
        {
          "output_type": "stream",
          "name": "stdout",
          "text": [
            "1.6447253 0.0002087441248377342\n",
            "1.644933 1.0815424402732532e-06\n"
          ]
        }
      ]
    }
  ]
}