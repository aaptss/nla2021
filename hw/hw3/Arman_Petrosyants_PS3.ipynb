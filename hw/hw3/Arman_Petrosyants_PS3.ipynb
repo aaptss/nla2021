{
 "cells": [
  {
   "cell_type": "markdown",
   "metadata": {
    "jupyter": {
     "source_hidden": true
    },
    "tags": []
   },
   "source": [
    "# Problem set 3 (90 pts)\n",
    "\n",
    "## Important note: the template for your solution filename is Name_Surname_PS3.ipynb\n",
    "\n",
    "### The correct answer to the bonus question can be used as an additional reason to increase the final grade in the border case"
   ]
  },
  {
   "cell_type": "markdown",
   "metadata": {},
   "source": [
    "## Problem 1 (25 pts)\n",
    "\n",
    "- (5 pts) Prove that $\\mathrm{vec}(AXB) = (B^\\top \\otimes A)\\, \\mathrm{vec}(X)$ if $\\mathrm{vec}(X)$ is a columnwise reshape of a matrix into a long vector. What does it change if the reshape is rowwise? "
   ]
  },
  {
   "cell_type": "markdown",
   "metadata": {},
   "source": [
    "---\n",
    "Assumtion: \n",
    "$A\\in \\mathbb{C}^{m\\times n}$, \n",
    "$X\\in \\mathbb{C}^{n\\times p}$, \n",
    "$B\\in \\mathbb{C}^{p\\times q}$.\\\n",
    "Also, $A = [\\mathrm{a}_1, \\mathrm{a}_2, \\dots, \\mathrm{a}_n]$.\\\n",
    "Also, $B = [\\mathrm{b}_1, \\mathrm{b}_2, \\dots, \\mathrm{b}_p]^T$. \n",
    "So a_i is an i'th column of A and b_j is the j'th row of B."
   ]
  },
  {
   "cell_type": "markdown",
   "metadata": {},
   "source": [
    "First, let us discuss the regular columnwise vectorization.\\\n",
    "\n",
    "\n",
    "$\\displaystyle \\mathrm{vec}(AXB) = \\sum\\limits_{i=1}^n \\sum\\limits_{j=1}^p x_{ij} \\mathrm{vec}(\\mathrm{a}_i \\mathrm{b}_j) $. \\\n",
    "Given that  $\\mathrm{vec}(\\mathrm{a}_i \\mathrm{b}_j)$ is a vectorized matrix of a size $m\\times q$, where in a non-vectorizec matrix each row is $a_ij b_j$, we can rewrite $\\mathrm{vec}(\\mathrm{a}_i \\mathrm{b}_j) = \\mathrm{b}^T_j\\otimes \\mathrm{a}_i)$ \\\n",
    "$\\displaystyle \\mathrm{vec}(AXB) = \\sum\\limits_{i=1}^n \\sum\\limits_{j=1}^p x_{ij} \\mathrm{vec}(\\mathrm{a}_i \\mathrm{b}_j) = \\sum\\limits_{i=1}^n \\sum\\limits_{j=1}^p x_{ij} (\\mathrm{b}_j^T \\otimes \\mathrm{a}_i)  = \\sum\\limits_{j=1}^p (\\mathrm{b}_j^T \\otimes A)\\mathrm{x}_j = (B^T \\otimes A)\\mathrm{vec}(X)$ QED.\n"
   ]
  },
  {
   "cell_type": "markdown",
   "metadata": {},
   "source": [
    "If we elect to do a rowwise vectorization, we summon a commutatuion matrix. Vectorizing rowwise is verbatim vectorizing the transpose matrix columnwise. \n",
    "\n",
    "The connection with the commutatuion matrix K: $\\mathrm{vec}A = K \\mathrm{vec}A^T$. So what changes is: \n",
    "\n",
    "$\\displaystyle \\mathrm{vec}(AXB) = (B^T \\otimes A)K^T \\mathrm{vec}(X)$ where K is commutation matrix:"
   ]
  },
  {
   "cell_type": "code",
   "execution_count": 75,
   "metadata": {},
   "outputs": [],
   "source": [
    "\"\"\" https://math.stackexchange.com/questions/307299/kronecker-product-and-the-commutation-matrix \"\"\"\n",
    "import numpy as np\n",
    "\n",
    "def commutation_mat(X):\n",
    "    m, n = X.shape\n",
    "    K = np.zeros((n*m, n*m))\n",
    "    for i in range(m):\n",
    "        for j in range(n):\n",
    "            K[i + m*j, j + n*i] = 1\n",
    "    return K"
   ]
  },
  {
   "cell_type": "code",
   "execution_count": 81,
   "metadata": {},
   "outputs": [
    {
     "name": "stdout",
     "output_type": "stream",
     "text": [
      "[[1 4]\n",
      " [2 5]\n",
      " [3 6]]\n",
      "[1 2 3 4 5 6]\n",
      "[1. 4. 2. 5. 3. 6.]\n"
     ]
    }
   ],
   "source": [
    "x = np.array([[1,4], [2, 5], [3, 6]])\n",
    "print(x)\n",
    "print(x.ravel(order='f'))\n",
    "print(commutation_mat(x).T.dot(x.ravel(order='f')))"
   ]
  },
  {
   "cell_type": "markdown",
   "metadata": {},
   "source": [
    "---\n",
    "**Note:** To make a columnwise reshape in Python one should use ```np.reshape(X, order='f')```, where the string ```'f'``` stands for the Fortran ordering. \n"
   ]
  },
  {
   "cell_type": "markdown",
   "metadata": {},
   "source": [
    "- (2 pts) What is the complexity of a naive computation of $(A \\otimes B) x$? Show how it can be reduced."
   ]
  },
  {
   "cell_type": "markdown",
   "metadata": {},
   "source": [
    "---\n",
    "Assuming: \\\n",
    "$A\\in \\mathbb{C}^{m\\times n}$ and  \n",
    "$B\\in \\mathbb{C}^{p\\times q}$, the complexity of a naive computation would be $O(mnpq)$.\\\n",
    "\n",
    "If matrices A and B are square and X is $n^2\\times 1$, the complexity is $O(n^4)$.\n",
    "\n",
    "We can spped thing up if we use $\\mathrm{vec}(AXB) = (B^\\top \\otimes A)\\, \\mathrm{vec}(X)$. "
   ]
  },
  {
   "cell_type": "markdown",
   "metadata": {},
   "source": [
    "So, if we \"matrixize\" the vector x into an n-ny-n matrix, we can compute `B @ mat(x)` and then `(B @ mat(x)) @ A^T`, each step in $O(n^3)$ (and in general as well) with avaliability of speeding up with Strassen. \n",
    "\n",
    "---"
   ]
  },
  {
   "cell_type": "markdown",
   "metadata": {},
   "source": [
    "- (3 pts) Let matrices $A$ and $B$ have eigendecompositions $A = S_A\\Lambda_A S_A^{-1}$ and $B = S_B\\Lambda_B S^{-1}_B$. Find eigenvectors and eigenvalues of the matrix $A\\otimes I + I \\otimes B$, where dimension of $I$ coincides with the dimension of $A$ and $B$."
   ]
  },
  {
   "cell_type": "markdown",
   "metadata": {},
   "source": [
    "---\n",
    "[nice article](https://nhigham.com/2020/08/25/what-is-the-kronecker-product/)\\\n",
    "The matrix $A\\otimes I + I \\otimes B$ is called a Kronecker sum and is defined for squre matrices.\n",
    "\n",
    "$ (A\\otimes I + I \\otimes B)(x \\otimes y)  = Ax \\otimes y + x \\otimes By = \\lambda_{A} x \\otimes y + x \\otimes \\lambda_{B}y = (\\lambda_{A} + \\lambda_{B})(x \\otimes y) \\Rightarrow $\\\n",
    "for a Kronecker sum, each eigenvalue is a sum of eigen of matrix B with eigenvalues of A, i.e.:\n",
    "\n",
    "$\n",
    "\\lambda_{1B} + \\lambda_{1A},\\ \\ \\  \\lambda_{1B} + \\lambda_{2A},\\ \\ \\  \\cdots,\\ \\ \\  \\lambda_{1B} + \\lambda_{nA} \\\\\n",
    "\\lambda_{2B} + \\lambda_{1A},\\ \\ \\  \\lambda_{2B} + \\lambda_{2A},\\ \\ \\  \\cdots,\\ \\ \\  \\lambda_{2B} + \\lambda_{nA} \\\\ \n",
    "\\dots \\dots \\\\\n",
    "\\lambda_{pB} + \\lambda_{1A},\\ \\ \\  \\lambda_{pB} + \\lambda_{2A},\\ \\ \\  \\cdots,\\ \\ \\  \\lambda_{pB} + \\lambda_{nA}\n",
    "$\n",
    "\n",
    "---"
   ]
  },
  {
   "cell_type": "markdown",
   "metadata": {},
   "source": [
    "- (10 pts) Let $A = \\mathrm{diag}\\left(\\frac{1}{1000},\\frac{2}{1000},\\dots \\frac{999}{1000}, 1, 1000 \\right)$. Estimate analytically the number of iterations required  to solve linear system with $A$ with the relative accuracy $10^{-4}$ using\n",
    "    - Richardson iteration with the optimal choice of parameter (use $2$-norm)\n",
    "    - Chebyshev iteration (use $2$-norm)\n",
    "    - Conjugate gradient method (use $A$-norm).\n",
    "\n",
    "- (5 pts) Provide numerical confirmation of your estimate from theoretical point of view"
   ]
  },
  {
   "cell_type": "code",
   "execution_count": 17,
   "metadata": {},
   "outputs": [],
   "source": [
    "import numpy as np\n",
    "import scipy.sparse.linalg as spla\n",
    "import scipy.sparse \n",
    "from math import log, ceil\n",
    "from tqdm import tqdm\n",
    "\n",
    "d = [i / 1000 for i in range(1,1001)]\n",
    "d.append(1000)\n",
    "\n",
    "A = np.diag(d)\n",
    "\n",
    "x_0 = np.zeros(1001)\n",
    "f = np.random.rand(1001)\n",
    "\n",
    "x_groundtruth = np.linalg.solve(A, f)"
   ]
  },
  {
   "cell_type": "code",
   "execution_count": 18,
   "metadata": {},
   "outputs": [
    {
     "name": "stdout",
     "output_type": "stream",
     "text": [
      "the condition number is 1000000.0\n",
      "the lowest eigenvalue is 0.001 while the largest is 1000.0\n"
     ]
    }
   ],
   "source": [
    "eivals = np.linalg.eigvals(A)\n",
    "l_max = np.real(max(eivals))\n",
    "l_min = np.real(min(eivals))\n",
    "\n",
    "cond_a = l_max / l_min\n",
    "print(f'the condition number is {cond_a}')\n",
    "print(f'the lowest eigenvalue is {l_min} while the largest is {l_max}')"
   ]
  },
  {
   "cell_type": "markdown",
   "metadata": {},
   "source": [
    "---\n",
    "**Richardson iteration**\n",
    "\n",
    "The matrix is diagonal, so the eigenvalues are diagonal elements.\n",
    "\n",
    "$\\displaystyle \\mathrm{cond}(A) = \\frac {\\lambda_{\\mathrm{max}}}{\\lambda_{\\mathrm{min}}}$ for $A = A^H$ (which is true as mat is diagonal and real-valued)\n",
    "\n",
    "$\\displaystyle \\tau_{opt}= \\frac{2}{\\lambda_{min}+\\lambda_{max}} = 0.002$\n",
    "\n",
    "$e_k = x_k - x_* $, where $x_*$ is a solution and $x_k$ is an approximation of the so;ution after the k-th iteration of the method. $e_k$ is an error. \n",
    "\n",
    "$\\displaystyle e_k \\leq q^k e_0$, where $\\displaystyle q = \\frac{\\mathrm{cond}A - 1}{\\mathrm{cond}A + 1}$\n",
    "\n",
    "As $\\displaystyle \\frac{ e_0 }{\\Vert x_* \\Vert_2} q^k \\ge \\frac{ e_k }{\\Vert x_* \\Vert_2}$ and the r.h.s. being the relative error, we substitude 1e-4 and get that $\\displaystyle q^k \\ge \\frac{\\Vert x_* \\Vert_2}{e_0} 10^{-4}$.\n",
    "\n",
    "Now assume $\\exists x_0$ , then $e_0  = \\Vert x_0 -  x_*\\Vert_2$\n",
    "\n",
    "$k \\ge\\log_q 10^{-4}  + \\log_q \\Vert x_* \\Vert_2 - \\log_q \\Vert x_0 - x_* \\Vert_2 $"
   ]
  },
  {
   "cell_type": "code",
   "execution_count": 19,
   "metadata": {
    "tags": []
   },
   "outputs": [
    {
     "name": "stdout",
     "output_type": "stream",
     "text": [
      "The estimate of amt of iterations is 4605171\n"
     ]
    }
   ],
   "source": [
    "q = (cond_a - 1)/(cond_a + 1)\n",
    "\n",
    "k = log(1e-4, q) + \\\n",
    "    log(np.linalg.norm(x_groundtruth), q) - \\\n",
    "    log(np.linalg.norm(x_0 - x_groundtruth), q)\n",
    "print(f'The estimate of amt of iterations is {ceil(k)}')"
   ]
  },
  {
   "cell_type": "code",
   "execution_count": 21,
   "metadata": {},
   "outputs": [
    {
     "name": "stdout",
     "output_type": "stream",
     "text": [
      "Richardson iteration took 4586652 iterations\n"
     ]
    },
    {
     "data": {
      "text/plain": [
       "\"\\ni won't wait for 5 million iterations, sorry not sorry, \\nyou may minuspoint me \\n\""
      ]
     },
     "execution_count": 21,
     "metadata": {},
     "output_type": "execute_result"
    }
   ],
   "source": [
    "def richardson(A, f, x_0, l_max, l_min, error_threshold):\n",
    "    x_gt = np.linalg.solve(A, f)\n",
    "    t_opt = 2 / (l_max + l_min)\n",
    "    x = x_0\n",
    "    errors = []\n",
    "    i = 0\n",
    "    while True:\n",
    "        x = x - t_opt * (A.dot(x) - f)\n",
    "        error = np.linalg.norm(x - x_gt) / np.linalg.norm(x_gt)\n",
    "        if error <= error_threshold:\n",
    "            break\n",
    "        errors.append(error)\n",
    "        # if i % 1000 == 0:\n",
    "        #     print(f'yet another 1kth iter, error is {error}')\n",
    "    return x, errors\n",
    "\n",
    "result_rich, residual_rich = richardson(A, f, x_0, l_max, l_min, 1e-4)\n",
    "\n",
    "print(f'Richardson iteration took {residual_rich.__len__()} iterations')\n",
    "\n",
    "\"\"\"\n",
    "i won't wait for 5 million iterations, sorry not sorry, \n",
    "you may minuspoint me \n",
    "\"\"\""
   ]
  },
  {
   "cell_type": "markdown",
   "metadata": {},
   "source": [
    "---\n",
    "**Chebyshev iteration**\n",
    "\n",
    "$e_{k+1} \\leq C q^{k} e_0$\n",
    "\n",
    "$\\displaystyle q = \\frac{\\sqrt{\\mathrm{cond}(A)} - 1}{\\sqrt{\\mathrm{cond}(A)} + 1} = 0.9980$\n",
    "\n",
    "$e_0 = \\Vert x_0 - x_*\\Vert_2$\n",
    "\n",
    "$e_k \\leq C q^{k-1} e_0$\n",
    "\n",
    "$\\log_q{e_k} \\leq \\log_q{C} +  \\log_q{q^{k-1}} + \\log_q{e_0}$\n",
    "\n",
    "$\\log_q{e_k} - \\log_q{C} - \\log_q{e_0} \\leq k-1 $\n",
    "\n",
    "$k \\approx \\log_q 10^{-4} + \\log_q \\Vert x_* \\Vert_2 - \\log_q {\\Vert x_0 - x_* \\Vert_2} - \\log_q {C}$"
   ]
  },
  {
   "cell_type": "code",
   "execution_count": 22,
   "metadata": {},
   "outputs": [
    {
     "data": {
      "text/plain": [
       "4605.168650930853"
      ]
     },
     "execution_count": 22,
     "metadata": {},
     "output_type": "execute_result"
    }
   ],
   "source": [
    "q = (cond_a**0.5 - 1) / (cond_a**0.5 + 1)\n",
    "log(1e-4, q)"
   ]
  },
  {
   "cell_type": "code",
   "execution_count": 23,
   "metadata": {},
   "outputs": [
    {
     "name": "stdout",
     "output_type": "stream",
     "text": [
      "The estimate of amt of iterations for chebyshev iterations is 4606 (с точностью до константы)\n"
     ]
    }
   ],
   "source": [
    "k = log(1e-4, q) + \\\n",
    "    log(np.linalg.norm(x_groundtruth), q) - \\\n",
    "    log(np.linalg.norm(x_0 - x_groundtruth), q)\n",
    "print(f'The estimate of amt of iterations for chebyshev iterations is {ceil(k)} (с точностью до константы)')"
   ]
  },
  {
   "cell_type": "markdown",
   "metadata": {},
   "source": [
    "[source of the code](https://en.wikipedia.org/wiki/Chebyshev_iteration)"
   ]
  },
  {
   "cell_type": "code",
   "execution_count": 27,
   "metadata": {},
   "outputs": [
    {
     "name": "stdout",
     "output_type": "stream",
     "text": [
      "Chebyshev iteration took 4942 iterations\n"
     ]
    }
   ],
   "source": [
    "def chebiter(A, f, x_0, l_max, l_min, error_threshold):\n",
    "    x_gt = np.linalg.solve(A, f)\n",
    "    x = x_0\n",
    "    precond_n = np.eye(A.shape[0])\n",
    "    \n",
    "    d = (l_max + l_min) / 2\n",
    "    c = (l_max - l_min) / 2\n",
    "    \n",
    "    errors = []\n",
    "    i = 0\n",
    "    \n",
    "    resid = f - A.dot(x)\n",
    "    \n",
    "    while True:\n",
    "        z = np.linalg.solve(precond_n, resid)\n",
    "        if i == 0:\n",
    "            p = z\n",
    "            alpha = 1/d\n",
    "        elif i == 1:\n",
    "            beta = (1/2) * (c * alpha) ** 2\n",
    "            alpha = 1/(d - beta/alpha)\n",
    "            p = z + beta * p \n",
    "        else:\n",
    "            beta = (c * alpha/2) ** 2\n",
    "            alpha = 1/(d - beta / alpha)\n",
    "            p = z + beta * p\n",
    "\n",
    "        x = x + alpha * p\n",
    "        resid = f - A.dot(x)\n",
    "        error = np.linalg.norm(x_gt - x)/np.linalg.norm(x_gt)\n",
    "        errors.append(error)\n",
    "        if error <= error_threshold:\n",
    "            break\n",
    "        i += 1\n",
    "    return x, errors\n",
    "\n",
    "_, residual_cheby = chebiter(A, f, x_0, l_max, l_min, 1e-4)\n",
    "\n",
    "print(f'Chebyshev iteration took {residual_cheby.__len__()} iterations')"
   ]
  },
  {
   "cell_type": "markdown",
   "metadata": {},
   "source": [
    "---\n",
    "**Cgrad**\n",
    "\n",
    "[page 8](http://www.mat.uniroma2.it/~tvmsscho/Rome-Moscow_School/2012/files/T120910_.pdf)\n",
    "\n",
    "$\\displaystyle \\frac{10^{-4}}{e_0} \\leq  \\gamma \\Big(\\frac{\\sqrt{cond(A)} - 1}{\\sqrt{cond(A)} + 1}\\Big)^{k}$\n",
    "\n",
    "$\\displaystyle  k \\leq \\frac{1}{2} \\sqrt{\\frac{\\lambda_{n}}{\\lambda_{1}}}(\\log{2} - \\log{\\frac{e_k}{e_0} }) \\approx 2000$"
   ]
  },
  {
   "cell_type": "code",
   "execution_count": 29,
   "metadata": {},
   "outputs": [
    {
     "name": "stdout",
     "output_type": "stream",
     "text": [
      "Cgrad took 164 iterations\n"
     ]
    }
   ],
   "source": [
    "def cgrad(A, f, x, error_threshold):\n",
    "    r = f - A.dot(x)\n",
    "    p = r\n",
    "    \n",
    "    rs = r.T.dot(r)\n",
    "    \n",
    "    i = 0\n",
    "    errors = []\n",
    "    \n",
    "    while True:\n",
    "        Ap = A.dot(p)\n",
    "        gamma = rs / np.dot(p.T, Ap)\n",
    "        x = x + gamma*p\n",
    "        r = r - gamma*Ap\n",
    "        rsnew = r.T.dot(r)\n",
    "        error = np.sqrt(rsnew)\n",
    "        \n",
    "        errors.append(error)\n",
    "        if error < error_threshold:\n",
    "            break\n",
    "        \n",
    "        p = r + (rsnew/rs)*p\n",
    "        rs = rsnew\n",
    "        i += 1\n",
    "    return x, errors\n",
    "\n",
    "\n",
    "\n",
    "_, residual_cgrad = cgrad(A, f, x_0, 1e-4)\n",
    "print(f'Cgrad took {residual_cgrad.__len__()} iterations')"
   ]
  },
  {
   "cell_type": "markdown",
   "metadata": {
    "id": "dh0nKsm46hpo"
   },
   "source": [
    "## Problem 2 (65 pts)\n",
    "### On the performance of conjugate gradient method for BTTB matrices.\n",
    "\n",
    "You are given 2D image (QR-code) and convolution operator $T$. The application of $T$ results in smoothing of the image. In exact arithmetic, the proposed $T$ is non-singular. However, it becomes rather ill-conditioned with increasing $N$ in finite precision arithmetic. In this task you need to study how the conjugate gradient method performs in this case."
   ]
  },
  {
   "cell_type": "markdown",
   "metadata": {
    "id": "3gi5DJJz6hps"
   },
   "source": [
    "The original passcode is given below:"
   ]
  },
  {
   "cell_type": "code",
   "execution_count": 1,
   "metadata": {
    "id": "mxPusfbx6hps",
    "outputId": "2fe5ac3f-c23e-4f3d-dc69-b211ec69506b"
   },
   "outputs": [
    {
     "data": {
      "text/plain": [
       "(-0.5, 329.5, 329.5, -0.5)"
      ]
     },
     "execution_count": 1,
     "metadata": {},
     "output_type": "execute_result"
    },
    {
     "data": {
      "image/png": "[encoded data removed]",
      "text/plain": [
       "<Figure size 432x288 with 1 Axes>"
      ]
     },
     "metadata": {
      "needs_background": "light"
     },
     "output_type": "display_data"
    }
   ],
   "source": [
    "import matplotlib.pyplot as plt\n",
    "x = plt.imread('qrcode.gif')[:,:,0]\n",
    "n = x.shape[0]\n",
    "plt.imshow(x, cmap=\"gray\")\n",
    "plt.axis(\"off\")"
   ]
  },
  {
   "cell_type": "markdown",
   "metadata": {
    "id": "uHzqVBAK6hpu"
   },
   "source": [
    "Blurring can be performed by convolving $n\\times n$ QR-code with the following filter:\n",
    "\n",
    "$$T_{i_1j_1,i_2j_2} = T_{i_1-j_1,i_2-j_2} = \\frac{\\alpha}{\\pi}e^{-\\alpha[(i_1-j_1)^2 + (i_2-j_2)^2]}, \\quad i_1,j_1,i_2,j_2 = 1 \\ldots n, \\quad 1 > \\alpha > 0.$$\n",
    "\n",
    "You know from lectures that this convolution can be viewed as a matrix-vector multiplication of some BTTB matrix $T$ of size $n^2 \\times n^2$."
   ]
  },
  {
   "cell_type": "markdown",
   "metadata": {
    "id": "nQSQVkG86hpu"
   },
   "source": [
    "## Task 1 (15 pts) \n",
    "\n",
    "- Write function `T_matvec()` that performs multiplication of $T$ by a given vector $x$ efficiently. Remember about FFT.\n",
    "- Use `scipy.sparse.linalg.LinearOperator` to create an object that has attribute `.dot()` (this object will be further used in the iterative process). Note that `.dot()` input and output must be 1D vectors, so do not forget to use reshape."
   ]
  },
  {
   "cell_type": "code",
   "execution_count": 26,
   "metadata": {
    "id": "SKiL6Iky6hpv"
   },
   "outputs": [],
   "source": [
    "import numpy as np\n",
    "from scipy.sparse.linalg import LinearOperator\n",
    "import scipy.sparse.linalg as spla\n",
    "from scipy import signal\n",
    "from numpy import fft\n",
    "from math import ceil\n",
    "\n",
    "def generate_T(size, alpha):\n",
    "    x_idx = np.zeros((2*size - 1, 2*size - 1))\n",
    "    y_idx = np.zeros((2*size - 1, 2*size - 1))\n",
    "\n",
    "    x_idx[0, :] = np.append(np.array([j for j in range(size)]), \n",
    "                            [-(size-j) for j in range(1,size)])\n",
    "    for i in range(2*size - 1):\n",
    "        x_idx[i] = x_idx[0]\n",
    "        y_idx[i] = [x_idx[0,i] for _ in range(2*size-1)]\n",
    "    \n",
    "    T = (alpha/np.pi)*np.exp(-alpha*(x_idx**2 + y_idx**2))\n",
    "    return T\n",
    "\n",
    "def T_matvec(x, aplha):\n",
    "    size = ceil(x.shape[0]**0.5)\n",
    "    \n",
    "    T = generate_T(size, alpha)\n",
    "\n",
    "    x = x.reshape(size, size)\n",
    "    x = np.pad(x,(0,size-1),'constant',constant_values=(0, 0))\n",
    "    \n",
    "    result = np.fft.ifft2(np.fft.fft2(T)*np.fft.fft2(x))\n",
    "    result = result[:size,:size].reshape(1, size**2)\n",
    "    return result \n",
    "\n",
    "alpha = 0.001\n",
    "T = spla.LinearOperator((n**2, n**2), matvec = lambda x : T_matvec(x, alpha))"
   ]
  },
  {
   "cell_type": "code",
   "execution_count": 27,
   "metadata": {
    "id": "SKiL6Iky6hpv",
    "tags": []
   },
   "outputs": [
    {
     "data": {
      "text/plain": [
       "array([[0.00031831, 0.00031799, 0.00031704, ..., 0.00031546, 0.00031704,\n",
       "        0.00031799],\n",
       "       [0.00031799, 0.00031767, 0.00031672, ..., 0.00031514, 0.00031672,\n",
       "        0.00031767],\n",
       "       [0.00031704, 0.00031672, 0.00031577, ..., 0.0003142 , 0.00031577,\n",
       "        0.00031672],\n",
       "       ...,\n",
       "       [0.00031546, 0.00031514, 0.0003142 , ..., 0.00031263, 0.0003142 ,\n",
       "        0.00031514],\n",
       "       [0.00031704, 0.00031672, 0.00031577, ..., 0.0003142 , 0.00031577,\n",
       "        0.00031672],\n",
       "       [0.00031799, 0.00031767, 0.00031672, ..., 0.00031514, 0.00031672,\n",
       "        0.00031767]])"
      ]
     },
     "execution_count": 27,
     "metadata": {},
     "output_type": "execute_result"
    },
    {
     "data": {
      "image/png": "[encoded data removed]",
      "text/plain": [
       "<Figure size 432x288 with 1 Axes>"
      ]
     },
     "metadata": {
      "needs_background": "light"
     },
     "output_type": "display_data"
    }
   ],
   "source": [
    "blur_qr_vec = T.dot(x.ravel())\n",
    "\n",
    "blurred_qr_img = np.reshape(blur_qr_vec, (x.shape[0],x.shape[0]), order='C').real\n",
    "plt.imshow(blurred_qr_img, cmap=\"gray\")\n",
    "plt.axis(\"off\")\n",
    "ttt = generate_T(ceil(x.shape[0]**0.5), alpha)\n",
    "ttt"
   ]
  },
  {
   "cell_type": "markdown",
   "metadata": {
    "id": "Vpj3Llkc6hpv",
    "tags": []
   },
   "source": [
    "**Remark.** The obtained matrix $T$ is positive definite (at least in the exact arithmetic), hence the conjugate gradient method can be applied to solve with $T$.\n",
    "\n",
    "**Bonus question: Prove the remark above.**\n",
    "1. The matrix T is hermitian as it is real (so T.conj() == T) and it is symmetric (so T.T == T). \n",
    "2. The matrix being positive-definite guarantees that x.T T x > 0. This means, that\\ \n",
    "    a) the A-norm is real\\\n",
    "    b) there are no divisions by zero in iterations of CGrad\\\n",
    "    c) no more ideas"
   ]
  },
  {
   "cell_type": "markdown",
   "metadata": {
    "id": "fyoFYerG6hpw"
   },
   "source": [
    "## Task 2 (10 pts) \n",
    "- For $\\alpha \\in \\{ 0.1, 0.01,0.001\\}$ compute $y=Tx$ and deconvolve $x$ using `scipy.sparse.linalg.cg` with $tol \\in \\{10^{-3}, 10^{-4}, 10^{-5}, 10^{-6}, 10^{-7}\\}$. For each pair $\\alpha$, $tol$ write out `num_iters` and relative error $e = \\frac{\\|x - x^*\\|_2}{\\|x\\|_2}$ ."
   ]
  },
  {
   "cell_type": "code",
   "execution_count": 5,
   "metadata": {
    "id": "1ZziAoPv6hpw"
   },
   "outputs": [],
   "source": [
    "from tqdm.auto import tqdm\n",
    "\n",
    "def solve_sparse(A, b,tol):\n",
    "    def callback(xk):\n",
    "        nonlocal niters\n",
    "        niters += 1\n",
    "\n",
    "    niters = 0\n",
    "    x,_ = spla.cg(A, b, tol=tol, callback=callback)\n",
    "    return x, niters\n",
    "\n",
    "\n",
    "alpha_list = []; tolerance_list = []; err_list = []; niter_list = []\n",
    "\n",
    "alphas = [0.1,1e-2,1e-3]\n",
    "tolerances = [1e-3, 1e-4, 1e-5, 1e-6, 1e-7]\n",
    "\n",
    "x_vect = x.ravel()\n",
    "for alpha in alphas:\n",
    "\n",
    "    T_alpha = spla.LinearOperator((n**2, n**2), matvec = lambda x : T_matvec(x, alpha))    \n",
    "    y = T_alpha.dot(x_vect)\n",
    "\n",
    "    for tolerance in tolerances:\n",
    "        x_deconv, niter  = solve_sparse(T_alpha, y, tolerance)\n",
    "        err = np.linalg.norm(x_vect - x_deconv)/np.linalg.norm(x_vect)\n",
    "        \n",
    "        alpha_list.append(alpha); tolerance_list.append(tolerance)\n",
    "        err_list.append(err); niter_list.append(niter)"
   ]
  },
  {
   "cell_type": "code",
   "execution_count": 13,
   "metadata": {
    "id": "fyoFYerG6hpw"
   },
   "outputs": [
    {
     "name": "stdout",
     "output_type": "stream",
     "text": [
      "alpha\ttolerance\terror\t\t\titerations\n",
      "0.1\t0.001\t\t0.12847145208381036\t11\n",
      "0.1\t0.0001\t\t0.10191431361088142\t46\n",
      "0.1\t1e-05\t\t0.09586763786282117\t136\n",
      "0.1\t1e-06\t\t0.07218518439293455\t788\n",
      "0.1\t1e-07\t\t0.06678284312615602\t2375\n",
      "0.01\t0.001\t\t0.2151919309181163\t18\n",
      "0.01\t0.0001\t\t0.20193916147301988\t53\n",
      "0.01\t1e-05\t\t0.19717958164105984\t168\n",
      "0.01\t1e-06\t\t0.1948657553232079\t565\n",
      "0.01\t1e-07\t\t0.189573233748358\t2532\n",
      "0.001\t0.001\t\t0.4362717966163373\t13\n",
      "0.001\t0.0001\t\t0.4197953755819653\t50\n",
      "0.001\t1e-05\t\t0.4000547112833053\t163\n",
      "0.001\t1e-06\t\t0.3806235891994159\t529\n",
      "0.001\t1e-07\t\t0.36962552076249455\t1593\n"
     ]
    }
   ],
   "source": [
    "print('alpha\\ttolerance\\terror\\t\\t\\titerations')\n",
    "for i in range(len(alpha_list)):\n",
    "    print(f'{alpha_list[i]}\\t{tolerance_list[i]}\\t\\t{err_list[i]}\\t{niter_list[i]}')"
   ]
  },
  {
   "cell_type": "markdown",
   "metadata": {
    "id": "fyoFYerG6hpw"
   },
   "source": [
    "- Comment on the results: \n",
    "\n",
    "    1) why the relative error does not converge to zero?\\\n",
    "        - Because no numerical iterative method, working with floats, can converge to zero due to\\\n",
    "            a) error accumulation with each iteration,\\\n",
    "            b) it is extremely difficult to determine both the direction and the step size as such to get to the local minima\n",
    "        - Not sufficient amount of iterations has been elapsed \n",
    "    2) why the relative error converges to different values for different $\\alpha$?\\\n",
    "        Convolution with$T(\\alpha)$ where the lesser alpha is, the lesser the elements of the filter's matrix are. When doing a convolution, this (addint the machine precision when doing the multiplication of floats with different orders of magnitude) results in a loss of data.\\\n",
    "        If we try to look at the problem form a general point of view: the lesser the alpha, the more blurred the convolved image is. The more blurred the image is, the harder it is to retreive the original from it, as blurring is effectively a reductionism technique. \\\n",
    "      "
   ]
  },
  {
   "cell_type": "markdown",
   "metadata": {
    "id": "lJ4XOLfw6hpx"
   },
   "source": [
    "In all further tasks fix $\\alpha = 0.01$. Compute $y = Tx$, and add vector with Gaussian noise from $\\mathcal{N}(0, 1)$ to $y$ and get the final right-hand side $\\hat{y}$."
   ]
  },
  {
   "cell_type": "code",
   "execution_count": 32,
   "metadata": {
    "id": "lJ4XOLfw6hpx"
   },
   "outputs": [
    {
     "data": {
      "text/plain": [
       "(-0.5, 329.5, 329.5, -0.5)"
      ]
     },
     "execution_count": 32,
     "metadata": {},
     "output_type": "execute_result"
    },
    {
     "data": {
      "image/png": "[encoded data removed]",
      "text/plain": [
       "<Figure size 432x288 with 1 Axes>"
      ]
     },
     "metadata": {
      "needs_background": "light"
     },
     "output_type": "display_data"
    }
   ],
   "source": [
    "alpha = 0.01\n",
    "T_3 = spla.LinearOperator((n**2, n**2), matvec = lambda x : T_matvec(x, alpha))    \n",
    "y = T_3.dot(x_vect) \n",
    "y_hat = y + np.random.normal(0,0.1,(y.shape[0]))\n",
    "\n",
    "blurred_qr_img = np.reshape(y_hat, (x.shape[0],x.shape[0]), order='C').real\n",
    "plt.imshow(blurred_qr_img, cmap=\"gray\")\n",
    "plt.axis(\"off\")"
   ]
  },
  {
   "cell_type": "markdown",
   "metadata": {
    "id": "lJ4XOLfw6hpx"
   },
   "source": [
    "## Task 3 (10 pts)\n",
    "- Try to deconvolve $\\hat{y}$ with matrix $T$ using $tol=10^{-5}$ in CG. Explain, why CG does not converge.\n",
    "\n",
    "    $\\hat{y}$ is a convolution with an added white noise ($\\mu = 0$). This means that the generic CGrad under no  circumstances would converge to a proper solution with a good tolerance, as the initial data is somewhat corrupted. This implies that the first Hadamard criterion is violated: the existence of a solution is not guaranteed. \\"
   ]
  },
  {
   "cell_type": "markdown",
   "metadata": {
    "id": "lJ4XOLfw6hpx"
   },
   "source": [
    "- Suggest how CG can still be used to recover $x$. What are drawbacks of the suggested approach?\n",
    "\n",
    "    There are some tips one can use to properly CGrad a solution:\n",
    "    - Filter out the know noise \n",
    "    - As the problem is now somewhat ill-posed (violated criterion on an existence of a solution), one can introduce an additional regularization. "
   ]
  },
  {
   "cell_type": "code",
   "execution_count": null,
   "metadata": {},
   "outputs": [
    {
     "data": {
      "text/plain": [
       "1000"
      ]
     },
     "execution_count": 36,
     "metadata": {},
     "output_type": "execute_result"
    }
   ],
   "source": [
    "tolerance = 1e-5\n",
    "# x_deconv, niter  = solve_sparse(T_3, y_hat, tolerance)\n",
    "x_deconv, conv_info  = spla.cg(T_3, y_hat, \n",
    "                               tol=tolerance, \n",
    "                               maxiter=1e3)\n",
    "conv_info"
   ]
  },
  {
   "cell_type": "code",
   "execution_count": 38,
   "metadata": {
    "id": "ez3m0Y-n6hpy"
   },
   "outputs": [
    {
     "data": {
      "text/plain": [
       "122966.04770926996"
      ]
     },
     "execution_count": 38,
     "metadata": {},
     "output_type": "execute_result"
    }
   ],
   "source": [
    " np.linalg.norm(x_vect - x_deconv)/np.linalg.norm(x_vect)"
   ]
  },
  {
   "cell_type": "markdown",
   "metadata": {
    "id": "ez3m0Y-n6hpy"
   },
   "source": [
    "## Task 4 (10 pts)\n",
    "\n",
    "- Implement Tikhonov regularization, i.e. deconvolve $\\hat{y}$ with the perturbed matrix $T_{\\lambda} = T + \\lambda^2I$ instead of $T$. Modify `T_matvec()` according to the template below.\n",
    "- Perform computations for all $\\lambda \\in \\{10, 1, 0.1\\}$ and $tol \\in \\{10^{-3}, 10^{-4}, 10^{-5},10^{-6}, 10^{-7} \\}$. For each pair $(\\lambda, tol)$ write out `num_iters` and relative error $e = \\frac{\\|x - x^*\\|_2}{\\|x\\|_2}$. Comment on the results: \n",
    "    - Compare robustness of the convergence with task 2. What the observed results indicate?"
   ]
  },
  {
   "cell_type": "code",
   "execution_count": null,
   "metadata": {
    "id": "IIs9QI7R6hpy"
   },
   "outputs": [],
   "source": [
    "def T_lmbda_matvec(x, aplha, lmbda):\n",
    "    pass\n",
    "\n",
    "# your code is here"
   ]
  },
  {
   "cell_type": "markdown",
   "metadata": {
    "id": "ut0QG1AW6hpy"
   },
   "source": [
    "## Task 5 (20 pts)\n",
    "\n",
    "- Implement BCCB preconditioner for $T_{\\lambda}$ based on Strang preconditioner for Toeplitz matrix (hint: build circulants using first columns of Toeplitz matrices on both levels). You know from lectures that circulants can be explicitly inverted using convolution theorem. Implement the corresponding matvec according to the template provided below.\n",
    "- Check speedup in iterations and runtime that can be gained from the preconditioning for $\\alpha = 0.01$, $\\lambda = 1$ compared with Task 4. Explain results."
   ]
  },
  {
   "cell_type": "code",
   "execution_count": null,
   "metadata": {
    "id": "DiJcm6XQ6hpz"
   },
   "outputs": [],
   "source": [
    "def C_inv_matvec(x, alpha, lmbda):\n",
    "    pass\n",
    "\n",
    "# your code is here"
   ]
  }
 ],
 "metadata": {
  "kernelspec": {
   "display_name": "Python 3 (ipykernel)",
   "language": "python",
   "name": "python3"
  },
  "language_info": {
   "codemirror_mode": {
    "name": "ipython",
    "version": 3
   },
   "file_extension": ".py",
   "mimetype": "text/x-python",
   "name": "python",
   "nbconvert_exporter": "python",
   "pygments_lexer": "ipython3",
   "version": "3.8.10"
  },
  "toc": {
   "base_numbering": 1,
   "nav_menu": {},
   "number_sections": true,
   "sideBar": true,
   "skip_h1_title": false,
   "title_cell": "Table of Contents",
   "title_sidebar": "Contents",
   "toc_cell": false,
   "toc_position": {},
   "toc_section_display": true,
   "toc_window_display": false
  }
 },
 "nbformat": 4,
 "nbformat_minor": 4
}
