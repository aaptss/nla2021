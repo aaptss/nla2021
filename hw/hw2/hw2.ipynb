{
 "cells": [
  {
   "cell_type": "markdown",
   "metadata": {
    "id": "t9v1vX4-OGIT"
   },
   "source": [
    "# Problem set 2 (45 + 50 + 33 + 15 = 143 pts)"
   ]
  },
  {
   "cell_type": "markdown",
   "metadata": {
    "id": "FOMNJ4TcOGIV"
   },
   "source": [
    "## Problem 1 (LU decomposition) 45 pts\n"
   ]
  },
  {
   "cell_type": "markdown",
   "metadata": {
    "id": "pYHDl6ppOGIV"
   },
   "source": [
    "### 1. LU  for band matrices and Cholesky decomposition (13 pts)\n",
    "\n",
    "The complexity to find an LU decomposition of a dense $n\\times n$ matrix is $\\mathcal{O}(n^3)$.\n",
    "Significant reduction in complexity can be achieved if the matrix has a certain structure, e.g. it is sparse. \n",
    "In the following task we consider an important example of $LU$ for a special type of matrices –– band matrices with top left entry equal to 1 and the bandwidth $m$ equal to 3 or 5 which called tridiagonal and pentadiagonal respectively. The bands may be ```[1, 2, 1]``` and ```[1, 1, 2, 1, 1]``` respectively\n",
    "\n",
    "- (4 pts) Write a function ```band_lu(diag_broadcast, n)``` which computes LU decomposition for tridiagonal or pentadiagonal matrix with top left entry equal to 1 with given diagonal bands. \n",
    "For example, input parametres ```(diag_broadcast = [1,2,1], n = 4)``` mean that we need to find LU decomposition for the triangular matrix of the form:\n",
    "\n",
    "$$A = \\begin{pmatrix}\n",
    "1 & 1 & 0 & 0\\\\\n",
    "1 & 2 & 1 & 0 \\\\\n",
    "0 & 1 & 2 & 1 \\\\\n",
    "0 & 0 & 1 & 2 \\\\\n",
    "\\end{pmatrix}.$$\n",
    "\n",
    "Provide the extensive testing of the implemented function that will works correctly for large $n$,  e.g. $n=100$.\n",
    "As an output it is considered to make ```L``` and ```U``` - 2D arrays representing diagonals in factors $L$ (```L[0]``` keeps first lower diagonal, ```L[1]``` keeps second lower, ...), and $U$ (```U[:,0]``` keeps main diagonal, ```U[:,1]``` keeps first upper, ...).\n",
    "\n",
    "- (2 pts) Compare execution time of the band LU decomposition using standard function from ```scipy```, i.e. which takes the whole matrix and does not know about its special structure, and band decomposition of yours implementation. Comment on the results.\n",
    "\n",
    "- (7 pts) Write a function ```cholesky(n)``` for computing Cholesky decomposition. It should take the the single argument - the matrix that will be factorized and return the single output - lower-triangular factor $L$. Think about the efficiency of your implementation and if necessary update it to achieve the best performance (eliminate Python loops, where it is possible and so on). Explicitly describe the difference with LU decomposition that reduces the complexity from $2n^3/3$ for LU to $n^3/3$ for Cholesky. \n",
    "Test the implemented function on the Pascal matrix of given size $n$ for $n = 5, 10, 50$. \n",
    "Pascal matrix is square matrix of the following form (here for $n=4$)\n",
    "$$P = \\begin{pmatrix}\n",
    "1 & 1 & 1 & 1\\\\\n",
    "1 & 2 & 3 & 4 \\\\\n",
    "1 & 3 & 6 & 10 \\\\\n",
    "1 & 4 & 10 & 20 \\\\\n",
    "\\end{pmatrix}.$$\n",
    "\n",
    "    [Here](https://en.wikipedia.org/wiki/Pascal_matrix) you can find more details about such matrices and analytical form for factor $L$ from Cholesky decomposition. Compare the result of your implementation with analytical expression in terms of some matrix norm of difference.  "
   ]
  },
  {
   "cell_type": "code",
   "execution_count": 103,
   "metadata": {
    "id": "BvY7icWBOGIW"
   },
   "outputs": [],
   "source": [
    "from scipy.sparse import diags # can be used with broadcasting of scalars if desired dimensions are large\n",
    "import numpy as np\n",
    "\n",
    "# INPUT : diag_broadcast - list of diagonals value to broadcast,length equal to 3 or 5; n - integer, band matrix shape.\n",
    "# OUTPUT : L - 2D np.ndarray, \n",
    "#                L.shape[0] depends on bandwidth, \n",
    "#                L.shape[1] = n-1, do not store main diagonal, where all ones;                  \n",
    "#                add zeros to the right side of rows to handle with changing length of diagonals.\n",
    "#          U - 2D np.ndarray, U.shape[0] = n, U.shape[1] depends on bandwidth;\n",
    "#              add zeros to the bottom of columns to handle with changing length of diagonals.\n",
    "\n",
    "def band_lu(diag_broadcast, n):\n",
    "    if len(diag_broadcast) != 3:\n",
    "        if len(diag_broadcast) != 5:\n",
    "            raise ValueError(\"Expecting a band of size 3 or 5\")\n",
    "\n",
    "    band = len(diag_broadcast)\n",
    "    m = band // 2\n",
    "    L = np.zeros((m, n - 1))\n",
    "    U = np.zeros((n, m + 1))\n",
    "    \n",
    "    U[:, :] = diag_broadcast[m:]\n",
    "    U[0, 0] = 1\n",
    "    a0 = diag_broadcast[0]\n",
    "    a1 = diag_broadcast[1]\n",
    "    a = a1 if band == 5 else a0\n",
    "    \n",
    "    for i in range(n - 1):\n",
    "        if abs(U[i, 0]) < 1e-10:\n",
    "            raise ValueError(\"pivot values are small\")\n",
    "        \n",
    "        if i == 0:\n",
    "            u00val = 1 \n",
    "        else:\n",
    "            u00val =  U[i, 0]\n",
    "        L[0, i] = a / u00val\n",
    "        U[i + 1, 0] -= L[0, i] * U[i, 1]\n",
    "        if i != n - 2 and band == 5:\n",
    "            L[1, i] = a0 / u00val\n",
    "            U[i + 1, 1] -= L[0, i] * U[i, 2]\n",
    "            U[i + 2, 0] -= L[1, i] * U[i, 2]\n",
    "            a = a1 - L[1, i] * U[i, 1]\n",
    "    return L, U   \n",
    "\n",
    "\n",
    "def ground_truth(diag, N):\n",
    "    m = len(diag) // 2\n",
    "    diag_z = diag + [0 for _ in range(N - len(diag))]\n",
    "    A = np.asarray([np.roll(diag_z , i - m) for i in range(N)])\n",
    "    for i in range(m + 1, N):\n",
    "        for j in range(0, i - m):\n",
    "            A[i,j] = 0\n",
    "    A[0, 0] = 1\n",
    "    A[0, -1] = 0\n",
    "    return A\n",
    "\n",
    "def test_correctness(diag, N):\n",
    "    L, U = band_lu(diag, N)\n",
    "    L = (diags(L, [-1]).todense() + np.identity(N))\n",
    "    U = diags(U.T, [0, 1]).todense()\n",
    "\n",
    "    trueval = ground_truth(diag, N)\n",
    "    res = np.allclose(trueval, L@U)\n",
    "    return res"
   ]
  },
  {
   "cell_type": "code",
   "execution_count": 32,
   "metadata": {
    "id": "XVySYJbTOGIa"
   },
   "outputs": [
    {
     "name": "stdout",
     "output_type": "stream",
     "text": [
      "True\n",
      "True\n"
     ]
    }
   ],
   "source": [
    "\"\"\" Check for correctness \"\"\"\n",
    "\n",
    "from random import randint\n",
    "\n",
    "correct = []\n",
    "k = 0\n",
    "for i in range(10, 400):\n",
    "    k += 1\n",
    "    r = test_correctness([randint(0, 1000), \n",
    "                          randint(0, 1000), \n",
    "                          randint(0, 1000)], \n",
    "                                     i)\n",
    "    # print(\"iter {} is {}\\n\".format(k,r))\n",
    "    correct.append(r)\n",
    "print(all(correct))\n",
    "\n",
    "k = 0\n",
    "for i in range(10, 400):\n",
    "    k += 1\n",
    "    r = test_correctness([1e3, \n",
    "                          1e-3, \n",
    "                          1e-3], \n",
    "                                     i)\n",
    "    # print(\"iter {} is {}\\n\".format(k,r))\n",
    "    correct.append(r)\n",
    "print(all(correct))"
   ]
  },
  {
   "cell_type": "code",
   "execution_count": 86,
   "metadata": {
    "id": "XVySYJbTOGIa"
   },
   "outputs": [],
   "source": [
    "\"\"\"\n",
    "Compare execution time of the band LU decomposition \n",
    "using standard function from scipy, \n",
    "i.e. which takes the whole matrix and does not know about its special structure, \n",
    "and band decomposition of yours implementation. Comment on the results.\n",
    "\"\"\"\n",
    "\n",
    "from scipy.linalg import lu\n",
    "import matplotlib.pyplot as plt\n",
    "from matplotlib.pyplot import figure\n",
    "\n",
    "def do_cholesky_time_cmp(diag, Ns):\n",
    "    ts = [[], []]\n",
    "    for n in Ns:\n",
    "        A = ground_truth(diag, n)\n",
    "        t = %timeit -o -q -n 5 lu(A)\n",
    "        ts[0].append(np.mean(t.timings))\n",
    "        t = %timeit -o -q -n 5 band_lu(diag, n)\n",
    "        ts[1].append(np.mean(t.timings))\n",
    "\n",
    "    figure(figsize=(8, 6), dpi=80)\n",
    "    plt.plot(ts[0], label='scipy')\n",
    "    plt.plot(ts[1], label='band')\n",
    "    plt.ylabel('sec')\n",
    "    plt.xlabel('N')\n",
    "    plt.xticks(ticks=([i for i,_ in enumerate(Ns)]),labels=Ns, rotation=90)\n",
    "    plt.legend()\n",
    "    plt.show()"
   ]
  },
  {
   "cell_type": "code",
   "execution_count": 104,
   "metadata": {
    "id": "XVySYJbTOGIa"
   },
   "outputs": [
    {
     "data": {
      "image/png": "[encoded data removed]",
      "text/plain": [
       "<Figure size 640x480 with 1 Axes>"
      ]
     },
     "metadata": {
      "needs_background": "light"
     },
     "output_type": "display_data"
    },
    {
     "data": {
      "text/plain": [
       "5"
      ]
     },
     "execution_count": 104,
     "metadata": {},
     "output_type": "execute_result"
    }
   ],
   "source": [
    "test = [1,25,16,500,31]\n",
    "Ns = np.linspace(1, 1000, 50, dtype=int)\n",
    "# [i for i,_ in enumerate(Ns)]\n",
    "do_cholesky_time_cmp(test, Ns)\n",
    "test.__len__()"
   ]
  },
  {
   "cell_type": "code",
   "execution_count": 107,
   "metadata": {
    "id": "XVySYJbTOGIa"
   },
   "outputs": [
    {
     "data": {
      "image/png": "[encoded data removed]",
      "text/plain": [
       "<Figure size 640x480 with 1 Axes>"
      ]
     },
     "metadata": {
      "needs_background": "light"
     },
     "output_type": "display_data"
    }
   ],
   "source": [
    "Ns = np.linspace(1, 100, 50, dtype=int)\n",
    "do_cholesky_time_cmp(test, Ns)"
   ]
  },
  {
   "cell_type": "code",
   "execution_count": 108,
   "metadata": {
    "id": "XVySYJbTOGIa"
   },
   "outputs": [],
   "source": [
    "A = diags([1, 2, 3], [-1, 0, 1], shape=(10000, 10000)).todense()\n",
    "%timeit lu(A)\n",
    "%timeit band_lu(np.array([1, 2, 3]), n=10000)"
   ]
  },
  {
   "cell_type": "markdown",
   "metadata": {
    "id": "XVySYJbTOGIa"
   },
   "source": [
    "We see that when N is small, the two methods are comparable in tiome. This is due to the fact that there is not much of a difference between the amoubt of operations. For small N (apparently, N < 300), The matrix is \"not sparse enough\". \n",
    "\n",
    "However, we see an exponential growth of time needed for a calculation when we take a big N. This makes sense as the `schipy.linalg.lu` does PLU factorization (without Strassen) and the time complexity is O(n3). \n",
    "\n",
    "For the implementation above the time complexity is approximately O(n):(O((0.5*bandwidth)^2 * n))"
   ]
  },
  {
   "cell_type": "markdown",
   "metadata": {
    "id": "XVySYJbTOGIa"
   },
   "source": [
    "- (7 pts) Write a function ```cholesky(n)``` for computing Cholesky decomposition. It should take the the single argument - the matrix that will be factorized and return the single output - lower-triangular factor $L$. Think about the efficiency of your implementation and if necessary update it to achieve the best performance (eliminate Python loops, where it is possible and so on). Explicitly describe the difference with LU decomposition that reduces the complexity from $2n^3/3$ for LU to $n^3/3$ for Cholesky. \n",
    "Test the implemented function on the Pascal matrix of given size $n$ for $n = 5, 10, 50$. \n",
    "Pascal matrix is square matrix of the following form (here for $n=4$)\n",
    "$$P = \\begin{pmatrix}\n",
    "1 & 1 & 1 & 1\\\\\n",
    "1 & 2 & 3 & 4 \\\\\n",
    "1 & 3 & 6 & 10 \\\\\n",
    "1 & 4 & 10 & 20 \\\\\n",
    "\\end{pmatrix}.$$\n",
    "\n",
    "    [Here](https://en.wikipedia.org/wiki/Pascal_matrix) you can find more details about such matrices and analytical form for factor $L$ from Cholesky decomposition. Compare the result of your implementation with analytical expression in terms of some matrix norm of difference.  "
   ]
  },
  {
   "cell_type": "code",
   "execution_count": 103,
   "metadata": {
    "id": "XVySYJbTOGIa"
   },
   "outputs": [],
   "source": [
    "import numpy as np\n",
    "from scipy.linalg import pascal\n",
    "\n",
    "def cholesky_py(A):\n",
    "    B = A.copy().astype('float64')\n",
    "    L = np.array([[0] * len(B) for _ in enumerate(B)])\n",
    "    for i, (Ai, Li) in enumerate(zip(B, L)):\n",
    "        for j, Lj in enumerate(L[:i+1]):\n",
    "            s = sum(Li[k] * Lj[k] for k in range(j))\n",
    "            if i == j:\n",
    "                Li[j] = (Ai[i] - s) ** 0.5\n",
    "            else:\n",
    "                Li[j] = ((1.0 / Lj[j]) * (Ai[j] - s))\n",
    "        # print(L)\n",
    "    return L\n",
    "\n",
    "def test_cholesky(A):\n",
    "    L = cholesky_py(A)\n",
    "    # print(A)\n",
    "    reconst = L@L.conj().T\n",
    "    # print(reconst)\n",
    "    return np.linalg.norm(A - reconst, ord='fro') / np.linalg.norm(A, ord='fro')\n",
    "\n",
    "def cholesky_dbg(A):\n",
    "    B = A.copy().astype('float64')\n",
    "    L = np.array([[0] * len(B) for _ in enumerate(B)])\n",
    "    for i, (Ai, Li) in enumerate(zip(B, L)):\n",
    "        for j, Lj in enumerate(L[:i+1]):\n",
    "            s = sum(Li[k] * Lj[k] for k in range(j))\n",
    "            if i == j:\n",
    "                if i>=28:\n",
    "                    print(i)\n",
    "                    print(sum([Li[k]**2 for k in range(j)]))\n",
    "                Li[j] = (Ai[i] - s) ** 0.5\n",
    "            else:\n",
    "                Li[j] = ((1.0 / Lj[j]) * (Ai[j] - s))\n",
    "        # print(L)\n",
    "    return L\n"
   ]
  },
  {
   "cell_type": "code",
   "execution_count": 104,
   "metadata": {
    "id": "XVySYJbTOGIa"
   },
   "outputs": [
    {
     "name": "stdout",
     "output_type": "stream",
     "text": [
      "relative error of Cholesky descomposition for N = 4 is 0.0\n",
      "\n",
      "relative error of Cholesky descomposition for N = 5 is 0.0\n",
      "\n",
      "relative error of Cholesky descomposition for N = 10 is 0.0\n",
      "\n",
      "relative error of Cholesky descomposition for N = 25 is 0.0\n",
      "\n",
      "relative error of Cholesky descomposition for N = 26 is 0.0\n",
      "\n",
      "relative error of Cholesky descomposition for N = 27 is 0.0\n",
      "\n",
      "relative error of Cholesky descomposition for N = 28 is 0.0\n",
      "\n",
      "relative error of Cholesky descomposition for N = 29 is 0.0\n",
      "\n",
      "relative error of Cholesky descomposition for N = 30 is 1.9991937281298968e-16\n",
      "\n"
     ]
    },
    {
     "name": "stderr",
     "output_type": "stream",
     "text": [
      "/tmp/ipykernel_5253/3714146401.py:11: RuntimeWarning: invalid value encountered in double_scalars\n",
      "  Li[j] = (Ai[i] - s) ** 0.5\n"
     ]
    },
    {
     "ename": "ValueError",
     "evalue": "cannot convert float NaN to integer",
     "output_type": "error",
     "traceback": [
      "\u001b[0;31m---------------------------------------------------------------------------\u001b[0m",
      "\u001b[0;31mValueError\u001b[0m                                Traceback (most recent call last)",
      "\u001b[0;32m/tmp/ipykernel_5253/4128644366.py\u001b[0m in \u001b[0;36m<module>\u001b[0;34m\u001b[0m\n\u001b[1;32m      4\u001b[0m \u001b[0;32mfor\u001b[0m \u001b[0mN\u001b[0m \u001b[0;32min\u001b[0m \u001b[0mtest\u001b[0m\u001b[0;34m:\u001b[0m\u001b[0;34m\u001b[0m\u001b[0;34m\u001b[0m\u001b[0m\n\u001b[1;32m      5\u001b[0m     print(\"relative error of Cholesky descomposition for N = {} is {}\\n\".format(N,\n\u001b[0;32m----> 6\u001b[0;31m           test_cholesky(pascal(N))))\n\u001b[0m",
      "\u001b[0;32m/tmp/ipykernel_5253/3714146401.py\u001b[0m in \u001b[0;36mtest_cholesky\u001b[0;34m(A)\u001b[0m\n\u001b[1;32m     16\u001b[0m \u001b[0;34m\u001b[0m\u001b[0m\n\u001b[1;32m     17\u001b[0m \u001b[0;32mdef\u001b[0m \u001b[0mtest_cholesky\u001b[0m\u001b[0;34m(\u001b[0m\u001b[0mA\u001b[0m\u001b[0;34m)\u001b[0m\u001b[0;34m:\u001b[0m\u001b[0;34m\u001b[0m\u001b[0;34m\u001b[0m\u001b[0m\n\u001b[0;32m---> 18\u001b[0;31m     \u001b[0mL\u001b[0m \u001b[0;34m=\u001b[0m \u001b[0mcholesky_py\u001b[0m\u001b[0;34m(\u001b[0m\u001b[0mA\u001b[0m\u001b[0;34m)\u001b[0m\u001b[0;34m\u001b[0m\u001b[0;34m\u001b[0m\u001b[0m\n\u001b[0m\u001b[1;32m     19\u001b[0m     \u001b[0;31m# print(A)\u001b[0m\u001b[0;34m\u001b[0m\u001b[0;34m\u001b[0m\u001b[0;34m\u001b[0m\u001b[0m\n\u001b[1;32m     20\u001b[0m     \u001b[0mreconst\u001b[0m \u001b[0;34m=\u001b[0m \u001b[0mL\u001b[0m\u001b[0;34m@\u001b[0m\u001b[0mL\u001b[0m\u001b[0;34m.\u001b[0m\u001b[0mconj\u001b[0m\u001b[0;34m(\u001b[0m\u001b[0;34m)\u001b[0m\u001b[0;34m.\u001b[0m\u001b[0mT\u001b[0m\u001b[0;34m\u001b[0m\u001b[0;34m\u001b[0m\u001b[0m\n",
      "\u001b[0;32m/tmp/ipykernel_5253/3714146401.py\u001b[0m in \u001b[0;36mcholesky_py\u001b[0;34m(A)\u001b[0m\n\u001b[1;32m      9\u001b[0m             \u001b[0ms\u001b[0m \u001b[0;34m=\u001b[0m \u001b[0msum\u001b[0m\u001b[0;34m(\u001b[0m\u001b[0mLi\u001b[0m\u001b[0;34m[\u001b[0m\u001b[0mk\u001b[0m\u001b[0;34m]\u001b[0m \u001b[0;34m*\u001b[0m \u001b[0mLj\u001b[0m\u001b[0;34m[\u001b[0m\u001b[0mk\u001b[0m\u001b[0;34m]\u001b[0m \u001b[0;32mfor\u001b[0m \u001b[0mk\u001b[0m \u001b[0;32min\u001b[0m \u001b[0mrange\u001b[0m\u001b[0;34m(\u001b[0m\u001b[0mj\u001b[0m\u001b[0;34m)\u001b[0m\u001b[0;34m)\u001b[0m\u001b[0;34m\u001b[0m\u001b[0;34m\u001b[0m\u001b[0m\n\u001b[1;32m     10\u001b[0m             \u001b[0;32mif\u001b[0m \u001b[0mi\u001b[0m \u001b[0;34m==\u001b[0m \u001b[0mj\u001b[0m\u001b[0;34m:\u001b[0m\u001b[0;34m\u001b[0m\u001b[0;34m\u001b[0m\u001b[0m\n\u001b[0;32m---> 11\u001b[0;31m                 \u001b[0mLi\u001b[0m\u001b[0;34m[\u001b[0m\u001b[0mj\u001b[0m\u001b[0;34m]\u001b[0m \u001b[0;34m=\u001b[0m \u001b[0;34m(\u001b[0m\u001b[0mAi\u001b[0m\u001b[0;34m[\u001b[0m\u001b[0mi\u001b[0m\u001b[0;34m]\u001b[0m \u001b[0;34m-\u001b[0m \u001b[0ms\u001b[0m\u001b[0;34m)\u001b[0m \u001b[0;34m**\u001b[0m \u001b[0;36m0.5\u001b[0m\u001b[0;34m\u001b[0m\u001b[0;34m\u001b[0m\u001b[0m\n\u001b[0m\u001b[1;32m     12\u001b[0m             \u001b[0;32melse\u001b[0m\u001b[0;34m:\u001b[0m\u001b[0;34m\u001b[0m\u001b[0;34m\u001b[0m\u001b[0m\n\u001b[1;32m     13\u001b[0m                 \u001b[0mLi\u001b[0m\u001b[0;34m[\u001b[0m\u001b[0mj\u001b[0m\u001b[0;34m]\u001b[0m \u001b[0;34m=\u001b[0m \u001b[0;34m(\u001b[0m\u001b[0;34m(\u001b[0m\u001b[0;36m1.0\u001b[0m \u001b[0;34m/\u001b[0m \u001b[0mLj\u001b[0m\u001b[0;34m[\u001b[0m\u001b[0mj\u001b[0m\u001b[0;34m]\u001b[0m\u001b[0;34m)\u001b[0m \u001b[0;34m*\u001b[0m \u001b[0;34m(\u001b[0m\u001b[0mAi\u001b[0m\u001b[0;34m[\u001b[0m\u001b[0mj\u001b[0m\u001b[0;34m]\u001b[0m \u001b[0;34m-\u001b[0m \u001b[0ms\u001b[0m\u001b[0;34m)\u001b[0m\u001b[0;34m)\u001b[0m\u001b[0;34m\u001b[0m\u001b[0;34m\u001b[0m\u001b[0m\n",
      "\u001b[0;31mValueError\u001b[0m: cannot convert float NaN to integer"
     ]
    }
   ],
   "source": [
    "test_cholesky(pascal(5))\n",
    "\n",
    "test = [4,5,10,25, 26, 27, 28, 29, 30,31]\n",
    "for N in test:\n",
    "    print(\"relative error of Cholesky descomposition for N = {} is {}\\n\".format(N,\n",
    "          test_cholesky(pascal(N))))\n"
   ]
  },
  {
   "cell_type": "code",
   "execution_count": 107,
   "metadata": {
    "id": "XVySYJbTOGIa"
   },
   "outputs": [
    {
     "name": "stdout",
     "output_type": "stream",
     "text": [
      "the sum of prefious row and column is 118264581564861423\n",
      "the Aii element, where i =31 is 118264581564861424\n",
      "the Lii element, where i =31 should be 1. Calculated: 0.0\n"
     ]
    }
   ],
   "source": [
    "def binomialCoeff(n, k):\n",
    "    C = [[0 for i in range(k + 1)]\n",
    "         for i in range(n + 1)]\n",
    "    for i in range(n + 1):\n",
    "        for j in range(min(i, k) + 1):\n",
    "            if (j == 0 or j == i):\n",
    "                C[i][j] = 1\n",
    "            else:\n",
    "                C[i][j] = C[i - 1][j - 1] + C[i - 1][j]\n",
    "    return C[n][k]\n",
    "\n",
    "\"\"\"\n",
    "s = sum(Li[k] * Lj[k] for k in range(j))\n",
    "if i == j:\n",
    "    Li[j] = (Ai[i] - s) ** 0.5\n",
    "else:\n",
    "    Li[j] = ((1.0 / Lj[j]) * (Ai[j] - s))\n",
    "\"\"\"\n",
    "\n",
    "ord = 31\n",
    "pas = pascal(ord)\n",
    "\n",
    "roww = [binomialCoeff(ord-1,i) for i in range(ord-1)]\n",
    "coll = roww.copy()\n",
    "s = sum(roww[k] * coll[k] for k in range(ord-1))\n",
    "\n",
    "print(\"the sum of prefious row and column is {}\".format(s))\n",
    "print(\"the Aii element, where i ={} is {}\".format(ord, pas[-1,-1]))\n",
    "print(\"the Lii element, where i ={} should be 1. Calculated: {}\".format(ord, (pas[-1,-1] - s)**0.5))"
   ]
  },
  {
   "cell_type": "code",
   "execution_count": 102,
   "metadata": {
    "id": "XVySYJbTOGIa"
   },
   "outputs": [
    {
     "name": "stdout",
     "output_type": "stream",
     "text": [
      "28\n",
      "7648690600760439.0\n",
      "29\n",
      "3.0067266499541216e+16\n",
      "30\n",
      "nan\n"
     ]
    },
    {
     "name": "stderr",
     "output_type": "stream",
     "text": [
      "/tmp/ipykernel_5253/2341743114.py:34: RuntimeWarning: invalid value encountered in double_scalars\n",
      "  Li[j] = (Ai[i] - s) ** 0.5\n"
     ]
    },
    {
     "data": {
      "text/plain": [
       "[]"
      ]
     },
     "execution_count": 102,
     "metadata": {},
     "output_type": "execute_result"
    }
   ],
   "source": [
    "cholesky_dbg(pas)\n",
    "[]"
   ]
  },
  {
   "cell_type": "markdown",
   "metadata": {
    "id": "_iM6NwHQOGId"
   },
   "source": [
    "For N > 30, we encounter a problem with python not being able to calculate the 31th row of the L matrix and onward. \n",
    "\n",
    "The `L[31,31]` element is calculated as `NaN` beacause the dot product of 30'th column and row is quite large. Summation and subtraction have a huge error when performing float-point operations on such big numbers (1e17).\n",
    "\n",
    "When operating in integers, values come close to int64 overflow. As we do a summation over a list, this is critical."
   ]
  },
  {
   "cell_type": "markdown",
   "metadata": {
    "id": "_iM6NwHQOGId"
   },
   "source": [
    "### 2. Stability of LU (8 pts)\n",
    "\n",
    "* (4 pts) Show, that for these  matrices $A$ and $B$ LU decomposition fails. Why does it happen?\n",
    "\n",
    "\n",
    "\n",
    "$\n",
    "A = \\begin{pmatrix}\n",
    "0 & 1 \\\\\n",
    "2 & 3\n",
    "\\end{pmatrix}.$ \n",
    "\n",
    "$B = \\begin{pmatrix}\n",
    "1 & 1 & 0\\\\\n",
    "1 & 1 & 2 \\\\\n",
    "1 & 2 & 1\n",
    "\\end{pmatrix}.$ "
   ]
  },
  {
   "cell_type": "markdown",
   "metadata": {
    "id": "_iM6NwHQOGId"
   },
   "source": [
    "__SOLUTION__ for above:\\\n",
    "\\\n",
    "For matrix A, `A[0,0]` is zero. We can't do LU decompostition with a pivoting value == 0 as Gaussian Elimination would require a division by zero, the result of which is not defined. \n",
    "\n",
    "For matrix B, note that 2nd leading principle is all ones, so it has linearly dependend colums, wich indicates that this submatrix is singular. The singularity of leading principle submatrix indicates that the LU decomposition is not gurarnteed, but still may exist. \n",
    "\n",
    "However, the matrix cosinsts of all ones. This meanst that after the first step of elimination we have a zero element on a main diagonal in the second row of U, which means that for futher sterps we are forced to divide by zero. "
   ]
  },
  {
   "cell_type": "code",
   "execution_count": 110,
   "metadata": {
    "id": "_iM6NwHQOGId"
   },
   "outputs": [
    {
     "name": "stdout",
     "output_type": "stream",
     "text": [
      "[[1. 1. 0.]\n",
      " [1. 1. 2.]\n",
      " [1. 2. 1.]]\n",
      "[1. 1.]\n",
      "0\n",
      "[[1. 1. 0.]\n",
      " [0. 0. 2.]\n",
      " [0. 1. 1.]]\n",
      "[inf]\n",
      "1\n",
      "[[  1.   1.   0.]\n",
      " [  0.   0.   2.]\n",
      " [ nan  nan -inf]]\n",
      "[]\n",
      "2\n"
     ]
    },
    {
     "name": "stderr",
     "output_type": "stream",
     "text": [
      "/tmp/ipykernel_7263/3605595289.py:14: RuntimeWarning: divide by zero encountered in true_divide\n",
      "  factor = U[i+1:, i] / U[i, i]\n",
      "/tmp/ipykernel_7263/3605595289.py:18: RuntimeWarning: invalid value encountered in multiply\n",
      "  U[i+1:] -= factor[:, np.newaxis] * U[i]\n"
     ]
    }
   ],
   "source": [
    "from scipy.linalg import lu, pascal\n",
    "import numpy as np \n",
    "\n",
    "def regular_lu(A):\n",
    "    #Get the number of rows\n",
    "    n = A.shape[0] \n",
    "    # print(n)\n",
    "    U = A.copy()\n",
    "    # print(U)\n",
    "    L = np.eye(n, dtype=np.double)\n",
    "\n",
    "    for i in range(n):\n",
    "        print(U)\n",
    "        factor = U[i+1:, i] / U[i, i]\n",
    "        print(factor)\n",
    "        print(i)\n",
    "        L[i+1:, i] = factor\n",
    "        U[i+1:] -= factor[:, np.newaxis] * U[i]\n",
    "        # print(U[i+1:])\n",
    "        # print(\"------------------\")\n",
    "    return L, U\n",
    "\n",
    "B = np.array([ [1, 1, 0],\n",
    "               [1, 1, 2],\n",
    "               [1, 2, 1]\n",
    "             ])\n",
    "L,U = regular_lu(B.astype('double'))\n"
   ]
  },
  {
   "cell_type": "markdown",
   "metadata": {
    "id": "_iM6NwHQOGId"
   },
   "source": [
    "* (4 pts) In the LU decomposition, a pivot position is a position of the element that identifies the row and column that will be eliminated in the current step. For example, first pivot in LU is usually the left top element. What value of $c$ leads to zero in the second pivot position? What $c$ produces zero in the third pivot position? What modification of LU should we use in order to address the possible zeros in pivot position?\n",
    "\n",
    "$A = \\begin{pmatrix}\n",
    "1 & c & 0\\\\\n",
    "2 & 4 & 1 \\\\\n",
    "3 & 5 & 1\n",
    "\\end{pmatrix}.$ "
   ]
  },
  {
   "cell_type": "code",
   "execution_count": 114,
   "metadata": {
    "id": "CmkB9hxwOGId"
   },
   "outputs": [
    {
     "name": "stdout",
     "output_type": "stream",
     "text": [
      "[[1. 2. 0.]\n",
      " [2. 4. 1.]\n",
      " [3. 5. 1.]]\n"
     ]
    },
    {
     "name": "stderr",
     "output_type": "stream",
     "text": [
      "/tmp/ipykernel_7263/3010989784.py:14: RuntimeWarning: divide by zero encountered in true_divide\n",
      "  factor = U[i+1:, i] / U[i, i]\n",
      "/tmp/ipykernel_7263/3010989784.py:17: RuntimeWarning: invalid value encountered in multiply\n",
      "  U[i+1:] -= factor[:, np.newaxis] * U[i]\n"
     ]
    }
   ],
   "source": [
    "import numpy as np \n",
    "\n",
    "def regular_lu(A):\n",
    "    #Get the number of rows\n",
    "    n = A.shape[0] \n",
    "    # print(n)\n",
    "    U = A.copy()\n",
    "    # print(U)\n",
    "    L = np.eye(n, dtype=np.double)\n",
    "\n",
    "    for i in range(n):\n",
    "        factor = U[i+1:, i] / U[i, i]\n",
    "        L[i+1:, i] = factor\n",
    "        U[i+1:] -= factor[:, np.newaxis] * U[i]\n",
    "\n",
    "    return L, U\n",
    "\n",
    "c = 2\n",
    "A = np.array([ [1, c, 0],\n",
    "               [2, 4, 1],\n",
    "               [3, 5, 1]\n",
    "             ], np.double)\n",
    "\n",
    "print(A)\n",
    "L, U = regular_lu(A)"
   ]
  },
  {
   "cell_type": "markdown",
   "metadata": {
    "id": "CmkB9hxwOGId"
   },
   "source": [
    "For us not to be able to perform a classic LU on this matrix, we need the 2-nd order leading principle matrix to have linearly dependent rows.\\\n",
    "$A = \\begin{pmatrix}\n",
    "1 & c \\\\\n",
    "2 & 4\n",
    "\\end{pmatrix}.$ \\\n",
    "\n",
    "We can clearly see that this would be `c=2`.\n",
    "\n",
    "To do an LU decomposition of such a matrix, we resort to pivoting (a PLU decomposition)."
   ]
  },
  {
   "cell_type": "code",
   "execution_count": 113,
   "metadata": {
    "id": "CmkB9hxwOGId"
   },
   "outputs": [
    {
     "data": {
      "text/plain": [
       "array([[1., 2., 0.],\n",
       "       [2., 4., 1.],\n",
       "       [3., 5., 1.]])"
      ]
     },
     "execution_count": 113,
     "metadata": {},
     "output_type": "execute_result"
    }
   ],
   "source": [
    "from scipy.linalg import lu\n",
    "\n",
    "c = 2\n",
    "A = np.array([ [1, c, 0],\n",
    "               [2, 4, 1],\n",
    "               [3, 5, 1]\n",
    "             ], np.double)\n",
    "\n",
    "P, L, U = lu(A)\n",
    "P@L@U"
   ]
  },
  {
   "cell_type": "markdown",
   "metadata": {
    "id": "YFc3BR_TOGIj"
   },
   "source": [
    "### 3. Implementation of PLU decomposition (14 pts)\n",
    "\n",
    "As you have noticed before, LU decomposition may fail. In order to make it stable, we can use LU decomposition with pivoting  (PLU).\n",
    "\n",
    "We want to find such permutation matrix $P$ that LU decomposition of $PA$ exists\n",
    "\n",
    "$$ PA = LU $$\n",
    "\n",
    "- (7 pts) Implement efficiently PLU decomposition (without loops and with appropriate level of BLAS operations).  Also, pay attention to the way of permutation matrix storage.\n",
    "\n",
    "- (4 pts ) Compare your function for computing PLU with built-in function on matrices of such type ```(mirror_diag = [1,2,1], n = 4)```. (Bandwidth and matrix size may vary). So, you can pass them as dense 2D NumPy array and do not tune your implementation to this special structure. Compare them in terms of running time (use ```%timeit``` magic) for range of dimensions to recover the asymptotic rate of time increasing and in terms of acuracy. We expect you plot the running time vs matrix dimension for built-in function and your implementation. So you should get the plot with two lines.\n",
    "Consider additionally one of the pathological examples from above, where LU fails, but PLU has to work.\n",
    "\n",
    "\n",
    "$$A = \\begin{pmatrix}\n",
    "0 & 0 & 1 & 1 \\\\\n",
    " 0 &1 & 2 & 1  \\\\\n",
    " 1 & 2 & 1  & 0\\\\\n",
    "1 & 2  & 0 & 0  \\\\\n",
    "\\end{pmatrix}.$$\n",
    "\n",
    "\n",
    "- (3 pts) Discuss the obtained results and explain how is it possible to accelerate computing the PLU factorization. \n",
    "\n",
    "NumPy or JAX are both ok in this problem, but please use the single library for all implementations. "
   ]
  },
  {
   "cell_type": "code",
   "execution_count": 54,
   "metadata": {},
   "outputs": [],
   "source": [
    "import numpy as np \n",
    "from scipy.linalg import lu, pascal\n",
    "from matplotlib.pyplot import figure \n",
    "import matplotlib.pyplot as plt \n",
    "\n",
    "\n",
    "def pivot_lu(A):\n",
    "    n = A.shape[0]\n",
    "    \n",
    "    U = A.copy()\n",
    "    P = np.eye(n)\n",
    "    L = P.copy()\n",
    "    \n",
    "    PF = L.copy()\n",
    "    LF = np.zeros((n,n))\n",
    "    \n",
    "    for k in range(n - 1):\n",
    "        index = np.argmax(abs(U[k:,k])) + k \n",
    "        if index != k:\n",
    "            P = np.eye(n)\n",
    "            P[[index,k],k:n] = P[[k,index],k:n]\n",
    "            U[[index,k],k:n] = U[[k,index],k:n] \n",
    "            PF = np.dot(P,PF)\n",
    "            LF = np.dot(P,LF)\n",
    "        \n",
    "        L = np.eye(n)\n",
    "        LF[k+1:,k] = (U[k+1:,k] / U[k,k])\n",
    "        L[k+1:,k]  = -1 * LF[k+1:,k]\n",
    "        U = np.dot(L,U)\n",
    "        \n",
    "    np.fill_diagonal(LF, 1)\n",
    "    return PF.T, LF, U"
   ]
  },
  {
   "cell_type": "code",
   "execution_count": 61,
   "metadata": {},
   "outputs": [
    {
     "name": "stdout",
     "output_type": "stream",
     "text": [
      "True\n",
      "True\n"
     ]
    }
   ],
   "source": [
    "# A = np.array([ [1, 2, 0],\n",
    "#                [2, 4, 1],\n",
    "#                [3, 5, 1]\n",
    "#              ], np.double)\n",
    "\n",
    "A = pascal(25).astype('double')\n",
    "pp, lp, up = pivot_lu(A)\n",
    "ps, ls, us = lu(A)\n",
    "print(np.isclose((pp@lp@up), A).all())\n",
    "print(np.isclose((ps@ls@us), A).all())"
   ]
  },
  {
   "cell_type": "code",
   "execution_count": 56,
   "metadata": {
    "id": "32HpfOPMOGIg"
   },
   "outputs": [
    {
     "data": {
      "image/png": "[encoded data removed]",
      "text/plain": [
       "<Figure size 640x480 with 1 Axes>"
      ]
     },
     "metadata": {
      "needs_background": "light"
     },
     "output_type": "display_data"
    }
   ],
   "source": [
    "def construct_minor_diag_mat(diag, N):\n",
    "    m = len(diag) // 2\n",
    "    diag_z = diag + [0 for _ in range(N - len(diag))]\n",
    "    A = np.asarray([np.roll(diag_z , i - m) for i in range(N)])\n",
    "    for i in range(m + 1, N):\n",
    "        for j in range(0, i - m):\n",
    "            A[i,j] = 0\n",
    "    A[0, 0] = 1\n",
    "    A[0, -1] = 0\n",
    "    return np.rot90(A)\n",
    "\n",
    "def do_pivlu_time_cmp(Ns):\n",
    "    ts = [[], []]\n",
    "    for n in Ns:\n",
    "        A = construct_diag_mat([1,2,1], n)\n",
    "        t = %timeit -o -q -n 5 lu(A)\n",
    "        ts[0].append(np.mean(t.timings))\n",
    "        t = %timeit -o -q -n 5 pivot_lu(A)\n",
    "        ts[1].append(np.mean(t.timings))\n",
    "\n",
    "    figure(figsize=(8, 6), dpi=80)\n",
    "    plt.semilogx(Ns, ts[0], label='scipy')\n",
    "    plt.semilogx(Ns, ts[1], label='selfmade')\n",
    "    plt.ylabel('sec')\n",
    "    plt.xlabel('N')\n",
    "    plt.legend()\n",
    "    plt.show()\n",
    "\n",
    "Ns = np.logspace(1, 3, 15, dtype=int)\n",
    "do_pivlu_time_cmp(Ns)"
   ]
  },
  {
   "cell_type": "code",
   "execution_count": 55,
   "metadata": {
    "id": "32HpfOPMOGIg"
   },
   "outputs": [
    {
     "data": {
      "image/png": "[encoded data removed]",
      "text/plain": [
       "<Figure size 640x480 with 1 Axes>"
      ]
     },
     "metadata": {
      "needs_background": "light"
     },
     "output_type": "display_data"
    }
   ],
   "source": [
    "\n",
    "Ns = np.logspace(1, 2, 20, dtype=int)\n",
    "do_pivlu_time_cmp(Ns)"
   ]
  },
  {
   "cell_type": "markdown",
   "metadata": {
    "id": "EQwdRJSIOGIg"
   },
   "source": [
    "Seems like the `scipy.linalg.lu` accomplishes the PLU decomposition in O(1), while the self-made code takes exponentially more time than that when the N rises. \n",
    "\n",
    "Assuming that the input matrix is dense, while analyzing the code, one can infer that the time complexity is O(n^3): There is a cycle, at each iteration of which a dot product of 2 matrices is taken. Assuming that the dot product has a time complexity O(n^2), putting it into the loop would make it O(n^3). "
   ]
  },
  {
   "cell_type": "markdown",
   "metadata": {
    "id": "EQwdRJSIOGIg"
   },
   "source": [
    "### 4. Block LU (10 pts)\n",
    "\n",
    "Let $A = \\begin{bmatrix} A_{11} & A_{12} \\\\ A_{21} & A_{22} \\end{bmatrix}$ be a block matrix. The goal is to solve the linear system\n",
    "\n",
    "$$\n",
    "     \\begin{bmatrix} A_{11} & A_{12} \\\\ A_{21} & A_{22} \\end{bmatrix} \\begin{bmatrix} u_1 \\\\ u_2 \\end{bmatrix} = \\begin{bmatrix} f_1 \\\\ f_2 \\end{bmatrix}.\n",
    "$$\n",
    "\n",
    "* (2 pts) Using block elimination find matrix $S$ and right-hand side $\\hat{f_2}$ so that $u_2$ can be found from $S u_2 = \\hat{f_2}$. Note that the matrix $S$ is called <span style=\"color:red\">Schur complement</span> of the block $A_{11}$."
   ]
  },
  {
   "cell_type": "markdown",
   "metadata": {
    "id": "EQwdRJSIOGIg"
   },
   "source": [
    "Let's do a block LU decomposition of A:\n",
    "$ A = \\begin{bmatrix} \n",
    "A_{11} & A_{12} \\\\ A_{21} & A_{22} \\end{bmatrix} = \\begin{bmatrix} \n",
    "L_{11} & 0 \\\\ L_{21} & L_{22} \\end{bmatrix} \\begin{bmatrix} \n",
    "U_{11} & U_{12} \\\\ 0 & U_{22} \\end{bmatrix} = \\begin{bmatrix} \n",
    "L_{11} U_{11} & L_{11} U_{12} \\\\ L_{21} U_{11} & L_{21} U_{12} + L_{22} U_{22} \\end{bmatrix} $\\\n",
    "\\\n",
    "$U_{12} = L^{-1}_{11} A_{12}$\n",
    "\n",
    "$L_{21} = A_{21} U^{-1}_{11} $\n",
    "\n",
    "$ L_{22} U_{22} = A_{22} - L_{21} U_{12} = A_{22} - A_{21} U^{-1}_{11} L^{-1}_{11} A_{12} = A_{22} - A_{21} A^{-1}_{11} A_{12}$"
   ]
  },
  {
   "cell_type": "markdown",
   "metadata": {
    "id": "EQwdRJSIOGIg"
   },
   "source": [
    "$\\begin{bmatrix} \n",
    "L_{11} U_{11} & L_{11} U_{12} \\\\ \n",
    "L_{21} U_{11} & L_{21} U_{12} + L_{22} U_{22} \n",
    "\\end{bmatrix} \n",
    "\\begin{bmatrix} \n",
    "u_1 \\\\ \n",
    "u_2 \n",
    "\\end{bmatrix} = \\begin{bmatrix} \n",
    "f_1 \\\\ \n",
    "f_2 \n",
    "\\end{bmatrix} \\rightarrow \\begin{equation}\n",
    "\\begin{aligned}\n",
    "&L_{11}U_{11}u_1 + L_{11}U_{12} u_2 = f_1 \\\\\n",
    "&L_{21}U_{11}u_1 + (L_{21}U_{12}+L_{22}U_{22}) u_2 = f_2\n",
    "\\end{aligned}\n",
    "\\end{equation}$\\\n",
    "\\\n",
    "$A_{11}u_1 + A_{12}u_2 = f_1 \\implies u_1 = A_{11}^{-1}(f_1 - A_{12}u_2)$\n",
    "\n",
    "$A_{21}u_1 + A_{22}u_2 = f_2 \\implies A_{22}u_2 = f_2 - A_{21}u_1 = f_2 - A_{21}(A_{11}^{-1}(f_1 - A_{12}u_2)) = f_2 - A_{21}A_{11}^{-1}f_1 + A_{21}A_{11}^{-1}A_{12}u_2 $\n",
    "\n",
    "$(A_{22}−A_{21}A^{−1}_{11}A_{12})u_2 = f_2−A_{21}A^{−1}_{11}f_1$, or in other words $L_{22}U_{22} = S$\n",
    "\n",
    "Answer:\n",
    "\n",
    "$S = A_{22}−A_{21}A^{−1}_{11}A_{12}\\\\\n",
    "\\hat f_2 = f_2−A_{21}A^{−1}_{11}f_1$"
   ]
  },
  {
   "cell_type": "markdown",
   "metadata": {
    "id": "EQwdRJSIOGIg"
   },
   "source": [
    "***\n",
    "* (4 pts) Using Schur complement properties prove that \n",
    "\n",
    "$$\\det(X+AB) = \\det(X)\\det(I+BX^{-1}A), $$\n",
    "where $X$ - nonsingular square matrix."
   ]
  },
  {
   "cell_type": "markdown",
   "metadata": {
    "id": "EQwdRJSIOGIg"
   },
   "source": [
    "`fueled by` [`a random hepfulpaper`](https://terrytao.wordpress.com/2013/01/13/matrix-identities-as-derivatives-of-determinant-identities/#schurd) ` on a Schur determinant identity`\n",
    "\n",
    "Consider $\\begin{bmatrix} X & A \\\\ -B & I \\end{bmatrix} = \n",
    "\\begin{bmatrix}\n",
    "X & 0 \\\\\n",
    "-B & I\n",
    "\\end{bmatrix}\n",
    "\\begin{bmatrix}\n",
    "I & X^{-1} A \\\\\n",
    "0 & I+B X^{-1} A\n",
    "\\end{bmatrix}=\\begin{bmatrix}\n",
    "X+A B & A \\\\\n",
    "0 & I\n",
    "\\end{bmatrix}\n",
    "\\begin{bmatrix}\n",
    "I & 0 \\\\\n",
    "-B & I\n",
    "\\end{bmatrix}$\\\n",
    "\\\n",
    "Since $\\det\\Big(\\begin{matrix}\n",
    "A & B \\\\\n",
    "0 & C\n",
    "\\end{matrix}\\Big)= \\det(A) \\det(C)$, _and_ while keeping in mind the standard way to compute a 2x2 determinant, we can write down\n",
    "$\\det\\Big(\\begin{matrix}\n",
    "X & A \\\\\n",
    "-B & I\n",
    "\\end{matrix}\\Big)=\\det(X+A B)=\\det(X) \\det\\Big(I+B X^{-1} A\\Big)$ QED.\n",
    "***"
   ]
  },
  {
   "cell_type": "markdown",
   "metadata": {
    "id": "EQwdRJSIOGIg"
   },
   "source": [
    "* (4 pts) Let matrix $F \\in \\mathbb{R}^{m \\times n}$ and $G \\in \\mathbb{R}^{n \\times m}$. Prove that \n",
    "\n",
    "$$\\det(I_m - FG) = \\det(I_n - GF).$$"
   ]
  },
  {
   "cell_type": "code",
   "execution_count": 66,
   "metadata": {
    "id": "4RBDYAWUOGIj"
   },
   "outputs": [],
   "source": [
    "def solution(problem):\n",
    "    pass"
   ]
  },
  {
   "cell_type": "markdown",
   "metadata": {},
   "source": [
    "## Problem 2 (eigenvalues)  (50 pts)\n",
    "\n",
    "### 1. Theoretical tasks (15 pts)\n",
    "\n",
    "* (2 pts) Prove that eigenvectors that correspond to distinct eigenvalues are linearly independent.\n",
    "\n",
    "* (3 pts) $A$ is a matrix such that $a_{i,j} \\ge 0$ and $\\sum_{j}a_{i,j} = 1$ (sum of the elements in each row is 1). Prove that $A$ has an eigenvalue $\\lambda=1$ and that any eigenvalue $\\lambda_i$: $|\\lambda_i| \\le 1$.\n",
    "\n",
    "* (5 pts) Prove that normal matrix is Hermitian iff its eigenvalues are real. Prove that normal matrix is unitary iff its eigenvalues satisfy $|\\lambda| = 1$. \n",
    "\n",
    "* (5 pts) The following problem illustrates instability of the Jordan form. Find theoretically the eigenvalues of the perturbed Jordan block (there is only one $\\varepsilon$ - in the left lower corner):\n",
    "\n",
    "$$\n",
    "    J(\\varepsilon) = \n",
    "    \\begin{bmatrix} \n",
    "     \\lambda & 1 & & & 0 \\\\ \n",
    "     0 & \\lambda & 1 & & \\\\ \n",
    "     & 0 & \\ddots & \\ddots & \\\\ \n",
    "     & & 0 & \\lambda & 1 \\\\ \n",
    "     \\varepsilon & & & 0 & \\lambda  \\\\ \n",
    "    \\end{bmatrix}_{n\\times n}\n",
    "$$\n",
    "\n",
    "   Comment how eigenvalues of $J(0)$ are perturbed for large $n$."
   ]
  },
  {
   "cell_type": "code",
   "execution_count": 1,
   "metadata": {},
   "outputs": [],
   "source": [
    "# Your solution is here"
   ]
  },
  {
   "cell_type": "markdown",
   "metadata": {
    "id": "xWcyqKyrOGIp"
   },
   "source": [
    "### 2. PageRank (35 pts)\n",
    "\n",
    "\n",
    "#### Damping factor importance\n",
    "\n",
    "* (5 pts) Write the function ```pagerank_matrix(G)``` that takes an adjacency matrix $G$ (in both sparse and dense formats) as an input and outputs the corresponding PageRank matrix $A$."
   ]
  },
  {
   "cell_type": "code",
   "execution_count": 9,
   "metadata": {
    "id": "2jktwIc8OGIp"
   },
   "outputs": [],
   "source": [
    "\"\"\"\n",
    "References: \n",
    "https://en.wikipedia.org/wiki/Google_matrix#Construction_of_Google_matrix_G\n",
    "http://blog.samuelmh.com/2015/02/pagerank-sparse-matrices-python-ipython.html\n",
    "\"\"\"\n",
    "import numpy as np \n",
    "from scipy import sparse\n",
    "from scipy.sparse.linalg import inv\n",
    "\n",
    "# INPUT:  G - np.ndarray or sparse matrix\n",
    "# OUTPUT: A - np.ndarray (of size G.shape) or sparse matrix\n",
    "def pagerank_matrix(G):\n",
    "    num_pages = G.shape[0]\n",
    "    if isinstance(G, sparse.spmatrix):\n",
    "        G += sparse.diags(np.where(G.sum(1) == 0, 1, 0).reshape(1,-1), [0], shape=G.shape) \n",
    "        # adding self-loops makes matrix stochastic and still sparse\n",
    "        return inv(sparse.diags(G.sum(1).reshape(1, -1), [0], shape=G.shape)) @ G\n",
    "    else:\n",
    "        rowsums = G.sum(axis=1)\n",
    "        return G / rowsums.reshape(-1, 1)"
   ]
  },
  {
   "cell_type": "code",
   "execution_count": 12,
   "metadata": {
    "id": "2jktwIc8OGIp"
   },
   "outputs": [],
   "source": [
    "G = np.asarray(\n",
    "    [\n",
    "        [0, 1, 0, 0, 0],\n",
    "        [0, 0, 1, 0, 0],\n",
    "        [1, 1, 0, 0, 0],\n",
    "        [0, 0, 0, 0, 1],\n",
    "        [0, 0, 0, 1, 0]\n",
    "    ]\n",
    ")\n",
    "# pagerank_matrix(sparse.csr_matrix(G))\n",
    "print(pagerank_matrix(sparse.csc_matrix(G)))"
   ]
  },
  {
   "cell_type": "code",
   "execution_count": 22,
   "metadata": {
    "id": "2jktwIc8OGIp"
   },
   "outputs": [
    {
     "name": "stdout",
     "output_type": "stream",
     "text": [
      "[0.18465566 0.23737481 0.16238794 0.20779079 0.20779079]\n"
     ]
    }
   ],
   "source": [
    "import numpy as np\n",
    "from scipy.sparse import csc_matrix\n",
    "\n",
    "def pageRank(G, s = 0.5, maxerr = .001):\n",
    "    \"\"\"\n",
    "    Computes the pagerank for each of the n states.\n",
    "    Used in webpage ranking and text summarization using unweighted\n",
    "    or weighted transitions respectively.\n",
    "    Args\n",
    "    ----------\n",
    "    G: matrix representing state transitions\n",
    "       Gij can be a boolean or non negative real number representing the\n",
    "       transition weight from state i to j.\n",
    "    Kwargs\n",
    "    ----------\n",
    "    s: probability of following a transition. 1-s probability of teleporting\n",
    "       to another state. Defaults to 0.85\n",
    "    maxerr: if the sum of pageranks between iterations is bellow this we will\n",
    "            have converged. Defaults to 0.001\n",
    "    \"\"\"\n",
    "    n = G.shape[0]\n",
    "\n",
    "    # transform G into markov matrix M\n",
    "    M = csc_matrix(G).astype('float')\n",
    "    rsums = np.array(M.sum(1))[:,0]\n",
    "    ri, ci = M.nonzero()\n",
    "    M.data /= rsums[ri]\n",
    "\n",
    "    # bool array of sink states\n",
    "    sink = rsums==0\n",
    "\n",
    "    # Compute pagerank r until we converge\n",
    "    ro, r = np.zeros(n), np.ones(n)\n",
    "    while np.sum(np.abs(r-ro)) > maxerr:\n",
    "        ro = r.copy()\n",
    "        # calculate each pagerank at a time\n",
    "        for i in range(n):\n",
    "            # inlinks of state i\n",
    "            Ii = np.array(M[:,i].todense())[:,0]\n",
    "            # account for sink states\n",
    "            Si = sink / float(n)\n",
    "            # account for teleportation to state i\n",
    "            Ti = np.ones(n) / float(n)\n",
    "\n",
    "            r[i] = ro.dot( Ii*s + Si*s + Ti*(1-s) )\n",
    "\n",
    "    # return normalized pagerank\n",
    "    return r/sum(r)\n",
    "\n",
    "\n",
    "\n",
    "\n",
    "G = np.asarray(\n",
    "    [\n",
    "        [0, 1, 0, 0, 0],\n",
    "        [0, 0, 1, 0, 0],\n",
    "        [1, 1, 0, 0, 0],\n",
    "        [0, 0, 0, 0, 1],\n",
    "        [0, 0, 0, 1, 0]\n",
    "    ]\n",
    ")\n",
    "print(pageRank(G))"
   ]
  },
  {
   "cell_type": "markdown",
   "metadata": {
    "id": "BtVmgGnYOGIs"
   },
   "source": [
    "* (3 pts) Find PageRank matrix $A$ that corresponds to the following graph: <img src=\"graph.png\" width='250'>\n",
    "What is its largest eigenvalue? What multiplicity does it have?\n",
    "\n",
    "\n",
    "* (5 pts) Implement the power method for a given matrix $A$, an initial guess $x_0$ and a number of iterations ```num_iter```. It should be organized as a function ```power_method(A, x0, num_iter)``` that outputs approximation to eigenvector $x$, eigenvalue $\\lambda$ and history of residuals $\\{\\|Ax_k - \\lambda_k x_k\\|_2\\}$. Make sure that the method converges to the correct solution on a matrix $\\begin{bmatrix} 2 & -1 \\\\ -1 & 2 \\end{bmatrix}$ which is known to have the largest eigenvalue equal to $3$."
   ]
  },
  {
   "cell_type": "code",
   "execution_count": null,
   "metadata": {
    "id": "uLo7A--rOGIs"
   },
   "outputs": [],
   "source": [
    "# INPUT:  A - np.ndarray (2D), x0 - np.ndarray (1D), num_iter - integer (positive)\n",
    "# OUTPUT: x - np.ndarray (of size x0), l - float, res - np.ndarray (of size num_iter + 1 [include initial guess])\n",
    "def power_method(A, x0, num_iter): # 5 pts\n",
    "    # enter your code here\n",
    "    return x, l, res"
   ]
  },
  {
   "cell_type": "markdown",
   "metadata": {
    "id": "9hAowO6zOGIu"
   },
   "source": [
    "* (2 pts) Run the power method for the graph presented above and plot residuals $\\|Ax_k - \\lambda_k x_k\\|_2$ as a function of $k$ for ```num_iter=100``` and random initial guess ```x0```.  Explain the absence of convergence. \n",
    "\n",
    "\n",
    "* (2 pts) Consider the same graph, but with additional self loop at node 4 (self loop is an edge that connects a vertex with itself). Plot residuals as in the previous task and discuss the convergence. Now, run the power method with ```num_iter=100``` for 10 different initial guesses and print/plot the resulting approximated eigenvectors. Why do they depend on the initial guess?\n",
    "\n",
    "\n",
    "In order to avoid this problem Larry Page and Sergey Brin [proposed](http://ilpubs.stanford.edu:8090/422/1/1999-66.pdf) to use the following regularization technique:\n",
    "\n",
    "$$\n",
    "A_d = dA + \\frac{1-d}{N} \\begin{pmatrix} 1 & \\dots & 1 \\\\ \\vdots & & \\vdots \\\\ 1 & \\dots & 1 \\end{pmatrix},\n",
    "$$\n",
    "\n",
    "where $d$ is a small parameter in $[0,1]$ (typically $d=0.85$), which is called **damping factor**, $A$ is of size $N\\times N$. Now $A_d$ is the matrix with multiplicity of the largest eigenvalue equal to 1. \n",
    "Recall that computing the eigenvector of the PageRank matrix, which corresponds to the largest eigenvalue, has the following interpretation. Consider a person who stays in a random node of a graph (i.e. opens a random web page); at each step s/he follows one of the outcoming edges uniformly at random (i.e. opens one of the links). So the person randomly walks through the graph and the eigenvector we are looking for is exactly his/her stationary distribution â€” for each node it tells you the probability of visiting this particular node. Therefore, if the person has started from a part of the graph which is not connected with the other part, he will never get there.  In the regularized model, the person at each step follows one of the outcoming links with probability $d$ OR teleports to a random node from the whole graph with probability $(1-d)$.\n",
    "\n",
    "* (2 pts) Now, run the power method with $A_d$ and plot residuals $\\|A_d x_k - \\lambda_k x_k\\|_2$ as a function of $k$ for $d=0.97$, ```num_iter=100``` and a random initial guess ```x0```.\n",
    "\n",
    "* (5 pts) Find the second largest in the absolute value eigenvalue of the obtained matrix $A_d$. How and why is it connected to the damping factor $d$? What is the convergence rate of the PageRank algorithm when using damping factor?\n",
    "\n",
    "Usually, graphs that arise in various areas are sparse (social, web, road networks, etc.) and, thus, computation of a matrix-vector product for corresponding PageRank matrix $A$ is much cheaper than $\\mathcal{O}(N^2)$. However, if $A_d$ is calculated directly, it becomes dense and, therefore, $\\mathcal{O}(N^2)$ cost grows prohibitively large for  big $N$.\n",
    "\n",
    "\n",
    "* (2 pts) Implement fast matrix-vector product for $A_d$ as a function ```pagerank_matvec(A, d, x)```, which takes a PageRank matrix $A$ (in sparse format, e.g., ```csr_matrix```), damping factor $d$ and a vector $x$ as an input and returns $A_dx$ as an output. \n",
    "\n",
    "* (1 pts) Generate a random adjacency matrix of size $10000 \\times 10000$ with only 100 non-zero elements and compare ```pagerank_matvec``` performance with direct evaluation of $A_dx$."
   ]
  },
  {
   "cell_type": "code",
   "execution_count": null,
   "metadata": {
    "id": "4o3LKx5UOGIv"
   },
   "outputs": [],
   "source": [
    "# INPUT:  A - np.ndarray (2D), d - float (from 0.0 to 1.0), x - np.ndarray (1D, size of A.shape[0/1])\n",
    "# OUTPUT: y - np.ndarray (1D, size of x)\n",
    "def pagerank_matvec(A, d, x): # 2 pts\n",
    "    # enter your code here\n",
    "    return y"
   ]
  },
  {
   "cell_type": "markdown",
   "metadata": {
    "id": "ru70NGUlOGIy"
   },
   "source": [
    "#### DBLP: computer science bibliography\n",
    "\n",
    "Download the dataset from [here](https://goo.gl/oZVxEa), unzip it and put `dblp_authors.npz`  and `dblp_graph.npz` in the same folder with this notebook. Each value (author name) from `dblp_authors.npz` corresponds to the row/column of the matrix from `dblp_graph.npz`. Value at row `i` and column `j` of the matrix from `dblp_graph.npz` corresponds to the number of times author `i` cited papers of the author `j`. Let us now find the most significant scientists according to PageRank model over DBLP data.\n",
    "\n",
    "* (4 pts) Load the weighted adjacency matrix and the authors list into Python using ```load_dblp(...)``` function. Print its density (fraction of nonzero elements). Find top-10 most cited authors from the weighted adjacency matrix. Now, make all the weights of the adjacency matrix equal to 1 for simplicity (consider only existence of connection between authors, not its weight). Obtain the PageRank matrix $A$ from the adjacency matrix and verify that it is stochastic.\n",
    " \n",
    " \n",
    "* (1 pts) In order to provide ```pagerank_matvec``` to your ```power_method``` (without rewriting it) for fast calculation of $A_dx$, you can create a ```LinearOperator```: \n",
    "```python\n",
    "L = scipy.sparse.linalg.LinearOperator(A.shape, matvec=lambda x, A=A, d=d: pagerank_matvec(A, d, x))\n",
    "```\n",
    "Calling ```L@x``` or ```L.dot(x)``` will result in calculation of ```pagerank_matvec(A, d, x)``` and, thus, you can plug $L$ instead of the matrix $A$ in the ```power_method``` directly. **Note:** though in the previous subtask graph was very small (so you could disparage fast matvec implementation), here it is very large (but sparse), so that direct evaluation of $A_dx$ will require $\\sim 10^{12}$ matrix elements to store - good luck with that (^_<).\n",
    "\n",
    "\n",
    "* (2 pts) Run the power method starting from the vector of all ones and plot residuals $\\|A_dx_k - \\lambda_k x_k\\|_2$  as a function of $k$ for $d=0.85$.\n",
    "\n",
    "\n",
    "* (1 pts) Print names of the top-10 authors according to PageRank over DBLP when $d=0.85$. Comment on your findings."
   ]
  },
  {
   "cell_type": "code",
   "execution_count": null,
   "metadata": {
    "id": "L5ZnW7m-OGIz"
   },
   "outputs": [],
   "source": [
    "from scipy.sparse import load_npz\n",
    "import numpy as np\n",
    "def load_dblp(path_auth, path_graph):\n",
    "    G = load_npz(path_graph).astype(float)\n",
    "    with np.load(path_auth) as data: authors = data['authors']\n",
    "    return G, authors\n",
    "G, authors = load_dblp('dblp_authors.npz', 'dblp_graph.npz')"
   ]
  },
  {
   "cell_type": "code",
   "execution_count": null,
   "metadata": {
    "id": "QynfixvjOGI1"
   },
   "outputs": [],
   "source": [
    "# Your code is here"
   ]
  },
  {
   "cell_type": "markdown",
   "metadata": {
    "id": "hQ2vaIyMOGI3"
   },
   "source": [
    "## Problem 3. QR algorithm (33 pts)\n",
    "\n",
    "* Implement QR-algorithm without shifts. Prototype of the function is given below"
   ]
  },
  {
   "cell_type": "code",
   "execution_count": null,
   "metadata": {
    "id": "rMHBZLojOGI3"
   },
   "outputs": [],
   "source": [
    "# INPUT: \n",
    "# A_init - square matrix, \n",
    "# num_iter - number of iterations for QR algorithm\n",
    "# OUTPUT: \n",
    "# Ak - transformed matrix A_init given by QR algorithm, \n",
    "# convergence - numpy array of shape (num_iter, ), \n",
    "# where we store the maximal number from the Chebyshev norm \n",
    "# of triangular part of the Ak for every iteration\n",
    "def qr_algorithm(A_init, num_iter): # 3 pts\n",
    "    # enter your code here\n",
    "    return Ak, convergence"
   ]
  },
  {
   "cell_type": "markdown",
   "metadata": {
    "id": "UNrCBNRUOGI6"
   },
   "source": [
    "#### Symmetric case (3 pts)\n",
    "- Create symmetric tridiagonal $11 \\times 11$ matrix with elements $-1, 2, -1$ on sub-, main- and upper diagonal respectively without using loops.\n",
    "- Run $400$ iterations of the QR algorithm for this matrix.\n",
    "- Plot the output matrix with function ```plt.spy(Ak, precision=1e-7)```.\n",
    "- Plot convergence of QR-algorithm."
   ]
  },
  {
   "cell_type": "code",
   "execution_count": null,
   "metadata": {
    "id": "NuKwQGXbOGI6"
   },
   "outputs": [],
   "source": [
    "# Your solution is here"
   ]
  },
  {
   "cell_type": "markdown",
   "metadata": {
    "id": "-lomV2K-OGI8"
   },
   "source": [
    "#### Nonsymmetric case (5 pts)\n",
    "\n",
    "- Create nonsymmetric tridiagonal $11 \\times 11$ matrix with elements $5, 3, -2$ on sub-, main- and upper diagonal respectively without using loops.\n",
    "- Run $250$ iterations of the QR algorithm for this matrix.\n",
    "- Plot the result matrix with function ```plt.spy(Ak, precision=1e-7)```. Is this matrix lower triangular? How does this correspond to the claim about convergence of the QR algorithm?"
   ]
  },
  {
   "cell_type": "code",
   "execution_count": null,
   "metadata": {
    "id": "C2lGBHjaOGI9"
   },
   "outputs": [],
   "source": [
    "# Your solution is here"
   ]
  },
  {
   "cell_type": "markdown",
   "metadata": {},
   "source": [
    "### QR algorithms with Rayleigh Quotient shift (10 pts)\n",
    "\n",
    "In the lectures the Rayleigh Quotient shift was introduced to speed up convergence of power method. Here we ask you to generalize this approach to construct the shifts in QR algorithm.\n",
    "\n",
    "- How to compute the Rayleigh Quotient shift in QR algorithm fast? Provide formulas and explanations how they can be simplified.\n",
    "- Implement explicit QR algorithm with Rayleigh Quotient shift. Please do not worry about implicit orthogonalization, we want to compare convergence only in terms of iterations.\n",
    "- Test your implementation in the symmetric case. Plot the convergence of QR algorithm with and without shift. Choose the dimension $n \\sim 100 $ for more representative results. \n",
    "- How the convergence of the shifted algorithm compares to the simple QR? Why? "
   ]
  },
  {
   "cell_type": "code",
   "execution_count": 1,
   "metadata": {},
   "outputs": [],
   "source": [
    "def qr_algorithm_reileigh(A_init, num_iter):\n",
    "    # enter your code here\n",
    "    return Ak, convergence"
   ]
  },
  {
   "cell_type": "markdown",
   "metadata": {},
   "source": [
    "- Try QR with Rayleigh Quotient shift for a simple matrix $A = \\begin{bmatrix}\n",
    "0 & 1 \\\\\n",
    "1 & 0\n",
    "\\end{bmatrix}$. Does anything change from iteration to iteration? Does shift affect convergence here? Why?"
   ]
  },
  {
   "cell_type": "code",
   "execution_count": null,
   "metadata": {},
   "outputs": [],
   "source": [
    "# Your solution is here"
   ]
  },
  {
   "cell_type": "markdown",
   "metadata": {},
   "source": [
    "### QR with Wilkinson shift  (15 pts)\n",
    "\n",
    "To solve the problem that appears in the last example, we can use the Wilkinson shift:\n",
    "\n",
    "$$\\mu = a_m - \\frac {sign(\\delta) b^2_{m-1}} {(|\\delta| + \\sqrt{\\delta^2 + b^2_{m-1}} )},$$\n",
    "\n",
    "where $\\delta = \\frac{(a_{m-1} - a_m)}{2}$. If $\\delta = 0$, then instead of $sign(\\delta)$ you have to choose $1$ or $-1$ arbitrary.\n",
    "The numbers $a_m, b_{m-1}, a_{m-1}$ are taken from matrix $B$:\n",
    "\n",
    "$$\n",
    "    B = \n",
    "    \\begin{bmatrix} \n",
    "     a_{m-1} & b_{m-1} \\\\ \n",
    "     b_{m-1} & a_m \\\\ \n",
    "    \\end{bmatrix},\n",
    "$$  \n",
    "which is a lower right bottom submatrix of $A^{(k)}$. Here $k$ is an iteration counter in QR algorithm.\n",
    "\n",
    "- Compare convergence in the symmetric cases: \n",
    "    - distinctive eigenvalues\n",
    "    - two coincident eigenvalues\n",
    "    - maximum and minimum eigenvalues with the same absolute value\n",
    "Choose the dimension $n \\sim 100 $ for more representative results.\n",
    "What do you observe? "
   ]
  },
  {
   "cell_type": "code",
   "execution_count": null,
   "metadata": {},
   "outputs": [],
   "source": [
    "def qr_algorithm_wilkinson(A_init, num_iter):\n",
    "    # enter your code here\n",
    "    return Ak, convergence"
   ]
  },
  {
   "cell_type": "code",
   "execution_count": null,
   "metadata": {},
   "outputs": [],
   "source": [
    "# Your solution is here"
   ]
  },
  {
   "cell_type": "markdown",
   "metadata": {
    "id": "c_8OYe7wOGI-"
   },
   "source": [
    "## Problem 4. (Movie Recommender system) 15 pts\n",
    "\n",
    "Imagine the world without NLA where you have free evenings and you can watch movies!  \n",
    "But it is always hard to choose a movie to watch. \n",
    "In this problem we suggest you to build your own movie recommender system based on SVD decomposition, so you can combine two perfect things: Numerical Linear Algebra and cinematography!"
   ]
  },
  {
   "cell_type": "markdown",
   "metadata": {
    "id": "W2duSA-Su7CI",
    "tags": []
   },
   "source": [
    "In order to build recommender system you need data. \n",
    "Here you are https://grouplens.org/datasets/movielens/1m/\n",
    "\n",
    "Usually all recommender systems may be devided into two groups\n",
    "\n",
    "#### Collaborative filtering. \n",
    "\n",
    "This approach is based on user-item interaction.\n",
    "It has one important assumption: user who has liked an item in the past will also likes the same in the future. Suppose the user A likes the films about vampires. \n",
    "He is Twilight saga fan and he has watched the film \"What we do in the shadows\" and liked it or unliked it, in other words he evaluated it somehow. And suppose another user B, who has the similair behavior to the first user (he is also Twilight saga fan). And the chance, that he will estimate \"What we do in the shadows\" in the same way that user A did, is huge. So, the purpose of the collaborative filtering is to predict a user's behavior based on behavior of the simular users.\n",
    "\n",
    "#### Content based filtering.\n",
    "\n",
    "Collaborative filtering has some essential flaws. The main one is called \"cold start\". \"Cold start\" happens when the new user comes and he has not react anyhow to the items. So we do not know his past behavior and we do not know what to advise. Here content based filtering helps. Often resources gather some extra info about users and items before a user comes down to utilising the resource. So, for example we would know that user likes horror movies before he watched anything on the resource."
   ]
  },
  {
   "cell_type": "markdown",
   "metadata": {
    "id": "mMvQV1zSu7Cg"
   },
   "source": [
    "\n",
    "- In this task you will implement Collaborative filtering based on SVD (we will use the function from the proper package and check if the result recommender system advices the similar movies)"
   ]
  },
  {
   "cell_type": "markdown",
   "metadata": {
    "id": "tMN7EK6gu7Ch",
    "tags": []
   },
   "source": [
    "1) (1 pts)  Explore the data. Construct the interaction matrix $M$ of size $m \\times n$ which contains the information of how a certain user rated a certain film. \n",
    "\n",
    "2) (5 pts)  Compute SVD of this matrix. Remeber that matrix $M$ is sparse (one user can hardly watch all the movies) so the good choice would be to use method from ```scipy.sparse.linalg``` package\n",
    "\n",
    "$$ M = USV^{\\top}, $$\n",
    "\n",
    "where $U$ is a $m \\times r $ orthogonal matrix with left singular vectors, which represents the relationship between users and latent factors, $S$ is a $r \\times r $ diagonal matrix, which describes the strength of each latent factor and $V^\\top$ is a $r \\times n$ matrix with right singular vectors, which represent the embeddings of  items (movies in our case) in latent space.\n",
    "Describe any simple heuristic to choose appropriate value for $r$ and explain why do you expect that it will work.\n"
   ]
  },
  {
   "cell_type": "code",
   "execution_count": null,
   "metadata": {
    "id": "qxYtnm7au7Ci",
    "tags": []
   },
   "outputs": [],
   "source": [
    "# Importing Libraries\n",
    "import numpy as np\n",
    "import pandas as pd\n",
    "\n",
    "# Read the dataset\n",
    "\n",
    "# Create the interaction matrix\n",
    "\n",
    "# Normalize the matrix\n"
   ]
  },
  {
   "cell_type": "code",
   "execution_count": null,
   "metadata": {
    "id": "3zUd9OvBu7Cj",
    "tags": []
   },
   "outputs": [],
   "source": [
    "# Compute Singular Value Decomposition of interaction matrix. You can use built-in functions\n",
    "\n",
    "U,S, V = svd(M) # Update this line, it is just example"
   ]
  },
  {
   "cell_type": "markdown",
   "metadata": {
    "id": "SMXnKF5Tu7Cj",
    "tags": []
   },
   "source": [
    "3) (2 pts) In order to get weighted item-latent factors, we can multiply $S$ and $V^{T}$. Please, remember that $S$ is diagonal and multiply them efficiently."
   ]
  },
  {
   "cell_type": "code",
   "execution_count": null,
   "metadata": {
    "id": "VEW4M5Ovu7Cj",
    "tags": []
   },
   "outputs": [],
   "source": [
    "# Your solutuion is here"
   ]
  },
  {
   "cell_type": "markdown",
   "metadata": {
    "id": "eEMDQkkqu7Ck"
   },
   "source": [
    "Now we have vectors that represent our item space. In other words we have $N$ movies and $N$ vectors which describe each movie, a.k.a. embeddings. \n",
    "In order to know if two movies are similar or not we need just to check if the corresponding vectors are similair or not. How we can do this?\n",
    "\n",
    "4) (2 pts)  Implement the cosine metric. If the cosine metric between two vectors equals to $1$ both vectors are collinear, if $0$ vectors are orthogonal, as a result corresponding movies are completely different.\n",
    "\n",
    "$$\n",
    "cosine(u,v) = \\frac{u^{\\top}v}{\\|u\\|_2\\|v\\|_2}\n",
    "$$"
   ]
  },
  {
   "cell_type": "code",
   "execution_count": null,
   "metadata": {
    "id": "lAR4dXMOOGI_",
    "tags": []
   },
   "outputs": [],
   "source": [
    "# Your solutuion is here"
   ]
  },
  {
   "cell_type": "markdown",
   "metadata": {
    "id": "6wRZh8ALu7C1"
   },
   "source": [
    "5) (5 pts) Check your result. Implement the fuction, which finds and prints $k$ similar movies to the one you have chosen"
   ]
  },
  {
   "cell_type": "code",
   "execution_count": null,
   "metadata": {
    "id": "26g7MzeWu7C1"
   },
   "outputs": [],
   "source": [
    "# Your solutuion is here"
   ]
  },
  {
   "cell_type": "markdown",
   "metadata": {
    "id": "oPIQfKcmu7C2"
   },
   "source": [
    "Enjoy watching the recommended movies!\n"
   ]
  }
 ],
 "metadata": {
  "colab": {
   "collapsed_sections": [],
   "name": "hw2_problem_1_3.ipynb",
   "provenance": []
  },
  "kernelspec": {
   "display_name": "Python 3 (ipykernel)",
   "language": "python",
   "name": "python3"
  },
  "language_info": {
   "codemirror_mode": {
    "name": "ipython",
    "version": 3
   },
   "file_extension": ".py",
   "mimetype": "text/x-python",
   "name": "python",
   "nbconvert_exporter": "python",
   "pygments_lexer": "ipython3",
   "version": "3.8.10"
  }
 },
 "nbformat": 4,
 "nbformat_minor": 4
}
