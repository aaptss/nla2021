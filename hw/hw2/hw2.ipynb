{
 "cells": [
  {
   "cell_type": "markdown",
   "metadata": {
    "id": "t9v1vX4-OGIT"
   },
   "source": [
    "# Problem set 2 (45 + 50 + 33 + 15 = 143 pts)"
   ]
  },
  {
   "cell_type": "markdown",
   "metadata": {
    "id": "FOMNJ4TcOGIV"
   },
   "source": [
    "## Problem 1 (LU decomposition) 45 pts\n"
   ]
  },
  {
   "cell_type": "markdown",
   "metadata": {
    "id": "pYHDl6ppOGIV"
   },
   "source": [
    "### 1. LU  for band matrices and Cholesky decomposition (13 pts)\n",
    "\n",
    "The complexity to find an LU decomposition of a dense $n\\times n$ matrix is $\\mathcal{O}(n^3)$.\n",
    "Significant reduction in complexity can be achieved if the matrix has a certain structure, e.g. it is sparse. \n",
    "In the following task we consider an important example of $LU$ for a special type of matrices –– band matrices with top left entry equal to 1 and the bandwidth $m$ equal to 3 or 5 which called tridiagonal and pentadiagonal respectively. The bands may be ```[1, 2, 1]``` and ```[1, 1, 2, 1, 1]``` respectively\n",
    "\n",
    "- (4 pts) Write a function ```band_lu(diag_broadcast, n)``` which computes LU decomposition for tridiagonal or pentadiagonal matrix with top left entry equal to 1 with given diagonal bands. \n",
    "For example, input parametres ```(diag_broadcast = [1,2,1], n = 4)``` mean that we need to find LU decomposition for the triangular matrix of the form:\n",
    "\n",
    "$$A = \\begin{pmatrix}\n",
    "1 & 1 & 0 & 0\\\\\n",
    "1 & 2 & 1 & 0 \\\\\n",
    "0 & 1 & 2 & 1 \\\\\n",
    "0 & 0 & 1 & 2 \\\\\n",
    "\\end{pmatrix}.$$\n",
    "\n",
    "Provide the extensive testing of the implemented function that will works correctly for large $n$,  e.g. $n=100$.\n",
    "As an output it is considered to make ```L``` and ```U``` - 2D arrays representing diagonals in factors $L$ (```L[0]``` keeps first lower diagonal, ```L[1]``` keeps second lower, ...), and $U$ (```U[:,0]``` keeps main diagonal, ```U[:,1]``` keeps first upper, ...).\n",
    "\n",
    "- (2 pts) Compare execution time of the band LU decomposition using standard function from ```scipy```, i.e. which takes the whole matrix and does not know about its special structure, and band decomposition of yours implementation. Comment on the results.\n",
    "\n",
    "- (7 pts) Write a function ```cholesky(n)``` for computing Cholesky decomposition. It should take the the single argument - the matrix that will be factorized and return the single output - lower-triangular factor $L$. Think about the efficiency of your implementation and if necessary update it to achieve the best performance (eliminate Python loops, where it is possible and so on). Explicitly describe the difference with LU decomposition that reduces the complexity from $2n^3/3$ for LU to $n^3/3$ for Cholesky. \n",
    "Test the implemented function on the Pascal matrix of given size $n$ for $n = 5, 10, 50$. \n",
    "Pascal matrix is square matrix of the following form (here for $n=4$)\n",
    "$$P = \\begin{pmatrix}\n",
    "1 & 1 & 1 & 1\\\\\n",
    "1 & 2 & 3 & 4 \\\\\n",
    "1 & 3 & 6 & 10 \\\\\n",
    "1 & 4 & 10 & 20 \\\\\n",
    "\\end{pmatrix}.$$\n",
    "\n",
    "    [Here](https://en.wikipedia.org/wiki/Pascal_matrix) you can find more details about such matrices and analytical form for factor $L$ from Cholesky decomposition. Compare the result of your implementation with analytical expression in terms of some matrix norm of difference.  "
   ]
  },
  {
   "cell_type": "code",
   "execution_count": 103,
   "metadata": {
    "id": "BvY7icWBOGIW"
   },
   "outputs": [],
   "source": [
    "from scipy.sparse import diags # can be used with broadcasting of scalars if desired dimensions are large\n",
    "import numpy as np\n",
    "\n",
    "# INPUT : diag_broadcast - list of diagonals value to broadcast,length equal to 3 or 5; n - integer, \n",
    "#                               band matrix shape.\n",
    "# OUTPUT : L - 2D np.ndarray, \n",
    "#                L.shape[0] depends on bandwidth, \n",
    "#                L.shape[1] = n-1, do not store main diagonal, where all ones;                  \n",
    "#                add zeros to the right side of rows to handle with changing length of diagonals.\n",
    "#          U - 2D np.ndarray, U.shape[0] = n, U.shape[1] depends on bandwidth;\n",
    "#              add zeros to the bottom of columns to handle with changing length of diagonals.\n",
    "\n",
    "def band_lu(diag_broadcast, n):\n",
    "    if len(diag_broadcast) != 3:\n",
    "        if len(diag_broadcast) != 5:\n",
    "            raise ValueError(\"Expecting a band of size 3 or 5\")\n",
    "\n",
    "    band = len(diag_broadcast)\n",
    "    m = band // 2\n",
    "    L = np.zeros((m, n - 1))\n",
    "    U = np.zeros((n, m + 1))\n",
    "    \n",
    "    U[:, :] = diag_broadcast[m:]\n",
    "    U[0, 0] = 1\n",
    "    a0 = diag_broadcast[0]\n",
    "    a1 = diag_broadcast[1]\n",
    "    a = a1 if band == 5 else a0\n",
    "    \n",
    "    for i in range(n - 1):\n",
    "        if abs(U[i, 0]) < 1e-10:\n",
    "            raise ValueError(\"pivot values are small\")\n",
    "        \n",
    "        if i == 0:\n",
    "            u00val = 1 \n",
    "        else:\n",
    "            u00val =  U[i, 0]\n",
    "        L[0, i] = a / u00val\n",
    "        U[i + 1, 0] -= L[0, i] * U[i, 1]\n",
    "        if i != n - 2 and band == 5:\n",
    "            L[1, i] = a0 / u00val\n",
    "            U[i + 1, 1] -= L[0, i] * U[i, 2]\n",
    "            U[i + 2, 0] -= L[1, i] * U[i, 2]\n",
    "            a = a1 - L[1, i] * U[i, 1]\n",
    "    return L, U   \n",
    "\n",
    "\n",
    "def ground_truth(diag, N):\n",
    "    m = len(diag) // 2\n",
    "    diag_z = diag + [0 for _ in range(N - len(diag))]\n",
    "    A = np.asarray([np.roll(diag_z , i - m) for i in range(N)])\n",
    "    for i in range(m + 1, N):\n",
    "        for j in range(0, i - m):\n",
    "            A[i,j] = 0\n",
    "    A[0, 0] = 1\n",
    "    A[0, -1] = 0\n",
    "    return A\n",
    "\n",
    "def test_correctness(diag, N):\n",
    "    L, U = band_lu(diag, N)\n",
    "    L = (diags(L, [-1]).todense() + np.identity(N))\n",
    "    U = diags(U.T, [0, 1]).todense()\n",
    "\n",
    "    trueval = ground_truth(diag, N)\n",
    "    res = np.allclose(trueval, L@U)\n",
    "    return res"
   ]
  },
  {
   "cell_type": "code",
   "execution_count": 32,
   "metadata": {
    "id": "XVySYJbTOGIa"
   },
   "outputs": [
    {
     "name": "stdout",
     "output_type": "stream",
     "text": [
      "True\n",
      "True\n"
     ]
    }
   ],
   "source": [
    "\"\"\" Check for correctness \"\"\"\n",
    "\n",
    "from random import randint\n",
    "\n",
    "correct = []\n",
    "k = 0\n",
    "for i in range(10, 400):\n",
    "    k += 1\n",
    "    r = test_correctness([randint(0, 1000), \n",
    "                          randint(0, 1000), \n",
    "                          randint(0, 1000)], \n",
    "                                     i)\n",
    "    # print(\"iter {} is {}\\n\".format(k,r))\n",
    "    correct.append(r)\n",
    "print(all(correct))\n",
    "\n",
    "k = 0\n",
    "for i in range(10, 400):\n",
    "    k += 1\n",
    "    r = test_correctness([1e3, \n",
    "                          1e-3, \n",
    "                          1e-3], \n",
    "                                     i)\n",
    "    # print(\"iter {} is {}\\n\".format(k,r))\n",
    "    correct.append(r)\n",
    "print(all(correct))"
   ]
  },
  {
   "cell_type": "code",
   "execution_count": 86,
   "metadata": {
    "id": "XVySYJbTOGIa"
   },
   "outputs": [],
   "source": [
    "\"\"\"\n",
    "Compare execution time of the band LU decomposition \n",
    "using standard function from scipy, \n",
    "i.e. which takes the whole matrix and does not know about its special structure, \n",
    "and band decomposition of yours implementation. Comment on the results.\n",
    "\"\"\"\n",
    "\n",
    "from scipy.linalg import lu\n",
    "import matplotlib.pyplot as plt\n",
    "from matplotlib.pyplot import figure\n",
    "\n",
    "def do_cholesky_time_cmp(diag, Ns):\n",
    "    ts = [[], []]\n",
    "    for n in Ns:\n",
    "        A = ground_truth(diag, n)\n",
    "        t = %timeit -o -q -n 5 lu(A)\n",
    "        ts[0].append(np.mean(t.timings))\n",
    "        t = %timeit -o -q -n 5 band_lu(diag, n)\n",
    "        ts[1].append(np.mean(t.timings))\n",
    "\n",
    "    figure(figsize=(8, 6), dpi=80)\n",
    "    plt.plot(ts[0], label='scipy')\n",
    "    plt.plot(ts[1], label='band')\n",
    "    plt.ylabel('sec')\n",
    "    plt.xlabel('N')\n",
    "    plt.xticks(ticks=([i for i,_ in enumerate(Ns)]),labels=Ns, rotation=90)\n",
    "    plt.legend()\n",
    "    plt.show()"
   ]
  },
  {
   "cell_type": "code",
   "execution_count": 104,
   "metadata": {
    "id": "XVySYJbTOGIa"
   },
   "outputs": [
    {
     "data": {
      "image/png": "[encoded data removed]",
      "text/plain": [
       "<Figure size 640x480 with 1 Axes>"
      ]
     },
     "metadata": {
      "needs_background": "light"
     },
     "output_type": "display_data"
    },
    {
     "data": {
      "text/plain": [
       "5"
      ]
     },
     "execution_count": 104,
     "metadata": {},
     "output_type": "execute_result"
    }
   ],
   "source": [
    "test = [1,25,16,500,31]\n",
    "Ns = np.linspace(1, 1000, 50, dtype=int)\n",
    "# [i for i,_ in enumerate(Ns)]\n",
    "do_cholesky_time_cmp(test, Ns)\n",
    "test.__len__()"
   ]
  },
  {
   "cell_type": "code",
   "execution_count": 107,
   "metadata": {
    "id": "XVySYJbTOGIa"
   },
   "outputs": [
    {
     "data": {
      "image/png": "[encoded data removed]",
      "text/plain": [
       "<Figure size 640x480 with 1 Axes>"
      ]
     },
     "metadata": {
      "needs_background": "light"
     },
     "output_type": "display_data"
    }
   ],
   "source": [
    "Ns = np.linspace(1, 100, 50, dtype=int)\n",
    "do_cholesky_time_cmp(test, Ns)"
   ]
  },
  {
   "cell_type": "code",
   "execution_count": 108,
   "metadata": {
    "id": "XVySYJbTOGIa"
   },
   "outputs": [],
   "source": [
    "A = diags([1, 2, 3], [-1, 0, 1], shape=(10000, 10000)).todense()\n",
    "%timeit lu(A)\n",
    "%timeit band_lu(np.array([1, 2, 3]), n=10000)"
   ]
  },
  {
   "cell_type": "markdown",
   "metadata": {
    "id": "XVySYJbTOGIa"
   },
   "source": [
    "We see that when N is small, the two methods are comparable in tiome. This is due to the fact that there is not much of a difference between the amoubt of operations. For small N (apparently, N < 300), The matrix is \"not sparse enough\". \n",
    "\n",
    "However, we see an exponential growth of time needed for a calculation when we take a big N. This makes sense as the `schipy.linalg.lu` does PLU factorization (without Strassen) and the time complexity is O(n3). \n",
    "\n",
    "For the implementation above the time complexity is approximately O(n):(O((0.5*bandwidth)^2 * n))"
   ]
  },
  {
   "cell_type": "markdown",
   "metadata": {
    "id": "XVySYJbTOGIa"
   },
   "source": [
    "- (7 pts) Write a function ```cholesky(n)``` for computing Cholesky decomposition. It should take the the single argument - the matrix that will be factorized and return the single output - lower-triangular factor $L$. Think about the efficiency of your implementation and if necessary update it to achieve the best performance (eliminate Python loops, where it is possible and so on). Explicitly describe the difference with LU decomposition that reduces the complexity from $2n^3/3$ for LU to $n^3/3$ for Cholesky. \n",
    "Test the implemented function on the Pascal matrix of given size $n$ for $n = 5, 10, 50$. \n",
    "Pascal matrix is square matrix of the following form (here for $n=4$)\n",
    "$$P = \\begin{pmatrix}\n",
    "1 & 1 & 1 & 1\\\\\n",
    "1 & 2 & 3 & 4 \\\\\n",
    "1 & 3 & 6 & 10 \\\\\n",
    "1 & 4 & 10 & 20 \\\\\n",
    "\\end{pmatrix}.$$\n",
    "\n",
    "    [Here](https://en.wikipedia.org/wiki/Pascal_matrix) you can find more details about such matrices and analytical form for factor $L$ from Cholesky decomposition. Compare the result of your implementation with analytical expression in terms of some matrix norm of difference.  "
   ]
  },
  {
   "cell_type": "code",
   "execution_count": 103,
   "metadata": {
    "id": "XVySYJbTOGIa"
   },
   "outputs": [],
   "source": [
    "import numpy as np\n",
    "from scipy.linalg import pascal\n",
    "\n",
    "def cholesky_py(A):\n",
    "    B = A.copy().astype('float64')\n",
    "    L = np.array([[0] * len(B) for _ in enumerate(B)])\n",
    "    for i, (Ai, Li) in enumerate(zip(B, L)):\n",
    "        for j, Lj in enumerate(L[:i+1]):\n",
    "            s = sum(Li[k] * Lj[k] for k in range(j))\n",
    "            if i == j:\n",
    "                Li[j] = (Ai[i] - s) ** 0.5\n",
    "            else:\n",
    "                Li[j] = ((1.0 / Lj[j]) * (Ai[j] - s))\n",
    "        # print(L)\n",
    "    return L\n",
    "\n",
    "def test_cholesky(A):\n",
    "    L = cholesky_py(A)\n",
    "    # print(A)\n",
    "    reconst = L@L.conj().T\n",
    "    # print(reconst)\n",
    "    return np.linalg.norm(A - reconst, ord='fro') / np.linalg.norm(A, ord='fro')\n",
    "\n",
    "def cholesky_dbg(A):\n",
    "    B = A.copy().astype('float64')\n",
    "    L = np.array([[0] * len(B) for _ in enumerate(B)])\n",
    "    for i, (Ai, Li) in enumerate(zip(B, L)):\n",
    "        for j, Lj in enumerate(L[:i+1]):\n",
    "            s = sum(Li[k] * Lj[k] for k in range(j))\n",
    "            if i == j:\n",
    "                if i>=28:\n",
    "                    print(i)\n",
    "                    print(sum([Li[k]**2 for k in range(j)]))\n",
    "                Li[j] = (Ai[i] - s) ** 0.5\n",
    "            else:\n",
    "                Li[j] = ((1.0 / Lj[j]) * (Ai[j] - s))\n",
    "        # print(L)\n",
    "    return L\n"
   ]
  },
  {
   "cell_type": "code",
   "execution_count": 104,
   "metadata": {
    "id": "XVySYJbTOGIa"
   },
   "outputs": [
    {
     "name": "stdout",
     "output_type": "stream",
     "text": [
      "relative error of Cholesky descomposition for N = 4 is 0.0\n",
      "\n",
      "relative error of Cholesky descomposition for N = 5 is 0.0\n",
      "\n",
      "relative error of Cholesky descomposition for N = 10 is 0.0\n",
      "\n",
      "relative error of Cholesky descomposition for N = 25 is 0.0\n",
      "\n",
      "relative error of Cholesky descomposition for N = 26 is 0.0\n",
      "\n",
      "relative error of Cholesky descomposition for N = 27 is 0.0\n",
      "\n",
      "relative error of Cholesky descomposition for N = 28 is 0.0\n",
      "\n",
      "relative error of Cholesky descomposition for N = 29 is 0.0\n",
      "\n",
      "relative error of Cholesky descomposition for N = 30 is 1.9991937281298968e-16\n",
      "\n"
     ]
    },
    {
     "name": "stderr",
     "output_type": "stream",
     "text": [
      "/tmp/ipykernel_5253/3714146401.py:11: RuntimeWarning: invalid value encountered in double_scalars\n",
      "  Li[j] = (Ai[i] - s) ** 0.5\n"
     ]
    },
    {
     "ename": "ValueError",
     "evalue": "cannot convert float NaN to integer",
     "output_type": "error",
     "traceback": [
      "\u001b[0;31m---------------------------------------------------------------------------\u001b[0m",
      "\u001b[0;31mValueError\u001b[0m                                Traceback (most recent call last)",
      "\u001b[0;32m/tmp/ipykernel_5253/4128644366.py\u001b[0m in \u001b[0;36m<module>\u001b[0;34m\u001b[0m\n\u001b[1;32m      4\u001b[0m \u001b[0;32mfor\u001b[0m \u001b[0mN\u001b[0m \u001b[0;32min\u001b[0m \u001b[0mtest\u001b[0m\u001b[0;34m:\u001b[0m\u001b[0;34m\u001b[0m\u001b[0;34m\u001b[0m\u001b[0m\n\u001b[1;32m      5\u001b[0m     print(\"relative error of Cholesky descomposition for N = {} is {}\\n\".format(N,\n\u001b[0;32m----> 6\u001b[0;31m           test_cholesky(pascal(N))))\n\u001b[0m",
      "\u001b[0;32m/tmp/ipykernel_5253/3714146401.py\u001b[0m in \u001b[0;36mtest_cholesky\u001b[0;34m(A)\u001b[0m\n\u001b[1;32m     16\u001b[0m \u001b[0;34m\u001b[0m\u001b[0m\n\u001b[1;32m     17\u001b[0m \u001b[0;32mdef\u001b[0m \u001b[0mtest_cholesky\u001b[0m\u001b[0;34m(\u001b[0m\u001b[0mA\u001b[0m\u001b[0;34m)\u001b[0m\u001b[0;34m:\u001b[0m\u001b[0;34m\u001b[0m\u001b[0;34m\u001b[0m\u001b[0m\n\u001b[0;32m---> 18\u001b[0;31m     \u001b[0mL\u001b[0m \u001b[0;34m=\u001b[0m \u001b[0mcholesky_py\u001b[0m\u001b[0;34m(\u001b[0m\u001b[0mA\u001b[0m\u001b[0;34m)\u001b[0m\u001b[0;34m\u001b[0m\u001b[0;34m\u001b[0m\u001b[0m\n\u001b[0m\u001b[1;32m     19\u001b[0m     \u001b[0;31m# print(A)\u001b[0m\u001b[0;34m\u001b[0m\u001b[0;34m\u001b[0m\u001b[0;34m\u001b[0m\u001b[0m\n\u001b[1;32m     20\u001b[0m     \u001b[0mreconst\u001b[0m \u001b[0;34m=\u001b[0m \u001b[0mL\u001b[0m\u001b[0;34m@\u001b[0m\u001b[0mL\u001b[0m\u001b[0;34m.\u001b[0m\u001b[0mconj\u001b[0m\u001b[0;34m(\u001b[0m\u001b[0;34m)\u001b[0m\u001b[0;34m.\u001b[0m\u001b[0mT\u001b[0m\u001b[0;34m\u001b[0m\u001b[0;34m\u001b[0m\u001b[0m\n",
      "\u001b[0;32m/tmp/ipykernel_5253/3714146401.py\u001b[0m in \u001b[0;36mcholesky_py\u001b[0;34m(A)\u001b[0m\n\u001b[1;32m      9\u001b[0m             \u001b[0ms\u001b[0m \u001b[0;34m=\u001b[0m \u001b[0msum\u001b[0m\u001b[0;34m(\u001b[0m\u001b[0mLi\u001b[0m\u001b[0;34m[\u001b[0m\u001b[0mk\u001b[0m\u001b[0;34m]\u001b[0m \u001b[0;34m*\u001b[0m \u001b[0mLj\u001b[0m\u001b[0;34m[\u001b[0m\u001b[0mk\u001b[0m\u001b[0;34m]\u001b[0m \u001b[0;32mfor\u001b[0m \u001b[0mk\u001b[0m \u001b[0;32min\u001b[0m \u001b[0mrange\u001b[0m\u001b[0;34m(\u001b[0m\u001b[0mj\u001b[0m\u001b[0;34m)\u001b[0m\u001b[0;34m)\u001b[0m\u001b[0;34m\u001b[0m\u001b[0;34m\u001b[0m\u001b[0m\n\u001b[1;32m     10\u001b[0m             \u001b[0;32mif\u001b[0m \u001b[0mi\u001b[0m \u001b[0;34m==\u001b[0m \u001b[0mj\u001b[0m\u001b[0;34m:\u001b[0m\u001b[0;34m\u001b[0m\u001b[0;34m\u001b[0m\u001b[0m\n\u001b[0;32m---> 11\u001b[0;31m                 \u001b[0mLi\u001b[0m\u001b[0;34m[\u001b[0m\u001b[0mj\u001b[0m\u001b[0;34m]\u001b[0m \u001b[0;34m=\u001b[0m \u001b[0;34m(\u001b[0m\u001b[0mAi\u001b[0m\u001b[0;34m[\u001b[0m\u001b[0mi\u001b[0m\u001b[0;34m]\u001b[0m \u001b[0;34m-\u001b[0m \u001b[0ms\u001b[0m\u001b[0;34m)\u001b[0m \u001b[0;34m**\u001b[0m \u001b[0;36m0.5\u001b[0m\u001b[0;34m\u001b[0m\u001b[0;34m\u001b[0m\u001b[0m\n\u001b[0m\u001b[1;32m     12\u001b[0m             \u001b[0;32melse\u001b[0m\u001b[0;34m:\u001b[0m\u001b[0;34m\u001b[0m\u001b[0;34m\u001b[0m\u001b[0m\n\u001b[1;32m     13\u001b[0m                 \u001b[0mLi\u001b[0m\u001b[0;34m[\u001b[0m\u001b[0mj\u001b[0m\u001b[0;34m]\u001b[0m \u001b[0;34m=\u001b[0m \u001b[0;34m(\u001b[0m\u001b[0;34m(\u001b[0m\u001b[0;36m1.0\u001b[0m \u001b[0;34m/\u001b[0m \u001b[0mLj\u001b[0m\u001b[0;34m[\u001b[0m\u001b[0mj\u001b[0m\u001b[0;34m]\u001b[0m\u001b[0;34m)\u001b[0m \u001b[0;34m*\u001b[0m \u001b[0;34m(\u001b[0m\u001b[0mAi\u001b[0m\u001b[0;34m[\u001b[0m\u001b[0mj\u001b[0m\u001b[0;34m]\u001b[0m \u001b[0;34m-\u001b[0m \u001b[0ms\u001b[0m\u001b[0;34m)\u001b[0m\u001b[0;34m)\u001b[0m\u001b[0;34m\u001b[0m\u001b[0;34m\u001b[0m\u001b[0m\n",
      "\u001b[0;31mValueError\u001b[0m: cannot convert float NaN to integer"
     ]
    }
   ],
   "source": [
    "test_cholesky(pascal(5))\n",
    "\n",
    "test = [4,5,10,25, 26, 27, 28, 29, 30,31]\n",
    "for N in test:\n",
    "    print(\"relative error of Cholesky descomposition for N = {} is {}\\n\".format(N,\n",
    "          test_cholesky(pascal(N))))\n"
   ]
  },
  {
   "cell_type": "code",
   "execution_count": 107,
   "metadata": {
    "id": "XVySYJbTOGIa"
   },
   "outputs": [
    {
     "name": "stdout",
     "output_type": "stream",
     "text": [
      "the sum of prefious row and column is 118264581564861423\n",
      "the Aii element, where i =31 is 118264581564861424\n",
      "the Lii element, where i =31 should be 1. Calculated: 0.0\n"
     ]
    }
   ],
   "source": [
    "def binomialCoeff(n, k):\n",
    "    C = [[0 for i in range(k + 1)]\n",
    "         for i in range(n + 1)]\n",
    "    for i in range(n + 1):\n",
    "        for j in range(min(i, k) + 1):\n",
    "            if (j == 0 or j == i):\n",
    "                C[i][j] = 1\n",
    "            else:\n",
    "                C[i][j] = C[i - 1][j - 1] + C[i - 1][j]\n",
    "    return C[n][k]\n",
    "\n",
    "\"\"\"\n",
    "s = sum(Li[k] * Lj[k] for k in range(j))\n",
    "if i == j:\n",
    "    Li[j] = (Ai[i] - s) ** 0.5\n",
    "else:\n",
    "    Li[j] = ((1.0 / Lj[j]) * (Ai[j] - s))\n",
    "\"\"\"\n",
    "\n",
    "ord = 31\n",
    "pas = pascal(ord)\n",
    "\n",
    "roww = [binomialCoeff(ord-1,i) for i in range(ord-1)]\n",
    "coll = roww.copy()\n",
    "s = sum(roww[k] * coll[k] for k in range(ord-1))\n",
    "\n",
    "print(\"the sum of prefious row and column is {}\".format(s))\n",
    "print(\"the Aii element, where i ={} is {}\".format(ord, pas[-1,-1]))\n",
    "print(\"the Lii element, where i ={} should be 1. Calculated: {}\".format(ord, (pas[-1,-1] - s)**0.5))"
   ]
  },
  {
   "cell_type": "code",
   "execution_count": 102,
   "metadata": {
    "id": "XVySYJbTOGIa"
   },
   "outputs": [
    {
     "name": "stdout",
     "output_type": "stream",
     "text": [
      "28\n",
      "7648690600760439.0\n",
      "29\n",
      "3.0067266499541216e+16\n",
      "30\n",
      "nan\n"
     ]
    },
    {
     "name": "stderr",
     "output_type": "stream",
     "text": [
      "/tmp/ipykernel_5253/2341743114.py:34: RuntimeWarning: invalid value encountered in double_scalars\n",
      "  Li[j] = (Ai[i] - s) ** 0.5\n"
     ]
    },
    {
     "data": {
      "text/plain": [
       "[]"
      ]
     },
     "execution_count": 102,
     "metadata": {},
     "output_type": "execute_result"
    }
   ],
   "source": [
    "cholesky_dbg(pas)\n",
    "[]"
   ]
  },
  {
   "cell_type": "markdown",
   "metadata": {
    "id": "_iM6NwHQOGId"
   },
   "source": [
    "For N > 30, we encounter a problem with python not being able to calculate the 31th row of the L matrix and onward. \n",
    "\n",
    "The `L[31,31]` element is calculated as `NaN` beacause the dot product of 30'th column and row is quite large. Summation and subtraction have a huge error when performing float-point operations on such big numbers (1e17).\n",
    "\n",
    "When operating in integers, values come close to int64 overflow. As we do a summation over a list, this is critical."
   ]
  },
  {
   "cell_type": "markdown",
   "metadata": {
    "id": "_iM6NwHQOGId"
   },
   "source": [
    "### 2. Stability of LU (8 pts)\n",
    "\n",
    "* (4 pts) Show, that for these  matrices $A$ and $B$ LU decomposition fails. Why does it happen?\n",
    "\n",
    "\n",
    "\n",
    "$\n",
    "A = \\begin{pmatrix}\n",
    "0 & 1 \\\\\n",
    "2 & 3\n",
    "\\end{pmatrix}.$ \n",
    "\n",
    "$B = \\begin{pmatrix}\n",
    "1 & 1 & 0\\\\\n",
    "1 & 1 & 2 \\\\\n",
    "1 & 2 & 1\n",
    "\\end{pmatrix}.$ "
   ]
  },
  {
   "cell_type": "markdown",
   "metadata": {
    "id": "_iM6NwHQOGId"
   },
   "source": [
    "__SOLUTION__ for above:\\\n",
    "\\\n",
    "For matrix A, `A[0,0]` is zero. We can't do LU decompostition with a pivoting value == 0 as Gaussian Elimination would require a division by zero, the result of which is not defined. \n",
    "\n",
    "For matrix B, note that 2nd leading principle is all ones, so it has linearly dependend colums, wich indicates that this submatrix is singular. The singularity of leading principle submatrix indicates that the LU decomposition is not gurarnteed, but still may exist. \n",
    "\n",
    "However, the matrix cosinsts of all ones. This meanst that after the first step of elimination we have a zero element on a main diagonal in the second row of U, which means that for futher sterps we are forced to divide by zero. "
   ]
  },
  {
   "cell_type": "code",
   "execution_count": 110,
   "metadata": {
    "id": "_iM6NwHQOGId"
   },
   "outputs": [
    {
     "name": "stdout",
     "output_type": "stream",
     "text": [
      "[[1. 1. 0.]\n",
      " [1. 1. 2.]\n",
      " [1. 2. 1.]]\n",
      "[1. 1.]\n",
      "0\n",
      "[[1. 1. 0.]\n",
      " [0. 0. 2.]\n",
      " [0. 1. 1.]]\n",
      "[inf]\n",
      "1\n",
      "[[  1.   1.   0.]\n",
      " [  0.   0.   2.]\n",
      " [ nan  nan -inf]]\n",
      "[]\n",
      "2\n"
     ]
    },
    {
     "name": "stderr",
     "output_type": "stream",
     "text": [
      "/tmp/ipykernel_7263/3605595289.py:14: RuntimeWarning: divide by zero encountered in true_divide\n",
      "  factor = U[i+1:, i] / U[i, i]\n",
      "/tmp/ipykernel_7263/3605595289.py:18: RuntimeWarning: invalid value encountered in multiply\n",
      "  U[i+1:] -= factor[:, np.newaxis] * U[i]\n"
     ]
    }
   ],
   "source": [
    "from scipy.linalg import lu, pascal\n",
    "import numpy as np \n",
    "\n",
    "def regular_lu(A):\n",
    "    #Get the number of rows\n",
    "    n = A.shape[0] \n",
    "    # print(n)\n",
    "    U = A.copy()\n",
    "    # print(U)\n",
    "    L = np.eye(n, dtype=np.double)\n",
    "\n",
    "    for i in range(n):\n",
    "        print(U)\n",
    "        factor = U[i+1:, i] / U[i, i]\n",
    "        print(factor)\n",
    "        print(i)\n",
    "        L[i+1:, i] = factor\n",
    "        U[i+1:] -= factor[:, np.newaxis] * U[i]\n",
    "        # print(U[i+1:])\n",
    "        # print(\"------------------\")\n",
    "    return L, U\n",
    "\n",
    "B = np.array([ [1, 1, 0],\n",
    "               [1, 1, 2],\n",
    "               [1, 2, 1]\n",
    "             ])\n",
    "L,U = regular_lu(B.astype('double'))\n"
   ]
  },
  {
   "cell_type": "markdown",
   "metadata": {
    "id": "_iM6NwHQOGId"
   },
   "source": [
    "* (4 pts) In the LU decomposition, a pivot position is a position of the element that identifies the row and column that will be eliminated in the current step. For example, first pivot in LU is usually the left top element. What value of $c$ leads to zero in the second pivot position? What $c$ produces zero in the third pivot position? What modification of LU should we use in order to address the possible zeros in pivot position?\n",
    "\n",
    "$A = \\begin{pmatrix}\n",
    "1 & c & 0\\\\\n",
    "2 & 4 & 1 \\\\\n",
    "3 & 5 & 1\n",
    "\\end{pmatrix}.$ "
   ]
  },
  {
   "cell_type": "code",
   "execution_count": 114,
   "metadata": {
    "id": "CmkB9hxwOGId"
   },
   "outputs": [
    {
     "name": "stdout",
     "output_type": "stream",
     "text": [
      "[[1. 2. 0.]\n",
      " [2. 4. 1.]\n",
      " [3. 5. 1.]]\n"
     ]
    },
    {
     "name": "stderr",
     "output_type": "stream",
     "text": [
      "/tmp/ipykernel_7263/3010989784.py:14: RuntimeWarning: divide by zero encountered in true_divide\n",
      "  factor = U[i+1:, i] / U[i, i]\n",
      "/tmp/ipykernel_7263/3010989784.py:17: RuntimeWarning: invalid value encountered in multiply\n",
      "  U[i+1:] -= factor[:, np.newaxis] * U[i]\n"
     ]
    }
   ],
   "source": [
    "import numpy as np \n",
    "\n",
    "def regular_lu(A):\n",
    "    #Get the number of rows\n",
    "    n = A.shape[0] \n",
    "    # print(n)\n",
    "    U = A.copy()\n",
    "    # print(U)\n",
    "    L = np.eye(n, dtype=np.double)\n",
    "\n",
    "    for i in range(n):\n",
    "        factor = U[i+1:, i] / U[i, i]\n",
    "        L[i+1:, i] = factor\n",
    "        U[i+1:] -= factor[:, np.newaxis] * U[i]\n",
    "\n",
    "    return L, U\n",
    "\n",
    "c = 2\n",
    "A = np.array([ [1, c, 0],\n",
    "               [2, 4, 1],\n",
    "               [3, 5, 1]\n",
    "             ], np.double)\n",
    "\n",
    "print(A)\n",
    "L, U = regular_lu(A)"
   ]
  },
  {
   "cell_type": "markdown",
   "metadata": {
    "id": "CmkB9hxwOGId"
   },
   "source": [
    "For us not to be able to perform a classic LU on this matrix, we need the 2-nd order leading principle matrix to have linearly dependent rows.\\\n",
    "$A = \\begin{pmatrix}\n",
    "1 & c \\\\\n",
    "2 & 4\n",
    "\\end{pmatrix}.$ \\\n",
    "\n",
    "We can clearly see that this would be `c=2`.\n",
    "\n",
    "To do an LU decomposition of such a matrix, we resort to pivoting (a PLU decomposition)."
   ]
  },
  {
   "cell_type": "code",
   "execution_count": 113,
   "metadata": {
    "id": "CmkB9hxwOGId"
   },
   "outputs": [
    {
     "data": {
      "text/plain": [
       "array([[1., 2., 0.],\n",
       "       [2., 4., 1.],\n",
       "       [3., 5., 1.]])"
      ]
     },
     "execution_count": 113,
     "metadata": {},
     "output_type": "execute_result"
    }
   ],
   "source": [
    "from scipy.linalg import lu\n",
    "\n",
    "c = 2\n",
    "A = np.array([ [1, c, 0],\n",
    "               [2, 4, 1],\n",
    "               [3, 5, 1]\n",
    "             ], np.double)\n",
    "\n",
    "P, L, U = lu(A)\n",
    "P@L@U"
   ]
  },
  {
   "cell_type": "markdown",
   "metadata": {
    "id": "YFc3BR_TOGIj"
   },
   "source": [
    "### 3. Implementation of PLU decomposition (14 pts)\n",
    "\n",
    "As you have noticed before, LU decomposition may fail. In order to make it stable, we can use LU decomposition with pivoting  (PLU).\n",
    "\n",
    "We want to find such permutation matrix $P$ that LU decomposition of $PA$ exists\n",
    "\n",
    "$$ PA = LU $$\n",
    "\n",
    "- (7 pts) Implement efficiently PLU decomposition (without loops and with appropriate level of BLAS operations).  Also, pay attention to the way of permutation matrix storage.\n",
    "\n",
    "- (4 pts ) Compare your function for computing PLU with built-in function on matrices of such type ```(mirror_diag = [1,2,1], n = 4)```. (Bandwidth and matrix size may vary). So, you can pass them as dense 2D NumPy array and do not tune your implementation to this special structure. Compare them in terms of running time (use ```%timeit``` magic) for range of dimensions to recover the asymptotic rate of time increasing and in terms of acuracy. We expect you plot the running time vs matrix dimension for built-in function and your implementation. So you should get the plot with two lines.\n",
    "Consider additionally one of the pathological examples from above, where LU fails, but PLU has to work.\n",
    "\n",
    "\n",
    "$$A = \\begin{pmatrix}\n",
    "0 & 0 & 1 & 1 \\\\\n",
    " 0 &1 & 2 & 1  \\\\\n",
    " 1 & 2 & 1  & 0\\\\\n",
    "1 & 2  & 0 & 0  \\\\\n",
    "\\end{pmatrix}.$$\n",
    "\n",
    "\n",
    "- (3 pts) Discuss the obtained results and explain how is it possible to accelerate computing the PLU factorization. \n",
    "\n",
    "NumPy or JAX are both ok in this problem, but please use the single library for all implementations. "
   ]
  },
  {
   "cell_type": "code",
   "execution_count": 54,
   "metadata": {},
   "outputs": [],
   "source": [
    "import numpy as np \n",
    "from scipy.linalg import lu, pascal\n",
    "from matplotlib.pyplot import figure \n",
    "import matplotlib.pyplot as plt \n",
    "\n",
    "\n",
    "def pivot_lu(A):\n",
    "    n = A.shape[0]\n",
    "    \n",
    "    U = A.copy()\n",
    "    P = np.eye(n)\n",
    "    L = P.copy()\n",
    "    \n",
    "    PF = L.copy()\n",
    "    LF = np.zeros((n,n))\n",
    "    \n",
    "    for k in range(n - 1):\n",
    "        index = np.argmax(abs(U[k:,k])) + k \n",
    "        if index != k:\n",
    "            P = np.eye(n)\n",
    "            P[[index,k],k:n] = P[[k,index],k:n]\n",
    "            U[[index,k],k:n] = U[[k,index],k:n] \n",
    "            PF = np.dot(P,PF)\n",
    "            LF = np.dot(P,LF)\n",
    "        \n",
    "        L = np.eye(n)\n",
    "        LF[k+1:,k] = (U[k+1:,k] / U[k,k])\n",
    "        L[k+1:,k]  = -1 * LF[k+1:,k]\n",
    "        U = np.dot(L,U)\n",
    "        \n",
    "    np.fill_diagonal(LF, 1)\n",
    "    return PF.T, LF, U"
   ]
  },
  {
   "cell_type": "code",
   "execution_count": 61,
   "metadata": {},
   "outputs": [
    {
     "name": "stdout",
     "output_type": "stream",
     "text": [
      "True\n",
      "True\n"
     ]
    }
   ],
   "source": [
    "# A = np.array([ [1, 2, 0],\n",
    "#                [2, 4, 1],\n",
    "#                [3, 5, 1]\n",
    "#              ], np.double)\n",
    "\n",
    "A = pascal(25).astype('double')\n",
    "pp, lp, up = pivot_lu(A)\n",
    "ps, ls, us = lu(A)\n",
    "print(np.isclose((pp@lp@up), A).all())\n",
    "print(np.isclose((ps@ls@us), A).all())"
   ]
  },
  {
   "cell_type": "code",
   "execution_count": 56,
   "metadata": {
    "id": "32HpfOPMOGIg"
   },
   "outputs": [
    {
     "data": {
      "image/png": "[encoded data removed]",
      "text/plain": [
       "<Figure size 640x480 with 1 Axes>"
      ]
     },
     "metadata": {
      "needs_background": "light"
     },
     "output_type": "display_data"
    }
   ],
   "source": [
    "def construct_minor_diag_mat(diag, N):\n",
    "    m = len(diag) // 2\n",
    "    diag_z = diag + [0 for _ in range(N - len(diag))]\n",
    "    A = np.asarray([np.roll(diag_z , i - m) for i in range(N)])\n",
    "    for i in range(m + 1, N):\n",
    "        for j in range(0, i - m):\n",
    "            A[i,j] = 0\n",
    "    A[0, 0] = 1\n",
    "    A[0, -1] = 0\n",
    "    return np.rot90(A)\n",
    "\n",
    "def do_pivlu_time_cmp(Ns):\n",
    "    ts = [[], []]\n",
    "    for n in Ns:\n",
    "        A = construct_diag_mat([1,2,1], n)\n",
    "        t = %timeit -o -q -n 5 lu(A)\n",
    "        ts[0].append(np.mean(t.timings))\n",
    "        t = %timeit -o -q -n 5 pivot_lu(A)\n",
    "        ts[1].append(np.mean(t.timings))\n",
    "\n",
    "    figure(figsize=(8, 6), dpi=80)\n",
    "    plt.semilogx(Ns, ts[0], label='scipy')\n",
    "    plt.semilogx(Ns, ts[1], label='selfmade')\n",
    "    plt.ylabel('sec')\n",
    "    plt.xlabel('N')\n",
    "    plt.legend()\n",
    "    plt.show()\n",
    "\n",
    "Ns = np.logspace(1, 3, 15, dtype=int)\n",
    "do_pivlu_time_cmp(Ns)"
   ]
  },
  {
   "cell_type": "code",
   "execution_count": 55,
   "metadata": {
    "id": "32HpfOPMOGIg"
   },
   "outputs": [
    {
     "data": {
      "image/png": "[encoded data removed]",
      "text/plain": [
       "<Figure size 640x480 with 1 Axes>"
      ]
     },
     "metadata": {
      "needs_background": "light"
     },
     "output_type": "display_data"
    }
   ],
   "source": [
    "\n",
    "Ns = np.logspace(1, 2, 20, dtype=int)\n",
    "do_pivlu_time_cmp(Ns)"
   ]
  },
  {
   "cell_type": "markdown",
   "metadata": {
    "id": "EQwdRJSIOGIg"
   },
   "source": [
    "Seems like the `scipy.linalg.lu` accomplishes the PLU decomposition in O(1), while the self-made code takes exponentially more time than that when the N rises. \n",
    "\n",
    "Assuming that the input matrix is dense, while analyzing the code, one can infer that the time complexity is O(n^3): There is a cycle, at each iteration of which a dot product of 2 matrices is taken. Assuming that the dot product has a time complexity O(n^2), putting it into the loop would make it O(n^3). "
   ]
  },
  {
   "cell_type": "markdown",
   "metadata": {
    "id": "EQwdRJSIOGIg"
   },
   "source": [
    "### 4. Block LU (10 pts)\n",
    "\n",
    "Let $A = \\begin{bmatrix} A_{11} & A_{12} \\\\ A_{21} & A_{22} \\end{bmatrix}$ be a block matrix. The goal is to solve the linear system\n",
    "\n",
    "$$\n",
    "     \\begin{bmatrix} A_{11} & A_{12} \\\\ A_{21} & A_{22} \\end{bmatrix} \\begin{bmatrix} u_1 \\\\ u_2 \\end{bmatrix} = \\begin{bmatrix} f_1 \\\\ f_2 \\end{bmatrix}.\n",
    "$$\n",
    "\n",
    "* (2 pts) Using block elimination find matrix $S$ and right-hand side $\\hat{f_2}$ so that $u_2$ can be found from $S u_2 = \\hat{f_2}$. Note that the matrix $S$ is called <span style=\"color:red\">Schur complement</span> of the block $A_{11}$."
   ]
  },
  {
   "cell_type": "markdown",
   "metadata": {
    "id": "EQwdRJSIOGIg"
   },
   "source": [
    "Let's do a block LU decomposition of A:\n",
    "$ A = \\begin{bmatrix} \n",
    "A_{11} & A_{12} \\\\ A_{21} & A_{22} \\end{bmatrix} = \\begin{bmatrix} \n",
    "L_{11} & 0 \\\\ L_{21} & L_{22} \\end{bmatrix} \\begin{bmatrix} \n",
    "U_{11} & U_{12} \\\\ 0 & U_{22} \\end{bmatrix} = \\begin{bmatrix} \n",
    "L_{11} U_{11} & L_{11} U_{12} \\\\ L_{21} U_{11} & L_{21} U_{12} + L_{22} U_{22} \\end{bmatrix} $\\\n",
    "\\\n",
    "$U_{12} = L^{-1}_{11} A_{12}$\n",
    "\n",
    "$L_{21} = A_{21} U^{-1}_{11} $\n",
    "\n",
    "$ L_{22} U_{22} = A_{22} - L_{21} U_{12} = A_{22} - A_{21} U^{-1}_{11} L^{-1}_{11} A_{12} = A_{22} - A_{21} A^{-1}_{11} A_{12}$"
   ]
  },
  {
   "cell_type": "markdown",
   "metadata": {
    "id": "EQwdRJSIOGIg"
   },
   "source": [
    "$\\begin{bmatrix} \n",
    "L_{11} U_{11} & L_{11} U_{12} \\\\ \n",
    "L_{21} U_{11} & L_{21} U_{12} + L_{22} U_{22} \n",
    "\\end{bmatrix} \n",
    "\\begin{bmatrix} \n",
    "u_1 \\\\ \n",
    "u_2 \n",
    "\\end{bmatrix} = \\begin{bmatrix} \n",
    "f_1 \\\\ \n",
    "f_2 \n",
    "\\end{bmatrix} \\rightarrow \\begin{equation}\n",
    "\\begin{aligned}\n",
    "&L_{11}U_{11}u_1 + L_{11}U_{12} u_2 = f_1 \\\\\n",
    "&L_{21}U_{11}u_1 + (L_{21}U_{12}+L_{22}U_{22}) u_2 = f_2\n",
    "\\end{aligned}\n",
    "\\end{equation}$\\\n",
    "\\\n",
    "$A_{11}u_1 + A_{12}u_2 = f_1 \\implies u_1 = A_{11}^{-1}(f_1 - A_{12}u_2)$\n",
    "\n",
    "$A_{21}u_1 + A_{22}u_2 = f_2 \\implies A_{22}u_2 = f_2 - A_{21}u_1 = f_2 - A_{21}(A_{11}^{-1}(f_1 - A_{12}u_2)) = f_2 - A_{21}A_{11}^{-1}f_1 + A_{21}A_{11}^{-1}A_{12}u_2 $\n",
    "\n",
    "$(A_{22}−A_{21}A^{−1}_{11}A_{12})u_2 = f_2−A_{21}A^{−1}_{11}f_1$, or in other words $L_{22}U_{22} = S$\n",
    "\n",
    "Answer:\n",
    "\n",
    "$S = A_{22}−A_{21}A^{−1}_{11}A_{12}\\\\\n",
    "\\hat f_2 = f_2−A_{21}A^{−1}_{11}f_1$"
   ]
  },
  {
   "cell_type": "markdown",
   "metadata": {
    "id": "EQwdRJSIOGIg"
   },
   "source": [
    "***\n",
    "* (4 pts) Using Schur complement properties prove that \n",
    "\n",
    "$$\\det(X+AB) = \\det(X)\\det(I+BX^{-1}A), $$\n",
    "where $X$ - nonsingular square matrix."
   ]
  },
  {
   "cell_type": "markdown",
   "metadata": {
    "id": "EQwdRJSIOGIg"
   },
   "source": [
    "`fueled by` [`a random hepfulpaper`](https://terrytao.wordpress.com/2013/01/13/matrix-identities-as-derivatives-of-determinant-identities/#schurd) ` on a Schur determinant identity`\n",
    "\n",
    "Consider $\\begin{bmatrix} X & A \\\\ -B & I \\end{bmatrix} = \n",
    "\\begin{bmatrix}\n",
    "X & 0 \\\\\n",
    "-B & I\n",
    "\\end{bmatrix}\n",
    "\\begin{bmatrix}\n",
    "I & X^{-1} A \\\\\n",
    "0 & I+B X^{-1} A\n",
    "\\end{bmatrix}=\\begin{bmatrix}\n",
    "X+A B & A \\\\\n",
    "0 & I\n",
    "\\end{bmatrix}\n",
    "\\begin{bmatrix}\n",
    "I & 0 \\\\\n",
    "-B & I\n",
    "\\end{bmatrix}$\\\n",
    "\\\n",
    "Since $\\det\\Big(\\begin{matrix}\n",
    "A & B \\\\\n",
    "0 & C\n",
    "\\end{matrix}\\Big)= \\det(A) \\det(C)$, _and_ while keeping in mind the standard way to compute a 2x2 determinant, we can write down\n",
    "$\\det\\Big(\\begin{matrix}\n",
    "X & A \\\\\n",
    "-B & I\n",
    "\\end{matrix}\\Big)=\\det(X+A B)=\\det(X) \\det\\Big(I+B X^{-1} A\\Big)$ QED.\n",
    "***"
   ]
  },
  {
   "cell_type": "markdown",
   "metadata": {
    "id": "EQwdRJSIOGIg"
   },
   "source": [
    "* (4 pts) Let matrix $F \\in \\mathbb{R}^{m \\times n}$ and $G \\in \\mathbb{R}^{n \\times m}$. Prove that \n",
    "\n",
    "$$\\det(I_m - FG) = \\det(I_n - GF).$$"
   ]
  },
  {
   "cell_type": "markdown",
   "metadata": {
    "id": "4RBDYAWUOGIj",
    "slideshow": {
     "slide_type": "notes"
    },
    "tags": []
   },
   "source": [
    "From the previous subtask, recall that $\\det(X+AB) = \\det(X)\\det(I+BX^{-1}A)$ \\\n",
    "1. Assume that \n",
    "    - $I_m = X$, \n",
    "    - $-F= A$, \n",
    "    - $G = B$. \n",
    "2. Then,  $\\det(I_m -FG) = \\det(I_m)\\det(I_n + GI_m(-F)) = \\det(I_n - GF)$ QED."
   ]
  },
  {
   "cell_type": "markdown",
   "metadata": {},
   "source": [
    "## Problem 2 (eigenvalues)  (50 pts)\n",
    "\n",
    "### 1. Theoretical tasks (15 pts)\n",
    "---\n",
    "* (2 pts) Prove that eigenvectors that correspond to distinct eigenvalues are linearly independent."
   ]
  },
  {
   "cell_type": "markdown",
   "metadata": {},
   "source": [
    "Let $[v_1,v_2\\dots,v_n]$ be eigenvectors corresponding to distinct eigenvalues $[\\lambda_1,\\lambda_2,\\dots,\\lambda_n]$. \n",
    "\n",
    "Let's study a set of power $k$ of eigenvectors  $[\\lambda_1,\\lambda_2,\\dots,\\lambda_k]$, where $0\\le k\\le n$; while considering _some_ linear transformation $L: \\mathbb{C}^{n\\times n} \\rightarrow \\mathbb{C}^{n\\times n}$\\\n",
    "1. If k = 0, set is empty $\\Rightarrow$ lin independend by definition.\n",
    "2. If k = 1, set is lin indep. as it contains only one non-zero (eigenvercotrs are non-zero by definition) vector\n",
    "3. $1 < k\\le n$, base case of  k = 2: \\\n",
    "    Suppose that v1 and v2 correspond to different eigenvalues. We take a linear combination $a_1 v_1 + a_2 v_2 = 0$. Since eigenvectors are distinct. \\\n",
    "    $L(a_1 v_1 + a_2 v_2) = L(0) = 0$\\\n",
    "    $0 = L(a_1 v_1 + a_2 v_2) = a_1\\lambda_1v_1 + a_2\\lambda_2 v_2$. From this follows that the 2 equations are true: \\\n",
    "    $0 = a_1\\lambda_1v_1 + a_2\\lambda_2 v_2$\\\n",
    "    $0 = a_1\\lambda_1v_1 + a_2\\lambda_2 v_2$\\\n",
    "    hence, \\\n",
    "    $0  = a_2(\\lambda_2 - \\lambda_1)v_2$. Since $\\lambda_2 \\not= \\lambda_1$ and since $v_2\\not=0$ (by definition of en eigenvector), a_2 must be 0. Since $a_1 v_1 + a_2 v_2 = 0$, a_1 should also be 0.\\\n",
    "    \\\n",
    "    So bot a_1 and a_2 are zero while eigenvalues are not. Given the linear combination we've studied, v_1 and v_2 are linearly independent. \n",
    "    \n",
    "4. $2 < k\\le n$, induction step: \\\n",
    "    Assume there are 2 linearly independent eingenvectors and the third is dependent.\n",
    "    $v_3 = a_1 v_1 + a_2 v_2$. Then, \\\n",
    "    $Lv_3 = \\lambda_3a_1 v_1 + \\lambda_3 a_2 v_2$\\\n",
    "    We recall that $v_1 = \\frac{1}{\\lambda_1}Lv_1$ and $v_2 = \\frac{1}{\\lambda_2}Lv_2$. Substitution:\\\n",
    "    $Lv_3 = \\frac{\\lambda_3 a_1}{\\lambda_1}Lv_1 + \\frac{\\lambda_3 a_2}{\\lambda_2}Lv_2 \\Rightarrow $\\\n",
    "    $v_3 = \\frac{\\lambda_3 a_1}{\\lambda_1}v_1 + \\frac{\\lambda_3 a_2}{\\lambda_2}v_2$. Since we assumed that v_3 is lin. combination of v_1 and v_2 ($v_3 = a_1 v_1 + a_2 v_2$), we get that:\\\n",
    "    $\\frac{\\lambda_3 a_1}{\\lambda_1} = a_1$ and $\\frac{\\lambda_3 a_2}{\\lambda_2} = a_2$, so\\\n",
    "    $\\lambda_3 = \\lambda_1 $ and $\\lambda_3 = \\lambda_2$, but the initial assumption is that eigenvalues are distinct. Ergo contradiction. \n",
    "    \n",
    "Since we've proven that at least 2 eigenvectors with distinct values are lin. indep, and that the third cannot be a linear combination of the another 2, we can safely say, that: \n",
    "    We can get the same contradinction from the induction step for any triplets of eigenvectors, and for each one of them it would be clear that is is linearly independent of the other 2. This way every eigenvector is linearly independent of each other. QED"
   ]
  },
  {
   "cell_type": "markdown",
   "metadata": {},
   "source": [
    "---\n",
    "* (3 pts) $A$ is a matrix such that $a_{i,j} \\ge 0$ and $\\sum_{j}a_{i,j} = 1$ (sum of the elements in each row is 1). Prove that $A$ has an eigenvalue $\\lambda=1$ and that any eigenvalue $\\lambda_i$: $|\\lambda_i| \\le 1$.\n",
    "\n",
    "$Av = v$ if $v = [1,1,1,\\dots,1]^T$ since all the rowsums are 1 and the coordinates of v are unity. Hence, $A$ has an eigenvalue $\\lambda=1$.\n",
    "\n",
    "Now assume a pan induced infinity norm of A:\\\n",
    "$\\Vert A\\Vert_\\infty = \\sup\\frac{\\Vert Ax \\Vert_\\infty}{\\Vert x \\Vert}_\\infty$, Its max value is obtained when the $\\Vert x \\Vert = 1$. Since _all_ rows sum up to 1, $\\Vert A \\Vert_\\infty = 1$. Since induced norms are submultiplicative, \\\n",
    "$\\Vert Av \\Vert \\le \\Vert A \\vert \\Vert v \\Vert $ \\\n",
    "$\\Vert \\lambda v \\Vert \\le \\lambda \\Vert v \\Vert $\\\n",
    "\n",
    "and $\\lambda \\le \\Vert A \\Vert = 1$ QED.\n"
   ]
  },
  {
   "cell_type": "markdown",
   "metadata": {},
   "source": [
    "---\n",
    "* (5 pts) Prove that normal matrix is Hermitian iff its eigenvalues are real. Prove that normal matrix is unitary iff its eigenvalues satisfy $|\\lambda| = 1$. \n",
    "\n",
    "Let $A$ be hermitian matrix: $Ax = \\lambda x \\rightarrow (Ax, x) = x^H Ax = \\lambda (x, x)$.\\\n",
    "$\\lambda \\in \\mathbb{R}$ because scalar product is real\n",
    "\n",
    "And let $A$ be normal matrix with real eigenvalues $\\lambda_1 \\ldots \\lambda_n$.\\\n",
    "Schur decompositions: \\\n",
    "$A = UTU^H, \\\\  A^H = UT^HU^H$\\\n",
    "$AA^H = UTU^H UT^HU^H = UTT^HU^H$\\\n",
    "$A^HA = UT^HU^H UTU^H = UT^HTU^H$\\\n",
    "We see that $T^HT = TT^H$, which means that $T$ is normal by definition. Since $T$ is upper triangular and normal $\\Rightarrow T$ is diagonal $\\Rightarrow A = UTU^H = UT^HU^H = A^H$\\\n",
    "Reminder::$A$ is Hermitian as per the initial assumption. QED"
   ]
  },
  {
   "cell_type": "markdown",
   "metadata": {},
   "source": [
    "Prove that normal matrix is unitary iff its eigenvalues satisfy $|\\lambda| = 1$. \n",
    "\n",
    "Prepositions above imply that for the Scur Decomposition of $A$,  $T$ is diagonal, which means:\\\n",
    "$A^HA = UT^HU^H UTU^H = UT^HTU^H= I$ if and only if  $T^HT = I$\\\n",
    "and \\\n",
    "$T^HT = \\mathrm{diag}(\\lambda_i^H\\lambda_i) = I$ if and only if  $\\lambda_i^H\\lambda_i = |\\lambda_i| = 1 \\,\\, \\forall i$"
   ]
  },
  {
   "cell_type": "markdown",
   "metadata": {},
   "source": [
    "---\n",
    "* (5 pts) The following problem illustrates instability of the Jordan form. Find theoretically the eigenvalues of the perturbed Jordan block (there is only one $\\varepsilon$ - in the left lower corner):\n",
    "\n",
    "$$\n",
    "    J(\\varepsilon) = \n",
    "    \\begin{bmatrix} \n",
    "     \\lambda & 1 & & & 0 \\\\ \n",
    "     0 & \\lambda & 1 & & \\\\ \n",
    "     & 0 & \\ddots & \\ddots & \\\\ \n",
    "     & & 0 & \\lambda & 1 \\\\ \n",
    "     \\varepsilon & & & 0 & \\lambda  \\\\ \n",
    "    \\end{bmatrix}_{n\\times n}\n",
    "$$\n",
    "\n",
    "   Comment how eigenvalues of $J(0)$ are perturbed for large $n$."
   ]
  },
  {
   "cell_type": "markdown",
   "metadata": {},
   "source": [
    "$\n",
    "    \\det(J(\\varepsilon)-\\alpha I) = \n",
    "    \\begin{vmatrix} \n",
    "     \\lambda - \\alpha & 1 & & & 0 \\\\ \n",
    "     & \\lambda - \\alpha & 1 & & \\\\ \n",
    "     &  & \\ddots & \\ddots & \\\\ \n",
    "     & & & \\lambda - \\alpha & 1 \\\\ \n",
    "     \\varepsilon & & & & \\lambda - \\alpha  \\\\ \n",
    "    \\end{vmatrix}_{n\\times n} =\\\\\n",
    "    =(\\lambda - \\alpha)\n",
    "    \\begin{vmatrix}  \n",
    "     \\lambda - \\alpha & 1 & & 0 \\\\ \n",
    "      & \\ddots & \\ddots & \\\\ \n",
    "     & & \\lambda - \\alpha & 1 \\\\ \n",
    "     0 & & & \\lambda - \\alpha  \\\\ \n",
    "    \\end{vmatrix}_{n - 1\\times n - 1}\n",
    "    + (-1)^{n-1} \\varepsilon\n",
    "    \\begin{vmatrix}  \n",
    "     1 & & & 0 \\\\ \n",
    "     \\lambda - \\alpha & 1 & & 0 \\\\ \n",
    "      & \\ddots &  & \\\\ \n",
    "     0& & \\lambda - \\alpha & 1 \\\\ \n",
    "    \\end{vmatrix}_{n - 1\\times n - 1}\n",
    "    = (\\lambda - \\alpha)^n + (-1)^{n-1} \\varepsilon\n",
    "$\n",
    "\n",
    "$(\\lambda - \\alpha)^n + (-1)^{n-1} \\varepsilon = 0 \\\\\n",
    "(\\lambda - \\alpha)^n = (-1)^{n} \\varepsilon \\\\\n",
    "(\\alpha - \\lambda)^n = \\varepsilon$\n",
    "\n",
    "$\\lambda = \\alpha - \\sqrt[n]\\varepsilon$\n",
    "\n",
    "\n",
    "$\\varepsilon$ can be rotated by any angle $\\varphi$ on a complex plane, so  $\\varepsilon = |\\varepsilon|e^{i\\varphi}$:\\\n",
    "$ \\alpha = \\lambda +  \\sqrt[n]{|\\varepsilon|}e^{i2\\pi \\frac{k}{n}\\varphi} \\quad \\forall k\\in[0,n-1]$\\\n",
    "The perturbation, depending on $\\lambda$, can be big (if $\\lambda=0.01$) or small(if $\\lambda=1000$) in terms of scale. As whown, perturbation depends only on $n$. "
   ]
  },
  {
   "cell_type": "markdown",
   "metadata": {
    "id": "xWcyqKyrOGIp"
   },
   "source": [
    "### 2. PageRank (35 pts)\n",
    "\n",
    "\n",
    "#### Damping factor importance\n",
    "\n",
    "* (5 pts) Write the function ```pagerank_matrix(G)``` that takes an adjacency matrix $G$ (in both sparse and dense formats) as an input and outputs the corresponding PageRank matrix $A$."
   ]
  },
  {
   "cell_type": "code",
   "execution_count": 3,
   "metadata": {
    "id": "2jktwIc8OGIp"
   },
   "outputs": [],
   "source": [
    "\"\"\"\n",
    "References: \n",
    "https://en.wikipedia.org/wiki/Google_matrix#Construction_of_Google_matrix_G\n",
    "http://blog.samuelmh.com/2015/02/pagerank-sparse-matrices-python-ipython.html\n",
    "https://youtu.be/F5fcEtqysGs\n",
    "\"\"\"\n",
    "import numpy as np \n",
    "from scipy import sparse\n",
    "from scipy.sparse.linalg import inv\n",
    "\n",
    "# INPUT:  G - np.ndarray or sparse matrix\n",
    "# OUTPUT: A - np.ndarray (of size G.shape) or sparse matrix\n",
    "def pagerank_matrix(G):\n",
    "    num_pages = G.shape[0] \n",
    "    if isinstance(G, sparse.spmatrix):\n",
    "        # normalize row by a sum of the row\n",
    "            # rownonzeros = np.diff(G.indptr) returns amount of non-zeros on each row \n",
    "            # np.repeat(rownonzeros, rownonzeros) returns an array where sums of rows \n",
    "                # are repeated sum times so that it would be of the same dimension as GG.data.\n",
    "            # in such a way, each entry of GG.data is divided by a sum of row elements \n",
    "            # source :\n",
    "                # https://stackoverflow.com/questions/49286903/normalize-sparse-row-probability-matrix\n",
    "        rownonzeros = np.diff(G.indptr)\n",
    "        GG = G.copy()\n",
    "        GG.data = GG.data / np.repeat(rownonzeros, rownonzeros)\n",
    "        return GG\n",
    "    else:\n",
    "        rowsums = G.sum(axis=1)\n",
    "        return G / rowsums.reshape(-1, 1)"
   ]
  },
  {
   "cell_type": "markdown",
   "metadata": {
    "id": "BtVmgGnYOGIs"
   },
   "source": [
    "* (3 pts) Find PageRank matrix $A$ that corresponds to the following graph: <img src=\"graph.png\" width='250'>\n",
    "What is its largest eigenvalue? What multiplicity does it have?"
   ]
  },
  {
   "cell_type": "code",
   "execution_count": 4,
   "metadata": {
    "id": "BtVmgGnYOGIs"
   },
   "outputs": [
    {
     "name": "stdout",
     "output_type": "stream",
     "text": [
      "The PageRank matrix for a provided mini-internet is:\n",
      "  (2, 0)\t1.0\n",
      "  (0, 1)\t0.5\n",
      "  (2, 1)\t0.5\n",
      "  (1, 2)\t1.0\n",
      "  (4, 3)\t1.0\n",
      "  (3, 4)\t1.0\n",
      "\n",
      "The max eigenvalue is (1+0j) and its multiplicity is 2\n"
     ]
    },
    {
     "data": {
      "text/plain": [
       "matrix([[0. , 0.5, 0. , 0. , 0. ],\n",
       "        [0. , 0. , 1. , 0. , 0. ],\n",
       "        [1. , 0.5, 0. , 0. , 0. ],\n",
       "        [0. , 0. , 0. , 0. , 1. ],\n",
       "        [0. , 0. , 0. , 1. , 0. ]])"
      ]
     },
     "execution_count": 4,
     "metadata": {},
     "output_type": "execute_result"
    }
   ],
   "source": [
    "from scipy import sparse\n",
    "\n",
    "G = np.asarray(\n",
    "    [\n",
    "        [0, 1, 0, 0, 0],\n",
    "        [0, 0, 1, 0, 0],\n",
    "        [1, 1, 0, 0, 0],\n",
    "        [0, 0, 0, 0, 1],\n",
    "        [0, 0, 0, 1, 0]\n",
    "    ]\n",
    ")\n",
    "A = pagerank_matrix(sparse.csc_matrix(G))\n",
    "print(\"The PageRank matrix for a provided mini-internet is:\\n{}\".format(A))\n",
    "print()\n",
    "eigs = sorted(np.linalg.eigvals(pagerank_matrix(G)), reverse=True)\n",
    "\n",
    "max_eigenval = np.imag(-1e10 -1e10j)\n",
    "max_eigenidx = -1\n",
    "for idx,val in enumerate(eigs):\n",
    "    if val >= max_eigenval:\n",
    "        max_eigenval = val\n",
    "        max_eigenidx = idx + 1\n",
    "    else:\n",
    "        break\n",
    "print(\"The max eigenvalue is {} and its multiplicity is {}\".format(max_eigenval, max_eigenidx))\n",
    "A.todense()"
   ]
  },
  {
   "cell_type": "markdown",
   "metadata": {
    "id": "BtVmgGnYOGIs"
   },
   "source": [
    "* (5 pts) Implement the power method for a given matrix $A$, an initial guess $x_0$ and a number of iterations ```num_iter```. It should be organized as a function ```power_method(A, x0, num_iter)``` that outputs approximation to eigenvector $x$, eigenvalue $\\lambda$ and history of residuals $\\{\\|Ax_k - \\lambda_k x_k\\|_2\\}$. Make sure that the method converges to the correct solution on a matrix $\\begin{bmatrix} 2 & -1 \\\\ -1 & 2 \\end{bmatrix}$ which is known to have the largest eigenvalue equal to $3$."
   ]
  },
  {
   "cell_type": "code",
   "execution_count": 5,
   "metadata": {
    "id": "uLo7A--rOGIs"
   },
   "outputs": [],
   "source": [
    "import numpy as np \n",
    "\n",
    "# INPUT:  A - np.ndarray (2D), x0 - np.ndarray (1D), num_iter - integer (positive)\n",
    "# OUTPUT: x - np.ndarray (of size x0), \n",
    "#         l - float, \n",
    "#         res - np.ndarray (of size num_iter + 1 [include initial guess])\n",
    "\n",
    "def power_method(A, x0, num_iter=100): # 5 pts\n",
    "    res = np.empty(num_iter + 1)  \n",
    "\n",
    "    x = x0 / np.linalg.norm(x0)\n",
    "    Ax = A.dot(x)\n",
    "    l = Ax @ x\n",
    "    res[0] = np.linalg.norm(Ax - l*x) \n",
    "    \n",
    "    for i in range(num_iter):\n",
    "        Ax = A.dot(x) # x\n",
    "        x = Ax / np.linalg.norm(Ax)\n",
    "        l = A.dot(x) @ x\n",
    "        res[i + 1] = np.linalg.norm(Ax - l*x)\n",
    "    return x, l, res"
   ]
  },
  {
   "cell_type": "code",
   "execution_count": 6,
   "metadata": {},
   "outputs": [
    {
     "name": "stdout",
     "output_type": "stream",
     "text": [
      "  1 iteration(s) results 2.7999999999999998224:: not enough with a residual 0.5999999999999999\n",
      "  2 iteration(s) results 2.9756097560975609539:: not enough with a residual 0.11204554344228997\n",
      "  3 iteration(s) results 2.9972602739726030840:: not enough with a residual 0.013564742523349544\n",
      "  4 iteration(s) results 2.9996952148735145371:: not enough with a residual 0.0015222552378615234\n",
      "  5 iteration(s) results 2.9999661303979685556:: not enough with a residual 0.0001693273637937224\n",
      "  6 iteration(s) results 2.9999962366542343162:: not enough with a residual 1.8816473896698478e-05\n",
      "  7 iteration(s) results 2.9999995818497708910:: not enough with a residual 2.0907479971426464e-06\n",
      "  8 iteration(s) results 2.9999999535388548466:: not enough with a residual 2.3230568713515162e-07\n",
      "  9 iteration(s) results 2.9999999948376512293:: not enough with a residual 2.581174854041702e-08\n",
      " 10 iteration(s) results 2.9999999994264059389:: not enough with a residual 2.867972021867219e-09\n",
      " 11 iteration(s) results 2.9999999999362669811:: not enough with a residual 3.1866282523511155e-10\n",
      " 12 iteration(s) results 2.9999999999929185535:: not enough with a residual 3.5407469054269546e-11\n",
      " 13 iteration(s) results 2.9999999999992130739:: not enough with a residual 3.934023664478067e-12\n",
      " 14 iteration(s) results 2.9999999999999125144:: not enough with a residual 4.3711374049756297e-13\n",
      " 15 iteration(s) results 2.9999999999999902300:: not enough with a residual 4.835884772746027e-14\n",
      " 16 iteration(s) results 2.9999999999999991118:: not enough with a residual 5.65233285126159e-15\n",
      "\n",
      " 17 iteration(s) are sufficient with a residual 9.930136612989092e-16\n"
     ]
    }
   ],
   "source": [
    "foom = pagerank_matrix(np.asarray([ [2, -1], \n",
    "                                    [-1, 2]]))\n",
    "for i in range(30):\n",
    "    try:\n",
    "        _,l,err = power_method(foom, np.asarray([2, -1]), i)\n",
    "        assert( l == np.linalg.eigvals(foom).max())\n",
    "        print(\"\\n{:3} iteration(s) are sufficient with a residual {}\".format(err.__len__(), err[-1]))\n",
    "        break\n",
    "    except AssertionError:\n",
    "            print(\"{:3} iteration(s) results {:.19f}:: not enough with a residual {}\".format(err.__len__(),l, err[-1]))\n"
   ]
  },
  {
   "cell_type": "markdown",
   "metadata": {
    "id": "9hAowO6zOGIu"
   },
   "source": [
    "* (2 pts) Run the power method for the graph presented above and plot residuals $\\|Ax_k - \\lambda_k x_k\\|_2$ as a function of $k$ for ```num_iter=100``` and random initial guess ```x0```.  Explain the absence of convergence. "
   ]
  },
  {
   "cell_type": "code",
   "execution_count": 7,
   "metadata": {
    "id": "9hAowO6zOGIu"
   },
   "outputs": [
    {
     "data": {
      "image/png": "[encoded data removed]",
      "text/plain": [
       "<Figure size 432x288 with 1 Axes>"
      ]
     },
     "metadata": {
      "needs_background": "light"
     },
     "output_type": "display_data"
    },
    {
     "data": {
      "image/png": "[encoded data removed]",
      "text/plain": [
       "<Figure size 432x288 with 1 Axes>"
      ]
     },
     "metadata": {
      "needs_background": "light"
     },
     "output_type": "display_data"
    },
    {
     "name": "stdout",
     "output_type": "stream",
     "text": [
      "[-0.39970035  0.74668878 -0.32830706  0.06629794 -1.41004638]\n",
      "[(1+0j), (1+0j), (-0.5+0.49999999999999983j), (-0.5-0.49999999999999983j), (-1+0j)]\n",
      "-0.08138896104668825\n"
     ]
    }
   ],
   "source": [
    "import matplotlib.pyplot as plt\n",
    "\n",
    "G = np.asarray([[0, 1, 0, 0, 0],\n",
    "                [0, 0, 1, 0, 0],\n",
    "                [1, 1, 0, 0, 0],\n",
    "                [0, 0, 0, 0, 1],\n",
    "                [0, 0, 0, 1, 0]], dtype='double')\n",
    "\n",
    "A = pagerank_matrix(G)\n",
    "initial_guess = np.random.randn(G.shape[1])\n",
    "iters = 100\n",
    "lviter = []\n",
    "\n",
    "for iter in range(iters):\n",
    "    _, l, res = power_method(A, initial_guess, iter)\n",
    "    lviter.append(l)\n",
    "    \n",
    "plt.plot(res)\n",
    "plt.title('Power method for graph G')\n",
    "plt.xlabel('Iteration')\n",
    "plt.ylabel('Error')\n",
    "plt.grid()\n",
    "plt.show()\n",
    "\n",
    "    \n",
    "plt.plot(lviter)\n",
    "plt.title('Power method for graph G')\n",
    "plt.xlabel('Iteration')\n",
    "plt.ylabel('Eigenvalie')\n",
    "plt.show()\n",
    "\n",
    "\n",
    "print(initial_guess)\n",
    "print(sorted(np.linalg.eigvals(A), reverse=True))\n",
    "print(l)"
   ]
  },
  {
   "cell_type": "markdown",
   "metadata": {
    "id": "9hAowO6zOGIu"
   },
   "source": [
    "[src](https://www.cs.huji.ac.il/~csip/tirgul2.pdf)\n",
    "\n",
    "In a general case, if se suppose A to be square and diagonalizible, matrix A has n independent eigenvectors: $x_1, x_2 \\dots x_n$. \n",
    "\n",
    "For any vector $v$ in a basis of eigenvectors, $v = a_1x_1 + \\dots + a_nx_n$. Let us take $v_{(0)}$ as an initial guess for the power method. Then, the $k$'th iteration of the power methot yields:\n",
    "$$\n",
    "\\begin{aligned}\n",
    "A^{k} v_{(0)} &=A^{k}\\left(a_{1} x_{1}+a_{2} x_{2}+\\cdots+a_{n} x_{n}\\right)=a_{1} A^{k} x_{1}+a_{2} A^{k} x_{2}+\\ldots+a_{n} A^{k} x_{n} \\\\\n",
    "&=a_{1} \\lambda_{1}^{k} x_{1}+a_{2} \\lambda_{2}^{k} x_{2}+\\ldots+a_{n} \\lambda_{n}^{k} x_{n}=a_{1} \\lambda_{1}^{k}\\left(x_{1}+\\sum_{j=2}^{n} \\frac{a_{j}}{a_{1}}\\left(\\frac{\\lambda_{j}}{\\lambda_{1}}\\right)^{k} x_{j}\\right)\n",
    "\\end{aligned}\n",
    "$$\n",
    "\n",
    "For this specific graph, $\\lambda_1 = \\lambda_2$. if we plug in $\\frac{\\lambda_2)}{\\lambda_1} = 1$ to the formula above, we gonna see that the value of matrix-vector multiplication is unchanged from iteration to iteration, hence no convergence as the Sum part does not decay with $k\\rightarrow\\infty$\n"
   ]
  },
  {
   "cell_type": "markdown",
   "metadata": {
    "id": "9hAowO6zOGIu"
   },
   "source": [
    "* (2 pts) Consider the same graph, but with additional self loop at node 4 (self loop is an edge that connects a vertex with itself). Plot residuals as in the previous task and discuss the convergence. Now, run the power method with ```num_iter=100``` for 10 different initial guesses and print/plot the resulting approximated eigenvectors. Why do they depend on the initial guess?"
   ]
  },
  {
   "cell_type": "code",
   "execution_count": 8,
   "metadata": {
    "id": "9hAowO6zOGIu"
   },
   "outputs": [
    {
     "data": {
      "image/png": "[encoded data removed]",
      "text/plain": [
       "<Figure size 432x288 with 1 Axes>"
      ]
     },
     "metadata": {
      "needs_background": "light"
     },
     "output_type": "display_data"
    },
    {
     "data": {
      "text/plain": [
       "array([-0.30305994, -0.30305994, -0.30305994, -0.60185714, -0.60185714])"
      ]
     },
     "execution_count": 8,
     "metadata": {},
     "output_type": "execute_result"
    }
   ],
   "source": [
    "import matplotlib.pyplot as plt\n",
    "\n",
    "G = np.asarray([[0, 1, 0, 0, 0],\n",
    "                [0, 0, 1, 0, 0],\n",
    "                [1, 1, 0, 0, 0],\n",
    "                [0, 0, 0, 1, 1],\n",
    "                [0, 0, 0, 1, 0]], dtype='double')\n",
    "\n",
    "B = pagerank_matrix(G)\n",
    "initial_guess = np.random.randn(G.shape[1])\n",
    "iters = 100\n",
    "\n",
    "x, l, res = power_method(B, initial_guess, iters)\n",
    "\n",
    "plt.plot(res)\n",
    "plt.title('Power method for graph G')\n",
    "plt.xlabel('Iteration')\n",
    "plt.ylabel('Error')\n",
    "plt.grid()\n",
    "plt.show()\n",
    "l\n",
    "x"
   ]
  },
  {
   "cell_type": "code",
   "execution_count": 9,
   "metadata": {
    "id": "9hAowO6zOGIu"
   },
   "outputs": [
    {
     "name": "stdout",
     "output_type": "stream",
     "text": [
      "1.0000000000000002\n",
      "0.9999999999999983\n",
      "1.0000000000000002\n",
      "0.999999999999999\n",
      "1.0000000000000004\n",
      "1.0000000000000002\n",
      "1.0\n",
      "0.9999999999999998\n",
      "1.0000000000000002\n",
      "1.0000000000000002\n",
      "[[ 0.36323508  0.36323508  0.36323508  0.54962752  0.54962752]\n",
      " [-0.57719054 -0.57719054 -0.57719054 -0.01663206 -0.01663206]\n",
      " [ 0.14875098  0.14875098  0.14875098  0.68323475  0.68323475]\n",
      " [-0.46338488 -0.46338488 -0.46338488  0.42179578  0.42179578]\n",
      " [-0.12402879 -0.12402879 -0.12402879  0.69059778  0.69059778]\n",
      " [-0.48847641 -0.48847641 -0.48847641 -0.37694323 -0.37694323]\n",
      " [ 0.05478303  0.05478303  0.05478303  0.70391635  0.70391635]\n",
      " [ 0.52657103  0.52657103  0.52657103 -0.28997314 -0.28997314]\n",
      " [ 0.40502608  0.40502608  0.40502608  0.50391548  0.50391548]\n",
      " [ 0.50718409  0.50718409  0.50718409 -0.33785566 -0.33785566]]\n",
      "[-1.07548826e-16-0.37796447j -1.07548826e-16+0.37796447j\n",
      " -5.77350269e-01+0.j          0.00000000e+00+0.j\n",
      "  0.00000000e+00+0.j        ]\n",
      "[ 0.        +0.j  0.        -0.j  0.        +0.j  0.70710678+0.j\n",
      " -0.4472136 +0.j]\n"
     ]
    },
    {
     "data": {
      "text/plain": [
       "' The largest eigenvalue here is stoll non-unique, which results in \\nincorrect computation of eigenvectors, \\nalthough the residual values and the largest eigenvalue are in place '"
      ]
     },
     "execution_count": 9,
     "metadata": {},
     "output_type": "execute_result"
    }
   ],
   "source": [
    "xs = np.empty((10, (B.shape[1])))\n",
    "for i in range(10):\n",
    "    gs = np.random.randn(B.shape[1])\n",
    "    x, l, _ = power_method(B, gs, 100)\n",
    "    xs[i] = x\n",
    "    print(l)\n",
    "print(xs)\n",
    "print(np.linalg.eig(B)[1][2])\n",
    "print(np.linalg.eig(B)[1][3])\n",
    "\"\"\" The largest eigenvalue here is stoll non-unique, which results in \n",
    "incorrect computation of eigenvectors, \n",
    "although the residual values and the largest eigenvalue are in place \"\"\""
   ]
  },
  {
   "cell_type": "markdown",
   "metadata": {
    "id": "9hAowO6zOGIu"
   },
   "source": [
    "In order to avoid this problem Larry Page and Sergey Brin [proposed](http://ilpubs.stanford.edu:8090/422/1/1999-66.pdf) to use the following regularization technique:\n",
    "\n",
    "$$\n",
    "A_d = dA + \\frac{1-d}{N} \\begin{pmatrix} 1 & \\dots & 1 \\\\ \\vdots & & \\vdots \\\\ 1 & \\dots & 1 \\end{pmatrix},\n",
    "$$\n",
    "\n",
    "where $d$ is a small parameter in $[0,1]$ (typically $d=0.85$), which is called **damping factor**, $A$ is of size $N\\times N$. Now $A_d$ is the matrix with multiplicity of the largest eigenvalue equal to 1. \n",
    "Recall that computing the eigenvector of the PageRank matrix, which corresponds to the largest eigenvalue, has the following interpretation. Consider a person who stays in a random node of a graph (i.e. opens a random web page); at each step s/he follows one of the outcoming edges uniformly at random (i.e. opens one of the links). So the person randomly walks through the graph and the eigenvector we are looking for is exactly his/her stationary distribution â€” for each node it tells you the probability of visiting this particular node. Therefore, if the person has started from a part of the graph which is not connected with the other part, he will never get there.  In the regularized model, the person at each step follows one of the outcoming links with probability $d$ OR teleports to a random node from the whole graph with probability $(1-d)$.\n",
    "\n",
    "* (2 pts) Now, run the power method with $A_d$ and plot residuals $\\|A_d x_k - \\lambda_k x_k\\|_2$ as a function of $k$ for $d=0.97$, ```num_iter=100``` and a random initial guess ```x0```."
   ]
  },
  {
   "cell_type": "code",
   "execution_count": 10,
   "metadata": {
    "id": "9hAowO6zOGIu"
   },
   "outputs": [
    {
     "data": {
      "image/png": "[encoded data removed]",
      "text/plain": [
       "<Figure size 432x288 with 1 Axes>"
      ]
     },
     "metadata": {
      "needs_background": "light"
     },
     "output_type": "display_data"
    }
   ],
   "source": [
    "def damp(A, d=0.85):\n",
    "    return d * A + ((1 - d) / A.shape[0]) * np.ones(A.shape)\n",
    "    \n",
    "Bd = damp(B, 0.97)\n",
    "\n",
    "x, l, res = power_method(Bd, np.random.randn(Bd.shape[0]), 100)\n",
    "plt.plot(res)\n",
    "plt.title('Power method for damped graph G')\n",
    "plt.xlabel('Iteration')\n",
    "plt.ylabel('Error')\n",
    "plt.show()"
   ]
  },
  {
   "cell_type": "markdown",
   "metadata": {
    "id": "9hAowO6zOGIu"
   },
   "source": [
    "* (5 pts) Find the second largest in the absolute value eigenvalue of the obtained matrix $A_d$. How and why is it connected to the damping factor $d$? What is the convergence rate of the PageRank algorithm when using damping factor?"
   ]
  },
  {
   "cell_type": "code",
   "execution_count": 11,
   "metadata": {
    "id": "9hAowO6zOGIu"
   },
   "outputs": [
    {
     "name": "stdout",
     "output_type": "stream",
     "text": [
      "[1.0, 1.0, 0.7071067811865475, 0.7071067811865475, 0.5]\n",
      "[1.0000000000000009, 0.9699999999999999, 0.6858935777509511, 0.6858935777509511, 0.4849999999999999]\n",
      "0.9699999999999999\n",
      "0.97\n",
      "0.97\n",
      "0.9699999999999998\n"
     ]
    },
    {
     "data": {
      "text/plain": [
       "' the damping makes the new matrix with a uinque largest eigenvalue. \\nif we suppose an array of sorted abs(eigen), \\ndamping makes every eigen_i i>1 such that neweigen_i = d*eigen_i'"
      ]
     },
     "execution_count": 11,
     "metadata": {},
     "output_type": "execute_result"
    }
   ],
   "source": [
    "eigs = sorted(abs(np.linalg.eig(B)[0]), reverse=True)\n",
    "neweigs = sorted(abs(np.linalg.eig(Bd)[0]), reverse=True)\n",
    "print(eigs)\n",
    "print(neweigs)\n",
    "print(abs(neweigs[1])/eigs[1])\n",
    "print(abs(neweigs[2])/eigs[2])\n",
    "print(abs(neweigs[3])/eigs[3])\n",
    "print(abs(neweigs[4])/eigs[4])\n",
    "\"\"\" the damping makes the new matrix with a uinque largest eigenvalue. \n",
    "if we suppose an array of sorted abs(eigen), \n",
    "damping makes every eigen_i i>1 such that neweigen_i = d*eigen_i\"\"\""
   ]
  },
  {
   "cell_type": "markdown",
   "metadata": {
    "id": "9hAowO6zOGIu"
   },
   "source": [
    "Usually, graphs that arise in various areas are sparse (social, web, road networks, etc.) and, thus, computation of a matrix-vector product for corresponding PageRank matrix $A$ is much cheaper than $\\mathcal{O}(N^2)$. However, if $A_d$ is calculated directly, it becomes dense and, therefore, $\\mathcal{O}(N^2)$ cost grows prohibitively large for  big $N$."
   ]
  },
  {
   "cell_type": "markdown",
   "metadata": {
    "id": "9hAowO6zOGIu"
   },
   "source": [
    "* (2 pts) Implement fast matrix-vector product for $A_d$ as a function ```pagerank_matvec(A, d, x)```, which takes a PageRank matrix $A$ (in sparse format, e.g., ```csr_matrix```), damping factor $d$ and a vector $x$ as an input and returns $A_dx$ as an output. "
   ]
  },
  {
   "cell_type": "code",
   "execution_count": 12,
   "metadata": {},
   "outputs": [],
   "source": [
    "from scipy import sparse\n",
    "\n",
    "# INPUT:  A - np.ndarray (2D), d - float (from 0.0 to 1.0), x - np.ndarray (1D, size of A.shape[0/1])\n",
    "# OUTPUT: y - np.ndarray (1D, size of x)\n",
    "def pagerank_matvec(A, d, x): # 2 pts\n",
    "    if not isinstance(A, sparse.spmatrix):\n",
    "        A = sparse.csc_matrix(A)\n",
    "    dA = d*A\n",
    "    tmp1 = dA @ x\n",
    "    tmp2 = ((1 - d) / A.shape[0]) * x \n",
    "    if type(tmp1) == type(np.ndarray(1)):\n",
    "        return tmp1 + tmp2.sum()\n",
    "    return tmp1.toarray() + tmp2.sum()\n",
    "\n",
    "\"\"\" naive Ad.dot(x) tolls the RAM. There is a workaround. \"\"\"\n",
    "# Ad = damp(A, 0.97)\n",
    "# %timeit -n 2 Ad.dot(x)\n",
    "def notnaive_direct(A, d, x):\n",
    "    A = A.toarray()\n",
    "    return d * A @ x + (1 - d) / A.shape[0] * x.sum()"
   ]
  },
  {
   "cell_type": "markdown",
   "metadata": {
    "id": "9hAowO6zOGIu"
   },
   "source": [
    "* (1 pts) Generate a random adjacency matrix of size $10000 \\times 10000$ with only 100 non-zero elements and compare ```pagerank_matvec``` performance with direct evaluation of $A_dx$."
   ]
  },
  {
   "cell_type": "code",
   "execution_count": 13,
   "metadata": {
    "id": "4o3LKx5UOGIv"
   },
   "outputs": [
    {
     "data": {
      "text/plain": [
       "<10000x10000 sparse matrix of type '<class 'numpy.float64'>'\n",
       "\twith 100 stored elements in Compressed Sparse Column format>"
      ]
     },
     "execution_count": 13,
     "metadata": {},
     "output_type": "execute_result"
    }
   ],
   "source": [
    "A = sparse.random(10000, 10000, density=0.000001,format='csc')\n",
    "A.data = np.ceil(A.data)\n",
    "A = pagerank_matrix(A)\n",
    "x = sparse.csr_matrix(np.random.rand(10000, 1))\n",
    "A"
   ]
  },
  {
   "cell_type": "code",
   "execution_count": 14,
   "metadata": {
    "id": "4o3LKx5UOGIv"
   },
   "outputs": [
    {
     "name": "stdout",
     "output_type": "stream",
     "text": [
      "741 µs ± 232 µs per loop (mean ± std. dev. of 7 runs, 2 loops each)\n"
     ]
    }
   ],
   "source": [
    "%timeit -n 2 pagerank_matvec(A, 0.97, x)\n",
    "# pagerank_matvec(A, 0.97, x)"
   ]
  },
  {
   "cell_type": "code",
   "execution_count": 13,
   "metadata": {
    "id": "4o3LKx5UOGIv"
   },
   "outputs": [
    {
     "name": "stdout",
     "output_type": "stream",
     "text": [
      "370 ms ± 5.42 ms per loop (mean ± std. dev. of 7 runs, 2 loops each)\n"
     ]
    }
   ],
   "source": [
    "%timeit -n 2 notnaive_direct(A, 0.97, x)\n",
    "# notnaive_direct(A, 0.97, x)"
   ]
  },
  {
   "cell_type": "code",
   "execution_count": 15,
   "metadata": {
    "id": "4o3LKx5UOGIv"
   },
   "outputs": [
    {
     "name": "stdout",
     "output_type": "stream",
     "text": [
      "True\n",
      "True\n"
     ]
    }
   ],
   "source": [
    "\"\"\" pagerank_matvec is approximaately 350 times more efficient than a direct approach \"\"\"\n",
    "\n",
    "\"\"\" below we check if functions' output are valid for small N\"\"\"\n",
    "B = sparse.random(10000, 10000, density=1,format='csc')\n",
    "xx = sparse.csr_matrix(np.random.rand(10000, 1))\n",
    "\n",
    "foo1 = pagerank_matvec(B, 0.97, xx)\n",
    "foo2 = notnaive_direct(B, 0.97, xx)\n",
    "foo3 = damp(B, 0.97).dot(xx.todense())\n",
    "print(all(np.isclose(foo1, foo3)))\n",
    "print(all(np.isclose(foo2, foo3)))"
   ]
  },
  {
   "cell_type": "markdown",
   "metadata": {
    "id": "ru70NGUlOGIy"
   },
   "source": [
    "#### DBLP: computer science bibliography\n",
    "\n",
    "Download the dataset from [here](https://goo.gl/oZVxEa), unzip it and put `dblp_authors.npz`  and `dblp_graph.npz` in the same folder with this notebook. Each value (author name) from `dblp_authors.npz` corresponds to the row/column of the matrix from `dblp_graph.npz`. Value at row `i` and column `j` of the matrix from `dblp_graph.npz` corresponds to the number of times author `i` cited papers of the author `j`. Let us now find the most significant scientists according to PageRank model over DBLP data."
   ]
  },
  {
   "cell_type": "markdown",
   "metadata": {
    "id": "ru70NGUlOGIy"
   },
   "source": [
    "* (4 pts) Load the weighted adjacency matrix and the authors list into Python using ```load_dblp(...)``` function. \n",
    "    - Print its density (fraction of nonzero elements). \n",
    "    - Find top-10 most cited authors from the weighted adjacency matrix. \n",
    "        - Now, make all the weights of the adjacency matrix equal to 1 for simplicity (consider only existence of connection between authors, not its weight). \n",
    "    - Obtain the PageRank matrix $A$ from the adjacency matrix and verify that it is stochastic.\n",
    " \n",
    " "
   ]
  },
  {
   "cell_type": "code",
   "execution_count": 16,
   "metadata": {
    "id": "L5ZnW7m-OGIz"
   },
   "outputs": [],
   "source": [
    "from scipy.sparse import load_npz, linalg\n",
    "import numpy as np\n",
    "\n",
    "def load_dblp(path_auth, path_graph):\n",
    "    G = load_npz(path_graph).astype(float)\n",
    "    with np.load(path_auth) as data: authors = data['authors']\n",
    "    return G, authors\n",
    "\n",
    "G, authors = load_dblp('dblp_authors.npz', 'dblp_graph.npz')"
   ]
  },
  {
   "cell_type": "code",
   "execution_count": 17,
   "metadata": {
    "id": "L5ZnW7m-OGIz"
   },
   "outputs": [
    {
     "data": {
      "text/plain": [
       "<1766547x1766547 sparse matrix of type '<class 'numpy.float64'>'\n",
       "\twith 140388901 stored elements in Compressed Sparse Row format>"
      ]
     },
     "execution_count": 17,
     "metadata": {},
     "output_type": "execute_result"
    }
   ],
   "source": [
    "G"
   ]
  },
  {
   "cell_type": "code",
   "execution_count": 18,
   "metadata": {
    "id": "L5ZnW7m-OGIz"
   },
   "outputs": [
    {
     "name": "stdout",
     "output_type": "stream",
     "text": [
      "The density of the matrix is 4.4986518152305776e-05\n"
     ]
    }
   ],
   "source": [
    "nonzeros = G.getnnz()\n",
    "fullmat = np.prod(G.shape)\n",
    "\n",
    "density = nonzeros / fullmat\n",
    "print(\"The density of the matrix is {}\".format(density))"
   ]
  },
  {
   "cell_type": "code",
   "execution_count": 19,
   "metadata": {
    "id": "L5ZnW7m-OGIz"
   },
   "outputs": [],
   "source": [
    "citations = G.sum(0).tolist()[0]\n",
    "citations_dic = {author:incoming_cit for author, incoming_cit in enumerate(citations)}\n",
    "citations_dct = list(sorted(citations_dic.items(), key=lambda item: item[1], reverse = True))"
   ]
  },
  {
   "cell_type": "code",
   "execution_count": 20,
   "metadata": {
    "id": "L5ZnW7m-OGIz"
   },
   "outputs": [
    {
     "name": "stdout",
     "output_type": "stream",
     "text": [
      "Scott Shenker        has 119853.0 \t incoming citations\n",
      "Andrew Zisserman     has 118558.0 \t incoming citations\n",
      "Hari Balakrishnan    has 117253.0 \t incoming citations\n",
      "Jiawei Han           has 116708.0 \t incoming citations\n",
      "Anil K. Jain         has 113874.0 \t incoming citations\n",
      "Cordelia Schmid      has 102996.0 \t incoming citations\n",
      "Jitendra Malik       has 101657.0 \t incoming citations\n",
      "Ion Stoica           has 98017.0 \t incoming citations\n",
      "David E. Culler      has 95762.0 \t incoming citations\n",
      "David G. Lowe        has 93678.0 \t incoming citations\n"
     ]
    }
   ],
   "source": [
    "authors_list = authors.tolist()\n",
    "for auth_id, incoming_citations in citations_dct[:10]:\n",
    "    print(\"{:20s} has {} \\t incoming citations\".format(authors_list[auth_id], incoming_citations))\n",
    "    "
   ]
  },
  {
   "cell_type": "code",
   "execution_count": 21,
   "metadata": {
    "id": "L5ZnW7m-OGIz"
   },
   "outputs": [],
   "source": [
    "nnz_idx = G.nonzero()\n",
    "G[nnz_idx] = 1"
   ]
  },
  {
   "cell_type": "code",
   "execution_count": 100,
   "metadata": {
    "id": "L5ZnW7m-OGIz"
   },
   "outputs": [],
   "source": [
    "A = pagerank_matrix(G)\n",
    "col_sums = np.array(A.sum(axis=1).tolist())"
   ]
  },
  {
   "cell_type": "code",
   "execution_count": 86,
   "metadata": {
    "id": "L5ZnW7m-OGIz"
   },
   "outputs": [
    {
     "name": "stdout",
     "output_type": "stream",
     "text": [
      "Matrix is stochastic\n"
     ]
    }
   ],
   "source": [
    "for summ in col_sums:\n",
    "    if (summ !=0) and (not np.isclose(summ, 1)):\n",
    "        raise Exception(\"Matrix is not stochastic\")\n",
    "print(\"Matrix is stochastic\")"
   ]
  },
  {
   "cell_type": "markdown",
   "metadata": {
    "id": "ru70NGUlOGIy"
   },
   "source": [
    "* (1 pts) In order to provide ```pagerank_matvec``` to your ```power_method``` (without rewriting it) for fast calculation of $A_dx$, you can create a ```LinearOperator```: \n",
    "```python\n",
    "L = scipy.sparse.linalg.LinearOperator(A.shape, matvec=lambda x, A=A, d=d: pagerank_matvec(A, d, x))\n",
    "```\n",
    "    Calling ```L@x``` or ```L.dot(x)``` will result in calculation of ```pagerank_matvec(A, d, x)``` and, thus, you can plug $L$ instead of the matrix $A$ in the ```power_method``` directly. **Note:** though in the previous subtask graph was very small (so you could disparage fast matvec implementation), here it is very large (but sparse), so that direct evaluation of $A_dx$ will require $\\sim 10^{12}$ matrix elements to store - good luck with that (^_<).\n",
    "    "
   ]
  },
  {
   "cell_type": "markdown",
   "metadata": {
    "id": "ru70NGUlOGIy"
   },
   "source": [
    "* (2 pts) Run the power method starting from the vector of all ones and plot residuals $\\|A_dx_k - \\lambda_k x_k\\|_2$  as a function of $k$ for $d=0.85$."
   ]
  },
  {
   "cell_type": "code",
   "execution_count": 35,
   "metadata": {
    "id": "ru70NGUlOGIy"
   },
   "outputs": [],
   "source": [
    "d = 0.85\n",
    "A=A.T\n",
    "L = linalg.LinearOperator(A.shape, matvec=lambda x, A=A, d=d: pagerank_matvec(A, d, x))\n",
    "\n",
    "\n",
    "x, l, res = power_method(L, np.ones(A.shape[0]), 100)"
   ]
  },
  {
   "cell_type": "code",
   "execution_count": 36,
   "metadata": {
    "id": "ru70NGUlOGIy"
   },
   "outputs": [
    {
     "data": {
      "image/png": "[encoded data removed]",
      "text/plain": [
       "<Figure size 432x288 with 1 Axes>"
      ]
     },
     "metadata": {
      "needs_background": "light"
     },
     "output_type": "display_data"
    }
   ],
   "source": [
    "plt.plot(range(101), res)\n",
    "plt.xlabel(\"Iteration\")\n",
    "plt.ylabel(\"Residual\")\n",
    "plt.title(\"Convergence of power iteration algorithm\")\n",
    "plt.grid()\n",
    "plt.show()"
   ]
  },
  {
   "cell_type": "markdown",
   "metadata": {
    "id": "ru70NGUlOGIy"
   },
   "source": [
    "* (1 pts) Print names of the top-10 authors according to PageRank over DBLP when $d=0.85$. Comment on your findings."
   ]
  },
  {
   "cell_type": "code",
   "execution_count": 134,
   "metadata": {
    "id": "QynfixvjOGI1"
   },
   "outputs": [
    {
     "name": "stdout",
     "output_type": "stream",
     "text": [
      "69065.0 David E. Goldberg\n",
      "52514.0 Richard M. Karp\n",
      "21487.0 John E. Hopcroft\n",
      "25040.0 Azriel Rosenfeld\n",
      "40375.0 Ronald L. Rivest\n",
      "113874.0 Anil K. Jain\n",
      "77359.0 Takeo Kanade\n",
      "18233.0 Alfred V. Aho\n",
      "44114.0 Robert Endre Tarjan\n",
      "45703.0 Gerard Salton\n"
     ]
    }
   ],
   "source": [
    "t10 = x.argsort()[-10:][::-1]\n",
    "for i in t10:\n",
    "    print(citations_dic[i], authors_list[i])"
   ]
  },
  {
   "cell_type": "code",
   "execution_count": 131,
   "metadata": {
    "id": "QynfixvjOGI1"
   },
   "outputs": [
    {
     "name": "stdout",
     "output_type": "stream",
     "text": [
      "(119853.0, 'Scott Shenker')\n",
      "(118558.0, 'Andrew Zisserman')\n",
      "(117253.0, 'Hari Balakrishnan')\n",
      "(116708.0, 'Jiawei Han')\n",
      "(113874.0, 'Anil K. Jain')\n",
      "(101657.0, 'Jitendra Malik')\n",
      "(98017.0, 'Ion Stoica')\n",
      "(95762.0, 'David E. Culler')\n",
      "(93678.0, 'David G. Lowe')\n",
      "(92448.0, 'Ian T. Foster')\n"
     ]
    },
    {
     "data": {
      "text/plain": [
       "\" The space is multidimensional, so it is quite hard to calculate an exact eigenvector. \\nSo i've elected to pick top 10 of the 100 coordinates with largest magnitude.\\nThe list in this way is not exact, but it is a close approximate\""
      ]
     },
     "execution_count": 131,
     "metadata": {},
     "output_type": "execute_result"
    }
   ],
   "source": [
    "t100 = x.argsort()[-100:][::-1]\n",
    "cits = []\n",
    "auth = []\n",
    "for i in t100:\n",
    "    cits.append(citations_dic[i])\n",
    "    auth.append(authors_list[i])\n",
    "\n",
    "t10 = sorted(zip(cits, auth), reverse=True)[:10]\n",
    "print(*t10,sep=\"\\n\")\n",
    "\"\"\" The space is multidimensional, so it is quite hard to calculate an exact eigenvector. \n",
    "So i've elected to pick top 10 of the 100 coordinates with largest magnitude.\n",
    "The list in this way is not exact, but it is a close approximate\"\"\""
   ]
  },
  {
   "cell_type": "markdown",
   "metadata": {
    "id": "hQ2vaIyMOGI3"
   },
   "source": [
    "## Problem 3. QR algorithm (33 pts)\n",
    "\n",
    "* Implement QR-algorithm without shifts. Prototype of the function is given below"
   ]
  },
  {
   "cell_type": "code",
   "execution_count": 96,
   "metadata": {
    "id": "rMHBZLojOGI3"
   },
   "outputs": [],
   "source": [
    "from scipy.sparse import diags\n",
    "\n",
    "# INPUT: \n",
    "# A_init - square matrix, \n",
    "# num_iter - number of iterations for QR algorithm\n",
    "# OUTPUT: \n",
    "# Ak - transformed matrix A_init given by QR algorithm, \n",
    "# convergence - numpy array of shape (num_iter, ), \n",
    "# where we store the maximal number from the Chebyshev norm \n",
    "# of triangular part of the Ak for every iteration\n",
    "def qr_algorithm(A_init, num_iter): # 3 pts\n",
    "    Ak = A_init\n",
    "    convergence = []\n",
    "    for k in range(num_iter):\n",
    "        Q,R = np.linalg.qr(Ak, mode='complete')\n",
    "        convergence.append(np.linalg.norm(np.tril(Ak, -1), ord=np.inf))\n",
    "        Ak = Q.T @ Ak @ Q\n",
    "    convergence = np.array(convergence)\n",
    "    return Ak, convergence"
   ]
  },
  {
   "cell_type": "markdown",
   "metadata": {
    "id": "UNrCBNRUOGI6"
   },
   "source": [
    "#### Symmetric case (3 pts)\n",
    "- Create symmetric tridiagonal $11 \\times 11$ matrix with elements $-1, 2, -1$ on sub-, main- and upper diagonal respectively without using loops.\n",
    "- Run $400$ iterations of the QR algorithm for this matrix.\n",
    "- Plot the output matrix with function ```plt.spy(Ak, precision=1e-7)```.\n",
    "- Plot convergence of QR-algorithm."
   ]
  },
  {
   "cell_type": "code",
   "execution_count": 97,
   "metadata": {
    "id": "NuKwQGXbOGI6"
   },
   "outputs": [
    {
     "data": {
      "text/plain": [
       "array([[ 2., -1.,  0.,  0.,  0.,  0.,  0.,  0.,  0.,  0.,  0.],\n",
       "       [-1.,  2., -1.,  0.,  0.,  0.,  0.,  0.,  0.,  0.,  0.],\n",
       "       [ 0., -1.,  2., -1.,  0.,  0.,  0.,  0.,  0.,  0.,  0.],\n",
       "       [ 0.,  0., -1.,  2., -1.,  0.,  0.,  0.,  0.,  0.,  0.],\n",
       "       [ 0.,  0.,  0., -1.,  2., -1.,  0.,  0.,  0.,  0.,  0.],\n",
       "       [ 0.,  0.,  0.,  0., -1.,  2., -1.,  0.,  0.,  0.,  0.],\n",
       "       [ 0.,  0.,  0.,  0.,  0., -1.,  2., -1.,  0.,  0.,  0.],\n",
       "       [ 0.,  0.,  0.,  0.,  0.,  0., -1.,  2., -1.,  0.,  0.],\n",
       "       [ 0.,  0.,  0.,  0.,  0.,  0.,  0., -1.,  2., -1.,  0.],\n",
       "       [ 0.,  0.,  0.,  0.,  0.,  0.,  0.,  0., -1.,  2., -1.],\n",
       "       [ 0.,  0.,  0.,  0.,  0.,  0.,  0.,  0.,  0., -1.,  2.]])"
      ]
     },
     "execution_count": 97,
     "metadata": {},
     "output_type": "execute_result"
    },
    {
     "data": {
      "image/png": "[encoded data removed]",
      "text/plain": [
       "<Figure size 432x288 with 1 Axes>"
      ]
     },
     "metadata": {
      "needs_background": "light"
     },
     "output_type": "display_data"
    },
    {
     "data": {
      "image/png": "[encoded data removed]",
      "text/plain": [
       "<Figure size 432x288 with 1 Axes>"
      ]
     },
     "metadata": {
      "needs_background": "light"
     },
     "output_type": "display_data"
    }
   ],
   "source": [
    "diag_broadcast = [-1,2,-1]\n",
    "\n",
    "diagonals = [np.full(11,diag_broadcast[1]), \n",
    "             np.full(10,diag_broadcast[0]), \n",
    "             np.full(10,diag_broadcast[2])]\n",
    "A_init = diags(diagonals, [0, -1, 1]).toarray()\n",
    "\n",
    "Ak, convergence = qr_algorithm(A_init, 400)\n",
    "plt.spy(Ak, precision=1e-7)\n",
    "\n",
    "plt.figure()\n",
    "plt.plot(range(400), convergence)\n",
    "plt.xlabel(\"Iteration\")\n",
    "plt.ylabel(\"max Chebyshev norm of triangular part of the Ak\")\n",
    "plt.title(\"Convergence of QR algorithm\")\n",
    "plt.grid()\n",
    "A_init"
   ]
  },
  {
   "cell_type": "markdown",
   "metadata": {
    "id": "-lomV2K-OGI8"
   },
   "source": [
    "#### Nonsymmetric case (5 pts)\n",
    "\n",
    "- Create nonsymmetric tridiagonal $11 \\times 11$ matrix with elements $5, 3, -2$ on sub-, main- and upper diagonal respectively without using loops.\n",
    "- Run $250$ iterations of the QR algorithm for this matrix.\n",
    "- Plot the result matrix with function ```plt.spy(Ak, precision=1e-7)```. Is this matrix lower triangular? How does this correspond to the claim about convergence of the QR algorithm?"
   ]
  },
  {
   "cell_type": "code",
   "execution_count": 82,
   "metadata": {
    "id": "C2lGBHjaOGI9"
   },
   "outputs": [
    {
     "data": {
      "text/plain": [
       "array([[ 3., -2.,  0.,  0.,  0.,  0.,  0.,  0.,  0.,  0.,  0.],\n",
       "       [ 5.,  3., -2.,  0.,  0.,  0.,  0.,  0.,  0.,  0.,  0.],\n",
       "       [ 0.,  5.,  3., -2.,  0.,  0.,  0.,  0.,  0.,  0.,  0.],\n",
       "       [ 0.,  0.,  5.,  3., -2.,  0.,  0.,  0.,  0.,  0.,  0.],\n",
       "       [ 0.,  0.,  0.,  5.,  3., -2.,  0.,  0.,  0.,  0.,  0.],\n",
       "       [ 0.,  0.,  0.,  0.,  5.,  3., -2.,  0.,  0.,  0.,  0.],\n",
       "       [ 0.,  0.,  0.,  0.,  0.,  5.,  3., -2.,  0.,  0.,  0.],\n",
       "       [ 0.,  0.,  0.,  0.,  0.,  0.,  5.,  3., -2.,  0.,  0.],\n",
       "       [ 0.,  0.,  0.,  0.,  0.,  0.,  0.,  5.,  3., -2.,  0.],\n",
       "       [ 0.,  0.,  0.,  0.,  0.,  0.,  0.,  0.,  5.,  3., -2.],\n",
       "       [ 0.,  0.,  0.,  0.,  0.,  0.,  0.,  0.,  0.,  5.,  3.]])"
      ]
     },
     "execution_count": 82,
     "metadata": {},
     "output_type": "execute_result"
    },
    {
     "data": {
      "image/png": "[encoded data removed]",
      "text/plain": [
       "<Figure size 432x288 with 1 Axes>"
      ]
     },
     "metadata": {
      "needs_background": "light"
     },
     "output_type": "display_data"
    }
   ],
   "source": [
    "diag_broadcast = np.array([5,3,-2])\n",
    "diagonals = [np.full(11,diag_broadcast[1]), \n",
    "             np.full(10,diag_broadcast[0]), \n",
    "             np.full(10,diag_broadcast[2])]\n",
    "\n",
    "A = diags(diagonals, [0, -1, 1]).toarray()\n",
    "\n",
    "Ak, convergence = qr_algorithm(A_init, 250)\n",
    "plt.spy(Ak, precision=1e-7)\n",
    "A"
   ]
  },
  {
   "cell_type": "markdown",
   "metadata": {},
   "source": [
    "### QR algorithms with Rayleigh Quotient shift (10 pts)\n",
    "\n",
    "In the lectures the Rayleigh Quotient shift was introduced to speed up convergence of power method. Here we ask you to generalize this approach to construct the shifts in QR algorithm.\n",
    "\n",
    "- How to compute the Rayleigh Quotient shift in QR algorithm fast? Provide formulas and explanations how they can be simplified.\n",
    "- Implement explicit QR algorithm with Rayleigh Quotient shift. Please do not worry about implicit orthogonalization, we want to compare convergence only in terms of iterations.\n",
    "- Test your implementation in the symmetric case. Plot the convergence of QR algorithm with and without shift. Choose the dimension $n \\sim 100 $ for more representative results. \n",
    "- How the convergence of the shifted algorithm compares to the simple QR? Why? "
   ]
  },
  {
   "cell_type": "code",
   "execution_count": 1,
   "metadata": {},
   "outputs": [],
   "source": [
    "def qr_algorithm_reileigh(A_init, num_iter):\n",
    "    # enter your code here\n",
    "    return Ak, convergence"
   ]
  },
  {
   "cell_type": "markdown",
   "metadata": {},
   "source": [
    "- Try QR with Rayleigh Quotient shift for a simple matrix $A = \\begin{bmatrix}\n",
    "0 & 1 \\\\\n",
    "1 & 0\n",
    "\\end{bmatrix}$. Does anything change from iteration to iteration? Does shift affect convergence here? Why?"
   ]
  },
  {
   "cell_type": "code",
   "execution_count": null,
   "metadata": {},
   "outputs": [],
   "source": [
    "# Your solution is here"
   ]
  },
  {
   "cell_type": "markdown",
   "metadata": {},
   "source": [
    "### QR with Wilkinson shift  (15 pts)\n",
    "\n",
    "To solve the problem that appears in the last example, we can use the Wilkinson shift:\n",
    "\n",
    "$$\\mu = a_m - \\frac {sign(\\delta) b^2_{m-1}} {(|\\delta| + \\sqrt{\\delta^2 + b^2_{m-1}} )},$$\n",
    "\n",
    "where $\\delta = \\frac{(a_{m-1} - a_m)}{2}$. If $\\delta = 0$, then instead of $sign(\\delta)$ you have to choose $1$ or $-1$ arbitrary.\n",
    "The numbers $a_m, b_{m-1}, a_{m-1}$ are taken from matrix $B$:\n",
    "\n",
    "$$\n",
    "    B = \n",
    "    \\begin{bmatrix} \n",
    "     a_{m-1} & b_{m-1} \\\\ \n",
    "     b_{m-1} & a_m \\\\ \n",
    "    \\end{bmatrix},\n",
    "$$  \n",
    "which is a lower right bottom submatrix of $A^{(k)}$. Here $k$ is an iteration counter in QR algorithm.\n",
    "\n",
    "- Compare convergence in the symmetric cases: \n",
    "    - distinctive eigenvalues\n",
    "    - two coincident eigenvalues\n",
    "    - maximum and minimum eigenvalues with the same absolute value\n",
    "Choose the dimension $n \\sim 100 $ for more representative results.\n",
    "What do you observe? "
   ]
  },
  {
   "cell_type": "code",
   "execution_count": null,
   "metadata": {},
   "outputs": [],
   "source": [
    "def qr_algorithm_wilkinson(A_init, num_iter):\n",
    "    # enter your code here\n",
    "    return Ak, convergence"
   ]
  },
  {
   "cell_type": "code",
   "execution_count": null,
   "metadata": {},
   "outputs": [],
   "source": [
    "# Your solution is here"
   ]
  },
  {
   "cell_type": "markdown",
   "metadata": {
    "id": "c_8OYe7wOGI-"
   },
   "source": [
    "## Problem 4. (Movie Recommender system) 15 pts\n",
    "\n",
    "Imagine the world without NLA where you have free evenings and you can watch movies!  \n",
    "But it is always hard to choose a movie to watch. \n",
    "In this problem we suggest you to build your own movie recommender system based on SVD decomposition, so you can combine two perfect things: Numerical Linear Algebra and cinematography!"
   ]
  },
  {
   "cell_type": "markdown",
   "metadata": {
    "id": "W2duSA-Su7CI",
    "tags": []
   },
   "source": [
    "In order to build recommender system you need data. \n",
    "Here you are https://grouplens.org/datasets/movielens/1m/\n",
    "\n",
    "Usually all recommender systems may be devided into two groups\n",
    "\n",
    "#### Collaborative filtering. \n",
    "\n",
    "This approach is based on user-item interaction.\n",
    "It has one important assumption: user who has liked an item in the past will also likes the same in the future. Suppose the user A likes the films about vampires. \n",
    "He is Twilight saga fan and he has watched the film \"What we do in the shadows\" and liked it or unliked it, in other words he evaluated it somehow. And suppose another user B, who has the similair behavior to the first user (he is also Twilight saga fan). And the chance, that he will estimate \"What we do in the shadows\" in the same way that user A did, is huge. So, the purpose of the collaborative filtering is to predict a user's behavior based on behavior of the simular users.\n",
    "\n",
    "#### Content based filtering.\n",
    "\n",
    "Collaborative filtering has some essential flaws. The main one is called \"cold start\". \"Cold start\" happens when the new user comes and he has not react anyhow to the items. So we do not know his past behavior and we do not know what to advise. Here content based filtering helps. Often resources gather some extra info about users and items before a user comes down to utilising the resource. So, for example we would know that user likes horror movies before he watched anything on the resource."
   ]
  },
  {
   "cell_type": "markdown",
   "metadata": {
    "id": "mMvQV1zSu7Cg"
   },
   "source": [
    "\n",
    "- In this task you will implement Collaborative filtering based on SVD (we will use the function from the proper package and check if the result recommender system advices the similar movies)"
   ]
  },
  {
   "cell_type": "markdown",
   "metadata": {
    "id": "tMN7EK6gu7Ch",
    "tags": []
   },
   "source": [
    "1) (1 pts)  Explore the data. Construct the interaction matrix $M$ of size $m \\times n$ which contains the information of how a certain user rated a certain film. "
   ]
  },
  {
   "cell_type": "code",
   "execution_count": 94,
   "metadata": {
    "id": "tMN7EK6gu7Ch",
    "tags": []
   },
   "outputs": [],
   "source": [
    "import csv\n",
    "import os\n",
    "import pandas as pd\n",
    "\n",
    "def convert2csv(folder, file):\n",
    "    path = os.path.join(folder, file)\n",
    "    datContent = [i.strip().split() for i in open(path, encoding='latin-1').readlines()]\n",
    "    \n",
    "    file_csv = file.split('.')[0] +'.csv'\n",
    "    # write it as a new CSV file\n",
    "    with open(os.path.join(folder, file_csv), \"w\") as f:\n",
    "        writer = csv.writer(f)\n",
    "        writer.writerows(datContent)\n",
    "        \n",
    "for f in ['movies.dat','users.dat','ratings.dat']:        \n",
    "    convert2csv('./ml-1m/',f)\n",
    "\n",
    "df_movies = pd.read_csv(\"./ml-1m/movies.csv\", sep = '::', header = None)\n",
    "columns = \"MovieID::Title::Genres\".split(\"::\")\n",
    "df_movies.columns = columns\n",
    "\n",
    "df_users = pd.read_csv(\"./ml-1m/users.csv\", sep = '::', header = None)\n",
    "cols = \"UserID::Gender::Age::Occupation::Zip-code\".split(\"::\")\n",
    "df_users.columns = cols\n",
    "\n",
    "df_ratings = pd.read_csv(\"./ml-1m/ratings.csv\", sep = '::', header = None)\n",
    "rating_col = \"UserID::MovieID::Rating::Timestamp\".split(\"::\")\n",
    "df_ratings.columns =rating_col "
   ]
  },
  {
   "cell_type": "code",
   "execution_count": 58,
   "metadata": {
    "id": "tMN7EK6gu7Ch",
    "tags": []
   },
   "outputs": [],
   "source": [
    "import re\n",
    "movieid = {}\n",
    "moviename = {}\n",
    "for mid, mti in zip(df_movies['MovieID'].tolist(), \n",
    "                    df_movies['Title'].tolist()):\n",
    "    mid = re.sub(\"[^\\d]\",\"\",str(mid))\n",
    "    if mid not in movieid:\n",
    "        movieid[mid] = len(mid)\n",
    "        moviename[len(movieid)] = mti\n",
    "        \n",
    "for mid in df_ratings['MovieID'].tolist():\n",
    "    mid = re.sub(\"[^\\d]\",\"\",str(mid))\n",
    "    if mid not in movieid:\n",
    "        movieid[movid] = len(movieid)\n",
    "        moviename[len(movieid)] = 'NaName'\n",
    "\n",
    "uidid = {}\n",
    "for uid in df_users['UserID'].tolist():\n",
    "    uid = re.sub(\"[^\\d]\",\"\",str(uid))\n",
    "    if uid not in uidid:\n",
    "        uidid[uid] = len(uidid)\n",
    "        \n",
    "for uid in df_ratings['UserID'].tolist():\n",
    "    uid = re.sub(\"[^\\d]\",\"\",str(uid))\n",
    "    if uid not in uidid:\n",
    "        uidid[uid] = len(uidid)"
   ]
  },
  {
   "cell_type": "code",
   "execution_count": 64,
   "metadata": {
    "id": "tMN7EK6gu7Ch",
    "tags": []
   },
   "outputs": [],
   "source": [
    "interactionMtx = np.zeros((len(uidid),len(movieid)))\n",
    "for i, j in df_ratings.iterrows():\n",
    "\n",
    "    user_id = re.sub(\"[^\\d]\",\"\",str(j['UserID']))\n",
    "    movie_id = re.sub(\"[^\\d]\",\"\",str(j['MovieID']))\n",
    "    \n",
    "    user_id = uidid[user_id]\n",
    "    movie_id = movieid[movie_id]\n",
    "    \n",
    "    interactionMtx[user_id,movie_id] = j['Rating']"
   ]
  },
  {
   "cell_type": "code",
   "execution_count": 65,
   "metadata": {
    "id": "tMN7EK6gu7Ch",
    "tags": []
   },
   "outputs": [
    {
     "data": {
      "text/plain": [
       "array([[0., 5., 5., ..., 0., 0., 0.],\n",
       "       [0., 0., 1., ..., 0., 0., 0.],\n",
       "       [0., 0., 0., ..., 0., 0., 0.],\n",
       "       ...,\n",
       "       [0., 0., 0., ..., 0., 0., 0.],\n",
       "       [0., 0., 3., ..., 0., 0., 0.],\n",
       "       [0., 3., 5., ..., 0., 0., 0.]])"
      ]
     },
     "execution_count": 65,
     "metadata": {},
     "output_type": "execute_result"
    }
   ],
   "source": [
    "interactionMtx"
   ]
  },
  {
   "cell_type": "markdown",
   "metadata": {
    "id": "tMN7EK6gu7Ch",
    "tags": []
   },
   "source": [
    "2) (5 pts)  Compute SVD of this matrix. Remeber that matrix $M$ is sparse (one user can hardly watch all the movies) so the good choice would be to use method from ```scipy.sparse.linalg``` package\n",
    "\n",
    "$$ M = USV^{\\top}, $$\n",
    "\n",
    "where $U$ is a $m \\times r $ orthogonal matrix with left singular vectors, which represents the relationship between users and latent factors, $S$ is a $r \\times r $ diagonal matrix, which describes the strength of each latent factor and $V^\\top$ is a $r \\times n$ matrix with right singular vectors, which represent the embeddings of  items (movies in our case) in latent space.\n",
    "Describe any simple heuristic to choose appropriate value for $r$ and explain why do you expect that it will work."
   ]
  },
  {
   "cell_type": "code",
   "execution_count": 92,
   "metadata": {
    "id": "qxYtnm7au7Ci",
    "tags": []
   },
   "outputs": [],
   "source": [
    "import scipy.sparse\n",
    "\n",
    "spIntMtx = sparse.csc_matrix(interactionMtx)\n",
    "\n",
    "U,S, V = sparse.linalg.svds(spIntMtx)"
   ]
  },
  {
   "cell_type": "markdown",
   "metadata": {
    "id": "SMXnKF5Tu7Cj",
    "tags": []
   },
   "source": [
    "3) (2 pts) In order to get weighted item-latent factors, we can multiply $S$ and $V^{T}$. Please, remember that $S$ is diagonal and multiply them efficiently."
   ]
  },
  {
   "cell_type": "code",
   "execution_count": 90,
   "metadata": {
    "id": "VEW4M5Ovu7Cj",
    "tags": []
   },
   "outputs": [
    {
     "name": "stdout",
     "output_type": "stream",
     "text": [
      "(6040, 6)\n",
      "(6, 6)\n",
      "(6, 3883)\n",
      "(6, 3883)\n"
     ]
    }
   ],
   "source": [
    "Smat = sparse.diags(sorted(S,reverse=True))\n",
    "\n",
    "print(U.shape)\n",
    "print(Smat.shape)\n",
    "print(V.shape)\n",
    "\n",
    "print((Smat@V).shape)"
   ]
  },
  {
   "cell_type": "markdown",
   "metadata": {
    "id": "eEMDQkkqu7Ck"
   },
   "source": [
    "Now we have vectors that represent our item space. In other words we have $N$ movies and $N$ vectors which describe each movie, a.k.a. embeddings. \n",
    "In order to know if two movies are similar or not we need just to check if the corresponding vectors are similair or not. How we can do this?\n",
    "\n",
    "4) (2 pts)  Implement the cosine metric. If the cosine metric between two vectors equals to $1$ both vectors are collinear, if $0$ vectors are orthogonal, as a result corresponding movies are completely different.\n",
    "\n",
    "$$\n",
    "cosine(u,v) = \\frac{u^{\\top}v}{\\|u\\|_2\\|v\\|_2}\n",
    "$$"
   ]
  },
  {
   "cell_type": "code",
   "execution_count": 91,
   "metadata": {
    "id": "lAR4dXMOOGI_",
    "tags": []
   },
   "outputs": [],
   "source": [
    "def cosine_metric(v1, v2):\n",
    "    return v1.T.dot(v2) / (np.linalg.norm(v1, ord=2) * np.linalg.norm(v2, ord=2))"
   ]
  },
  {
   "cell_type": "markdown",
   "metadata": {
    "id": "6wRZh8ALu7C1"
   },
   "source": [
    "5) (5 pts) Check your result. Implement the fuction, which finds and prints $k$ similar movies to the one you have chosen"
   ]
  },
  {
   "cell_type": "code",
   "execution_count": null,
   "metadata": {
    "id": "26g7MzeWu7C1"
   },
   "outputs": [],
   "source": [
    "# Your solutuion is here"
   ]
  },
  {
   "cell_type": "markdown",
   "metadata": {
    "id": "oPIQfKcmu7C2"
   },
   "source": [
    "Enjoy watching the recommended movies!\n"
   ]
  }
 ],
 "metadata": {
  "colab": {
   "collapsed_sections": [],
   "name": "hw2_problem_1_3.ipynb",
   "provenance": []
  },
  "kernelspec": {
   "display_name": "Python 3 (ipykernel)",
   "language": "python",
   "name": "python3"
  },
  "language_info": {
   "codemirror_mode": {
    "name": "ipython",
    "version": 3
   },
   "file_extension": ".py",
   "mimetype": "text/x-python",
   "name": "python",
   "nbconvert_exporter": "python",
   "pygments_lexer": "ipython3",
   "version": "3.8.10"
  }
 },
 "nbformat": 4,
 "nbformat_minor": 4
}
